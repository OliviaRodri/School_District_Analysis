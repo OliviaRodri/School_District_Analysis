{
 "cells": [
  {
   "cell_type": "code",
   "execution_count": 1,
   "metadata": {},
   "outputs": [],
   "source": [
    "# Add the Pandas dependency.\n",
    "import pandas as pd"
   ]
  },
  {
   "cell_type": "code",
   "execution_count": 2,
   "metadata": {},
   "outputs": [],
   "source": [
    "# Files to load\n",
    "school_data_to_load = \"Resources/schools_complete.csv\"\n",
    "student_data_to_load = \"Resources/students_complete.csv\""
   ]
  },
  {
   "cell_type": "code",
   "execution_count": 3,
   "metadata": {
    "scrolled": true
   },
   "outputs": [
    {
     "output_type": "execute_result",
     "data": {
      "text/plain": "    School ID            school_name      type  size   budget\n0           0      Huang High School  District  2917  1910635\n1           1   Figueroa High School  District  2949  1884411\n2           2    Shelton High School   Charter  1761  1056600\n3           3  Hernandez High School  District  4635  3022020\n4           4    Griffin High School   Charter  1468   917500\n5           5     Wilson High School   Charter  2283  1319574\n6           6    Cabrera High School   Charter  1858  1081356\n7           7     Bailey High School  District  4976  3124928\n8           8     Holden High School   Charter   427   248087\n9           9       Pena High School   Charter   962   585858\n10         10     Wright High School   Charter  1800  1049400\n11         11  Rodriguez High School  District  3999  2547363\n12         12    Johnson High School  District  4761  3094650\n13         13       Ford High School  District  2739  1763916\n14         14     Thomas High School   Charter  1635  1043130",
      "text/html": "<div>\n<style scoped>\n    .dataframe tbody tr th:only-of-type {\n        vertical-align: middle;\n    }\n\n    .dataframe tbody tr th {\n        vertical-align: top;\n    }\n\n    .dataframe thead th {\n        text-align: right;\n    }\n</style>\n<table border=\"1\" class=\"dataframe\">\n  <thead>\n    <tr style=\"text-align: right;\">\n      <th></th>\n      <th>School ID</th>\n      <th>school_name</th>\n      <th>type</th>\n      <th>size</th>\n      <th>budget</th>\n    </tr>\n  </thead>\n  <tbody>\n    <tr>\n      <th>0</th>\n      <td>0</td>\n      <td>Huang High School</td>\n      <td>District</td>\n      <td>2917</td>\n      <td>1910635</td>\n    </tr>\n    <tr>\n      <th>1</th>\n      <td>1</td>\n      <td>Figueroa High School</td>\n      <td>District</td>\n      <td>2949</td>\n      <td>1884411</td>\n    </tr>\n    <tr>\n      <th>2</th>\n      <td>2</td>\n      <td>Shelton High School</td>\n      <td>Charter</td>\n      <td>1761</td>\n      <td>1056600</td>\n    </tr>\n    <tr>\n      <th>3</th>\n      <td>3</td>\n      <td>Hernandez High School</td>\n      <td>District</td>\n      <td>4635</td>\n      <td>3022020</td>\n    </tr>\n    <tr>\n      <th>4</th>\n      <td>4</td>\n      <td>Griffin High School</td>\n      <td>Charter</td>\n      <td>1468</td>\n      <td>917500</td>\n    </tr>\n    <tr>\n      <th>5</th>\n      <td>5</td>\n      <td>Wilson High School</td>\n      <td>Charter</td>\n      <td>2283</td>\n      <td>1319574</td>\n    </tr>\n    <tr>\n      <th>6</th>\n      <td>6</td>\n      <td>Cabrera High School</td>\n      <td>Charter</td>\n      <td>1858</td>\n      <td>1081356</td>\n    </tr>\n    <tr>\n      <th>7</th>\n      <td>7</td>\n      <td>Bailey High School</td>\n      <td>District</td>\n      <td>4976</td>\n      <td>3124928</td>\n    </tr>\n    <tr>\n      <th>8</th>\n      <td>8</td>\n      <td>Holden High School</td>\n      <td>Charter</td>\n      <td>427</td>\n      <td>248087</td>\n    </tr>\n    <tr>\n      <th>9</th>\n      <td>9</td>\n      <td>Pena High School</td>\n      <td>Charter</td>\n      <td>962</td>\n      <td>585858</td>\n    </tr>\n    <tr>\n      <th>10</th>\n      <td>10</td>\n      <td>Wright High School</td>\n      <td>Charter</td>\n      <td>1800</td>\n      <td>1049400</td>\n    </tr>\n    <tr>\n      <th>11</th>\n      <td>11</td>\n      <td>Rodriguez High School</td>\n      <td>District</td>\n      <td>3999</td>\n      <td>2547363</td>\n    </tr>\n    <tr>\n      <th>12</th>\n      <td>12</td>\n      <td>Johnson High School</td>\n      <td>District</td>\n      <td>4761</td>\n      <td>3094650</td>\n    </tr>\n    <tr>\n      <th>13</th>\n      <td>13</td>\n      <td>Ford High School</td>\n      <td>District</td>\n      <td>2739</td>\n      <td>1763916</td>\n    </tr>\n    <tr>\n      <th>14</th>\n      <td>14</td>\n      <td>Thomas High School</td>\n      <td>Charter</td>\n      <td>1635</td>\n      <td>1043130</td>\n    </tr>\n  </tbody>\n</table>\n</div>"
     },
     "metadata": {},
     "execution_count": 3
    }
   ],
   "source": [
    "# Read the school data file and store it in a Pandas DataFrame.\n",
    "school_data_df = pd.read_csv(school_data_to_load)\n",
    "school_data_df"
   ]
  },
  {
   "cell_type": "code",
   "execution_count": 4,
   "metadata": {},
   "outputs": [
    {
     "output_type": "execute_result",
     "data": {
      "text/plain": "   Student ID       student_name gender grade        school_name  \\\n0           0       Paul Bradley      M   9th  Huang High School   \n1           1       Victor Smith      M  12th  Huang High School   \n2           2    Kevin Rodriguez      M  12th  Huang High School   \n3           3  Dr. Richard Scott      M  12th  Huang High School   \n4           4         Bonnie Ray      F   9th  Huang High School   \n\n   reading_score  math_score  \n0             66          79  \n1             94          61  \n2             90          60  \n3             67          58  \n4             97          84  ",
      "text/html": "<div>\n<style scoped>\n    .dataframe tbody tr th:only-of-type {\n        vertical-align: middle;\n    }\n\n    .dataframe tbody tr th {\n        vertical-align: top;\n    }\n\n    .dataframe thead th {\n        text-align: right;\n    }\n</style>\n<table border=\"1\" class=\"dataframe\">\n  <thead>\n    <tr style=\"text-align: right;\">\n      <th></th>\n      <th>Student ID</th>\n      <th>student_name</th>\n      <th>gender</th>\n      <th>grade</th>\n      <th>school_name</th>\n      <th>reading_score</th>\n      <th>math_score</th>\n    </tr>\n  </thead>\n  <tbody>\n    <tr>\n      <th>0</th>\n      <td>0</td>\n      <td>Paul Bradley</td>\n      <td>M</td>\n      <td>9th</td>\n      <td>Huang High School</td>\n      <td>66</td>\n      <td>79</td>\n    </tr>\n    <tr>\n      <th>1</th>\n      <td>1</td>\n      <td>Victor Smith</td>\n      <td>M</td>\n      <td>12th</td>\n      <td>Huang High School</td>\n      <td>94</td>\n      <td>61</td>\n    </tr>\n    <tr>\n      <th>2</th>\n      <td>2</td>\n      <td>Kevin Rodriguez</td>\n      <td>M</td>\n      <td>12th</td>\n      <td>Huang High School</td>\n      <td>90</td>\n      <td>60</td>\n    </tr>\n    <tr>\n      <th>3</th>\n      <td>3</td>\n      <td>Dr. Richard Scott</td>\n      <td>M</td>\n      <td>12th</td>\n      <td>Huang High School</td>\n      <td>67</td>\n      <td>58</td>\n    </tr>\n    <tr>\n      <th>4</th>\n      <td>4</td>\n      <td>Bonnie Ray</td>\n      <td>F</td>\n      <td>9th</td>\n      <td>Huang High School</td>\n      <td>97</td>\n      <td>84</td>\n    </tr>\n  </tbody>\n</table>\n</div>"
     },
     "metadata": {},
     "execution_count": 4
    }
   ],
   "source": [
    "# Read the student data file and store it in a Pandas DataFrame.\n",
    "student_data_df = pd.read_csv(student_data_to_load)\n",
    "student_data_df.head()"
   ]
  },
  {
   "cell_type": "code",
   "execution_count": 5,
   "metadata": {},
   "outputs": [
    {
     "output_type": "execute_result",
     "data": {
      "text/plain": "School ID      15\nschool_name    15\ntype           15\nsize           15\nbudget         15\ndtype: int64"
     },
     "metadata": {},
     "execution_count": 5
    }
   ],
   "source": [
    "# Determine if there are any missing values in the school data.\n",
    "school_data_df.count()"
   ]
  },
  {
   "cell_type": "code",
   "execution_count": 6,
   "metadata": {},
   "outputs": [
    {
     "output_type": "execute_result",
     "data": {
      "text/plain": "Student ID       39170\nstudent_name     39170\ngender           39170\ngrade            39170\nschool_name      39170\nreading_score    39170\nmath_score       39170\ndtype: int64"
     },
     "metadata": {},
     "execution_count": 6
    }
   ],
   "source": [
    "# Determine if there are any missing values in the student data.\n",
    "student_data_df.count()"
   ]
  },
  {
   "cell_type": "code",
   "execution_count": 7,
   "metadata": {},
   "outputs": [
    {
     "output_type": "execute_result",
     "data": {
      "text/plain": "    School ID  school_name   type   size  budget\n0       False        False  False  False   False\n1       False        False  False  False   False\n2       False        False  False  False   False\n3       False        False  False  False   False\n4       False        False  False  False   False\n5       False        False  False  False   False\n6       False        False  False  False   False\n7       False        False  False  False   False\n8       False        False  False  False   False\n9       False        False  False  False   False\n10      False        False  False  False   False\n11      False        False  False  False   False\n12      False        False  False  False   False\n13      False        False  False  False   False\n14      False        False  False  False   False",
      "text/html": "<div>\n<style scoped>\n    .dataframe tbody tr th:only-of-type {\n        vertical-align: middle;\n    }\n\n    .dataframe tbody tr th {\n        vertical-align: top;\n    }\n\n    .dataframe thead th {\n        text-align: right;\n    }\n</style>\n<table border=\"1\" class=\"dataframe\">\n  <thead>\n    <tr style=\"text-align: right;\">\n      <th></th>\n      <th>School ID</th>\n      <th>school_name</th>\n      <th>type</th>\n      <th>size</th>\n      <th>budget</th>\n    </tr>\n  </thead>\n  <tbody>\n    <tr>\n      <th>0</th>\n      <td>False</td>\n      <td>False</td>\n      <td>False</td>\n      <td>False</td>\n      <td>False</td>\n    </tr>\n    <tr>\n      <th>1</th>\n      <td>False</td>\n      <td>False</td>\n      <td>False</td>\n      <td>False</td>\n      <td>False</td>\n    </tr>\n    <tr>\n      <th>2</th>\n      <td>False</td>\n      <td>False</td>\n      <td>False</td>\n      <td>False</td>\n      <td>False</td>\n    </tr>\n    <tr>\n      <th>3</th>\n      <td>False</td>\n      <td>False</td>\n      <td>False</td>\n      <td>False</td>\n      <td>False</td>\n    </tr>\n    <tr>\n      <th>4</th>\n      <td>False</td>\n      <td>False</td>\n      <td>False</td>\n      <td>False</td>\n      <td>False</td>\n    </tr>\n    <tr>\n      <th>5</th>\n      <td>False</td>\n      <td>False</td>\n      <td>False</td>\n      <td>False</td>\n      <td>False</td>\n    </tr>\n    <tr>\n      <th>6</th>\n      <td>False</td>\n      <td>False</td>\n      <td>False</td>\n      <td>False</td>\n      <td>False</td>\n    </tr>\n    <tr>\n      <th>7</th>\n      <td>False</td>\n      <td>False</td>\n      <td>False</td>\n      <td>False</td>\n      <td>False</td>\n    </tr>\n    <tr>\n      <th>8</th>\n      <td>False</td>\n      <td>False</td>\n      <td>False</td>\n      <td>False</td>\n      <td>False</td>\n    </tr>\n    <tr>\n      <th>9</th>\n      <td>False</td>\n      <td>False</td>\n      <td>False</td>\n      <td>False</td>\n      <td>False</td>\n    </tr>\n    <tr>\n      <th>10</th>\n      <td>False</td>\n      <td>False</td>\n      <td>False</td>\n      <td>False</td>\n      <td>False</td>\n    </tr>\n    <tr>\n      <th>11</th>\n      <td>False</td>\n      <td>False</td>\n      <td>False</td>\n      <td>False</td>\n      <td>False</td>\n    </tr>\n    <tr>\n      <th>12</th>\n      <td>False</td>\n      <td>False</td>\n      <td>False</td>\n      <td>False</td>\n      <td>False</td>\n    </tr>\n    <tr>\n      <th>13</th>\n      <td>False</td>\n      <td>False</td>\n      <td>False</td>\n      <td>False</td>\n      <td>False</td>\n    </tr>\n    <tr>\n      <th>14</th>\n      <td>False</td>\n      <td>False</td>\n      <td>False</td>\n      <td>False</td>\n      <td>False</td>\n    </tr>\n  </tbody>\n</table>\n</div>"
     },
     "metadata": {},
     "execution_count": 7
    }
   ],
   "source": [
    "# Determine if there are any missing values in the school data.\n",
    "school_data_df.isnull()"
   ]
  },
  {
   "cell_type": "code",
   "execution_count": 8,
   "metadata": {},
   "outputs": [
    {
     "output_type": "execute_result",
     "data": {
      "text/plain": "       Student ID  student_name  gender  grade  school_name  reading_score  \\\n0           False         False   False  False        False          False   \n1           False         False   False  False        False          False   \n2           False         False   False  False        False          False   \n3           False         False   False  False        False          False   \n4           False         False   False  False        False          False   \n...           ...           ...     ...    ...          ...            ...   \n39165       False         False   False  False        False          False   \n39166       False         False   False  False        False          False   \n39167       False         False   False  False        False          False   \n39168       False         False   False  False        False          False   \n39169       False         False   False  False        False          False   \n\n       math_score  \n0           False  \n1           False  \n2           False  \n3           False  \n4           False  \n...           ...  \n39165       False  \n39166       False  \n39167       False  \n39168       False  \n39169       False  \n\n[39170 rows x 7 columns]",
      "text/html": "<div>\n<style scoped>\n    .dataframe tbody tr th:only-of-type {\n        vertical-align: middle;\n    }\n\n    .dataframe tbody tr th {\n        vertical-align: top;\n    }\n\n    .dataframe thead th {\n        text-align: right;\n    }\n</style>\n<table border=\"1\" class=\"dataframe\">\n  <thead>\n    <tr style=\"text-align: right;\">\n      <th></th>\n      <th>Student ID</th>\n      <th>student_name</th>\n      <th>gender</th>\n      <th>grade</th>\n      <th>school_name</th>\n      <th>reading_score</th>\n      <th>math_score</th>\n    </tr>\n  </thead>\n  <tbody>\n    <tr>\n      <th>0</th>\n      <td>False</td>\n      <td>False</td>\n      <td>False</td>\n      <td>False</td>\n      <td>False</td>\n      <td>False</td>\n      <td>False</td>\n    </tr>\n    <tr>\n      <th>1</th>\n      <td>False</td>\n      <td>False</td>\n      <td>False</td>\n      <td>False</td>\n      <td>False</td>\n      <td>False</td>\n      <td>False</td>\n    </tr>\n    <tr>\n      <th>2</th>\n      <td>False</td>\n      <td>False</td>\n      <td>False</td>\n      <td>False</td>\n      <td>False</td>\n      <td>False</td>\n      <td>False</td>\n    </tr>\n    <tr>\n      <th>3</th>\n      <td>False</td>\n      <td>False</td>\n      <td>False</td>\n      <td>False</td>\n      <td>False</td>\n      <td>False</td>\n      <td>False</td>\n    </tr>\n    <tr>\n      <th>4</th>\n      <td>False</td>\n      <td>False</td>\n      <td>False</td>\n      <td>False</td>\n      <td>False</td>\n      <td>False</td>\n      <td>False</td>\n    </tr>\n    <tr>\n      <th>...</th>\n      <td>...</td>\n      <td>...</td>\n      <td>...</td>\n      <td>...</td>\n      <td>...</td>\n      <td>...</td>\n      <td>...</td>\n    </tr>\n    <tr>\n      <th>39165</th>\n      <td>False</td>\n      <td>False</td>\n      <td>False</td>\n      <td>False</td>\n      <td>False</td>\n      <td>False</td>\n      <td>False</td>\n    </tr>\n    <tr>\n      <th>39166</th>\n      <td>False</td>\n      <td>False</td>\n      <td>False</td>\n      <td>False</td>\n      <td>False</td>\n      <td>False</td>\n      <td>False</td>\n    </tr>\n    <tr>\n      <th>39167</th>\n      <td>False</td>\n      <td>False</td>\n      <td>False</td>\n      <td>False</td>\n      <td>False</td>\n      <td>False</td>\n      <td>False</td>\n    </tr>\n    <tr>\n      <th>39168</th>\n      <td>False</td>\n      <td>False</td>\n      <td>False</td>\n      <td>False</td>\n      <td>False</td>\n      <td>False</td>\n      <td>False</td>\n    </tr>\n    <tr>\n      <th>39169</th>\n      <td>False</td>\n      <td>False</td>\n      <td>False</td>\n      <td>False</td>\n      <td>False</td>\n      <td>False</td>\n      <td>False</td>\n    </tr>\n  </tbody>\n</table>\n<p>39170 rows × 7 columns</p>\n</div>"
     },
     "metadata": {},
     "execution_count": 8
    }
   ],
   "source": [
    "# Determine if there are any missing values in the student data.\n",
    "student_data_df.isnull()"
   ]
  },
  {
   "cell_type": "code",
   "execution_count": 9,
   "metadata": {},
   "outputs": [
    {
     "output_type": "execute_result",
     "data": {
      "text/plain": "Student ID       0\nstudent_name     0\ngender           0\ngrade            0\nschool_name      0\nreading_score    0\nmath_score       0\ndtype: int64"
     },
     "metadata": {},
     "execution_count": 9
    }
   ],
   "source": [
    "# Determine if there are any missing values in the student data.\n",
    "student_data_df.isnull().sum()"
   ]
  },
  {
   "cell_type": "code",
   "execution_count": 10,
   "metadata": {},
   "outputs": [
    {
     "output_type": "execute_result",
     "data": {
      "text/plain": "    School ID  school_name  type  size  budget\n0        True         True  True  True    True\n1        True         True  True  True    True\n2        True         True  True  True    True\n3        True         True  True  True    True\n4        True         True  True  True    True\n5        True         True  True  True    True\n6        True         True  True  True    True\n7        True         True  True  True    True\n8        True         True  True  True    True\n9        True         True  True  True    True\n10       True         True  True  True    True\n11       True         True  True  True    True\n12       True         True  True  True    True\n13       True         True  True  True    True\n14       True         True  True  True    True",
      "text/html": "<div>\n<style scoped>\n    .dataframe tbody tr th:only-of-type {\n        vertical-align: middle;\n    }\n\n    .dataframe tbody tr th {\n        vertical-align: top;\n    }\n\n    .dataframe thead th {\n        text-align: right;\n    }\n</style>\n<table border=\"1\" class=\"dataframe\">\n  <thead>\n    <tr style=\"text-align: right;\">\n      <th></th>\n      <th>School ID</th>\n      <th>school_name</th>\n      <th>type</th>\n      <th>size</th>\n      <th>budget</th>\n    </tr>\n  </thead>\n  <tbody>\n    <tr>\n      <th>0</th>\n      <td>True</td>\n      <td>True</td>\n      <td>True</td>\n      <td>True</td>\n      <td>True</td>\n    </tr>\n    <tr>\n      <th>1</th>\n      <td>True</td>\n      <td>True</td>\n      <td>True</td>\n      <td>True</td>\n      <td>True</td>\n    </tr>\n    <tr>\n      <th>2</th>\n      <td>True</td>\n      <td>True</td>\n      <td>True</td>\n      <td>True</td>\n      <td>True</td>\n    </tr>\n    <tr>\n      <th>3</th>\n      <td>True</td>\n      <td>True</td>\n      <td>True</td>\n      <td>True</td>\n      <td>True</td>\n    </tr>\n    <tr>\n      <th>4</th>\n      <td>True</td>\n      <td>True</td>\n      <td>True</td>\n      <td>True</td>\n      <td>True</td>\n    </tr>\n    <tr>\n      <th>5</th>\n      <td>True</td>\n      <td>True</td>\n      <td>True</td>\n      <td>True</td>\n      <td>True</td>\n    </tr>\n    <tr>\n      <th>6</th>\n      <td>True</td>\n      <td>True</td>\n      <td>True</td>\n      <td>True</td>\n      <td>True</td>\n    </tr>\n    <tr>\n      <th>7</th>\n      <td>True</td>\n      <td>True</td>\n      <td>True</td>\n      <td>True</td>\n      <td>True</td>\n    </tr>\n    <tr>\n      <th>8</th>\n      <td>True</td>\n      <td>True</td>\n      <td>True</td>\n      <td>True</td>\n      <td>True</td>\n    </tr>\n    <tr>\n      <th>9</th>\n      <td>True</td>\n      <td>True</td>\n      <td>True</td>\n      <td>True</td>\n      <td>True</td>\n    </tr>\n    <tr>\n      <th>10</th>\n      <td>True</td>\n      <td>True</td>\n      <td>True</td>\n      <td>True</td>\n      <td>True</td>\n    </tr>\n    <tr>\n      <th>11</th>\n      <td>True</td>\n      <td>True</td>\n      <td>True</td>\n      <td>True</td>\n      <td>True</td>\n    </tr>\n    <tr>\n      <th>12</th>\n      <td>True</td>\n      <td>True</td>\n      <td>True</td>\n      <td>True</td>\n      <td>True</td>\n    </tr>\n    <tr>\n      <th>13</th>\n      <td>True</td>\n      <td>True</td>\n      <td>True</td>\n      <td>True</td>\n      <td>True</td>\n    </tr>\n    <tr>\n      <th>14</th>\n      <td>True</td>\n      <td>True</td>\n      <td>True</td>\n      <td>True</td>\n      <td>True</td>\n    </tr>\n  </tbody>\n</table>\n</div>"
     },
     "metadata": {},
     "execution_count": 10
    }
   ],
   "source": [
    "# Determine if there are not any missing values in the school data.\n",
    "school_data_df.notnull()"
   ]
  },
  {
   "cell_type": "code",
   "execution_count": 11,
   "metadata": {},
   "outputs": [
    {
     "output_type": "execute_result",
     "data": {
      "text/plain": "Student ID       39170\nstudent_name     39170\ngender           39170\ngrade            39170\nschool_name      39170\nreading_score    39170\nmath_score       39170\ndtype: int64"
     },
     "metadata": {},
     "execution_count": 11
    }
   ],
   "source": [
    "# Determine if there are not any missing values in the student data.\n",
    "student_data_df.notnull().sum()"
   ]
  },
  {
   "cell_type": "code",
   "execution_count": 12,
   "metadata": {},
   "outputs": [
    {
     "output_type": "execute_result",
     "data": {
      "text/plain": "School ID       int64\nschool_name    object\ntype           object\nsize            int64\nbudget          int64\ndtype: object"
     },
     "metadata": {},
     "execution_count": 12
    }
   ],
   "source": [
    "# Determine data types for the school DataFrame.\n",
    "school_data_df.dtypes"
   ]
  },
  {
   "cell_type": "code",
   "execution_count": 13,
   "metadata": {},
   "outputs": [
    {
     "output_type": "execute_result",
     "data": {
      "text/plain": "Student ID        int64\nstudent_name     object\ngender           object\ngrade            object\nschool_name      object\nreading_score     int64\nmath_score        int64\ndtype: object"
     },
     "metadata": {},
     "execution_count": 13
    }
   ],
   "source": [
    "# Determine data types for the student DataFrame.\n",
    "student_data_df.dtypes"
   ]
  },
  {
   "cell_type": "code",
   "execution_count": 14,
   "metadata": {},
   "outputs": [
    {
     "output_type": "execute_result",
     "data": {
      "text/plain": "['Paul Bradley',\n 'Victor Smith',\n 'Kevin Rodriguez',\n 'Dr. Richard Scott',\n 'Bonnie Ray',\n 'Bryan Miranda',\n 'Sheena Carter',\n 'Nicole Baker',\n 'Michael Roth',\n 'Matthew Greene',\n 'Andrew Alexander',\n 'Daniel Cooper',\n 'Brittney Walker',\n 'William Long',\n 'Tammy Hebert',\n 'Dr. Jordan Carson',\n 'Donald Zamora',\n 'Kimberly Santiago',\n 'Kevin Stevens',\n 'Brandi Lyons',\n 'Lisa Davis',\n 'Kristen Lopez',\n 'Kimberly Stewart',\n 'Christopher Parker',\n 'Chelsea Griffith',\n 'Cesar Morris',\n 'Melanie Decker',\n 'Tracey Oconnor',\n 'Kelly James',\n 'Nicole Brown',\n 'Bobby Harris',\n 'Brian Fernandez',\n 'Candace Phelps',\n 'Amy Gonzalez',\n 'Steven Green',\n 'Benjamin Carlson',\n 'Kevin Bailey',\n 'Jesse Newton',\n 'Kimberly Mercado',\n 'Gregory Roberts',\n 'Matthew Mayer',\n 'Jennifer Parks',\n 'John Carlson',\n 'Megan Roberts',\n 'Debra Flores',\n 'Heidi Jackson',\n 'Denise Bradford',\n 'Ellen Brown',\n 'Amy Perkins',\n 'Natalie Mitchell',\n 'Tiffany Gutierrez',\n 'Jennifer Hess',\n 'Christine Fletcher',\n 'Jon Smith',\n 'Tracey Yates',\n 'Jerry Gordon',\n 'Michael Cox',\n 'Madeline Snyder MD',\n 'Allison King',\n 'Theresa Meyer',\n 'Jared Wood',\n 'Eric Maynard',\n 'Mark Owens',\n 'Ronnie Conley',\n 'Kimberly Davis',\n 'Amy Mitchell',\n 'Mr. Dylan Taylor MD',\n 'Elizabeth Henderson',\n 'James Lopez',\n 'Michael Morgan',\n 'Angela Francis',\n 'Breanna Taylor',\n 'Jason Johnson',\n 'Kyle Martin',\n 'Dr. Scott Gill',\n 'Lisa Long',\n 'Erin Liu',\n 'Marcus Richards',\n 'Jason Thompson',\n 'Elizabeth Mckinney',\n 'Jessica Bailey',\n 'Lisa Frye',\n 'Lindsey Baker',\n 'Lisa Ramirez',\n 'Joseph Butler',\n 'Tina Lynch',\n 'Leah Benitez',\n 'Elizabeth Parker',\n 'Melissa Hunter',\n 'Miss Madison Everett',\n 'Ronald Garcia',\n 'Mark Cherry',\n 'Ryan Stokes',\n 'Isaiah Maldonado',\n 'Micheal Dennis',\n 'Kevin Martinez',\n 'Jessica Smith',\n 'Dawn Trujillo',\n 'Virginia Ramirez MD',\n 'Marc Hernandez',\n 'Jose Gonzalez',\n 'Jason Dennis',\n 'Gary Morris',\n 'William Mcdonald',\n 'Michael Savage',\n 'Alexis Todd',\n 'David Hansen',\n 'Steven Mendez',\n 'Ryan Lynch',\n 'Timothy Marks',\n 'Alexander Johns',\n 'Kenneth Chavez',\n 'Dennis Williams',\n 'Michael Roy',\n 'Richard Ryan',\n 'Matthew Reyes',\n 'Stephanie Ward',\n 'Christopher Tucker',\n 'Daniel Jones',\n 'Devin Craig',\n 'Erin Prince',\n 'Bernard Ortiz',\n 'Nicole Miller',\n 'Christopher Fritz',\n 'Bonnie Mckinney',\n 'Troy Nelson',\n 'Jennifer Lee',\n 'Ronald Ward',\n 'Nathaniel Hampton',\n 'Michael Travis',\n 'James Taylor',\n 'Thomas Strickland',\n 'Brittany Jackson',\n 'Marisa Lowe',\n 'Nicole Thomas',\n 'Matthew Rodriguez',\n 'Kent Fernandez',\n 'Michelle Martin',\n 'John Sparks',\n 'Ann Blake',\n 'Melissa Miller',\n 'Steven Houston',\n 'Kristen Anderson',\n 'Cory Jones',\n 'Jennifer Mora',\n 'Dennis Griffin',\n 'Darryl Brown',\n 'Martin Mosley',\n 'Joyce Diaz',\n 'Jeffrey Rose',\n 'Jamie Moreno',\n 'Catherine Williams',\n 'Lauren Byrd',\n 'Vanessa Frazier',\n 'Stephen Bryant',\n 'Lawrence Liu',\n 'Joseph Larsen',\n 'Susan Collier',\n 'Meagan Jensen',\n 'Julie Harper',\n 'Meghan Carroll',\n 'Wanda Horton',\n 'Mary Campbell',\n 'Jennifer Rodgers',\n 'Heather Cooper',\n 'Ryan Perez',\n 'Ryan Cox',\n 'Darren Zavala',\n 'Joseph Morales III',\n 'Aaron West',\n 'James Combs',\n 'Curtis Garner',\n 'Sarah Miller',\n 'Samantha Thomas',\n 'Robert Atkins',\n 'Alexis Crawford',\n 'Ryan Maddox',\n 'Jonathan Meyer',\n 'Donna Wagner',\n 'William Kennedy',\n 'Kimberly Martinez',\n 'Matthew Anderson',\n 'Kari Miller',\n 'Jenna Luna',\n 'Justin Contreras',\n 'Mary Fox',\n 'Joseph Perkins',\n 'Kelly Phillips',\n 'Justin Thornton',\n 'Joshua Barber',\n 'Travis Jackson',\n 'Jordan Beasley',\n 'Kevin Allen',\n 'Victoria Harris',\n 'Victoria Joseph',\n 'Brandy Marshall',\n 'Ryan Jimenez',\n 'Michael Chan',\n 'Christopher Phillips',\n 'Kevin Murphy',\n 'Vanessa Harper',\n 'James Ferguson',\n 'Carol Schroeder',\n 'Jerry Phillips',\n 'Kristin Wade',\n 'Jessica Warner',\n 'Dorothy Burke',\n 'Bethany Walter',\n 'Melissa Avery',\n 'Daniel Sutton',\n 'Ryan Johnson',\n 'Timothy Quinn',\n 'Zachary Allen',\n 'Lauren Schmitt',\n 'Stephanie Armstrong',\n 'Ruben Rivera',\n 'Patricia Petty',\n 'Joseph Jacobs',\n 'Bianca Wilson',\n 'Donald Perez',\n 'Curtis Gomez',\n 'Courtney Brown',\n 'Nicole Randall',\n 'Steven Lambert',\n 'Anthony Alvarez',\n 'Shawn Farrell',\n 'Jesus Schmidt',\n 'Laura Wright',\n 'Steven Smith',\n 'Norman Thompson',\n 'Anthony Wright',\n 'Kayla Watts',\n 'Aimee Johnson',\n 'Heidi Scott',\n 'Anthony Williams',\n 'Sarah Hill',\n 'Kim Wang',\n 'Beth Manning',\n 'Ryan Hanson',\n 'James Wood',\n 'Corey Greene',\n 'John Carter',\n 'Beth Garza',\n 'Karen Jones',\n 'Stephanie Poole',\n 'Lisa Brown',\n 'Paul Scott',\n 'Evelyn Buck',\n 'Terry Harrell',\n 'Leah Skinner',\n 'Anthony Mercado',\n 'Walter Kelly',\n 'Lori Evans',\n 'Ashley Jones',\n 'Amber Soto',\n 'Patrick Phillips',\n 'Linda Curry',\n 'Alexander Obrien',\n 'Vincent Garza',\n 'Terry Marsh',\n 'Angela Perkins DVM',\n 'Peter Hampton',\n 'David Cross',\n 'Clinton Ortega',\n 'Jamie Escobar',\n 'Sandra Mason',\n 'Craig Cole',\n 'Lisa Warren',\n 'Maria Howard',\n 'Michael Porter',\n 'John Turner',\n 'Timothy Wang',\n 'Amanda Taylor',\n 'Karen Mckenzie',\n 'Brandon Miles',\n 'Christina Whitaker',\n 'Nicole Peterson',\n 'Ashley Moore',\n 'Todd Carrillo',\n 'Robert Williams',\n 'Ashley Jones',\n 'Vanessa Parker',\n 'Robert Carlson',\n 'Jared Lewis',\n 'Christopher Hernandez',\n 'Kimberly Harris',\n 'Katrina Hill',\n 'Heather Lee',\n 'Donald Harmon',\n 'Elizabeth Sanders',\n 'Richard Ramsey',\n 'Carmen Johnson',\n 'Elaine Osborne',\n 'Kent Burns',\n 'Meagan Smith',\n 'Craig Hahn',\n 'Jeremy Wu',\n 'Aaron Rodriguez',\n 'Matthew Taylor',\n 'Diana Evans',\n 'Michele Pearson',\n 'Erik Wagner',\n 'Maria Welch',\n 'Debra Martin',\n 'Devon Conner',\n 'Christine Patel',\n 'David Lopez',\n 'Nathan Baird',\n 'Samuel Castillo',\n 'Rebecca Payne',\n 'Carl Johnson',\n 'William Adams',\n 'Paula Harrison',\n 'Wayne Atkinson',\n 'Lindsay Frank',\n 'Jose Garcia',\n 'Andrew Gaines',\n 'Rachael Liu',\n 'Donald Lewis',\n 'Shane Edwards',\n 'Todd Levy',\n 'Joanna Moore',\n 'Michael Lewis',\n 'James Robinson',\n 'Jeffrey Arellano',\n 'Heather Allen MD',\n 'Lori Villarreal',\n 'Robert Harper',\n 'Karen Villegas',\n 'Tracey Crane',\n 'Elizabeth Allen',\n 'Jorge Lynn',\n 'Harold Gordon',\n 'Nicholas Mcclain',\n 'Tanya Harris',\n 'Amy Smith',\n 'Kathy Morse',\n 'Andrea Wood',\n 'Maureen Massey',\n 'Daniel Smith',\n 'Alexandra Smith',\n 'Caitlin Hall',\n 'Jose Carlson',\n 'Deborah Macias',\n 'Dwayne Rice',\n 'Matthew Harris',\n 'Eric Bowman',\n 'Samuel Ali',\n 'David Miller',\n 'James Moreno',\n 'Brooke Austin',\n 'Alisha Martin',\n 'Neil Rodriguez',\n 'Gary Williams',\n 'Michael Pittman',\n 'Stephanie Palmer',\n 'Christine Perry',\n 'Suzanne David',\n 'Amber Smith',\n 'Ryan Jones',\n 'Emily Ford',\n 'Kelsey Shea',\n 'Katherine Wallace',\n 'Erica Conway',\n 'Tyler Parker',\n 'Michael Parks',\n 'Elizabeth Hunt',\n 'Grant Jackson',\n 'Daniel Matthews',\n 'Diana Silva',\n 'Frank Garza',\n 'Terri Fischer',\n 'Robert Goodwin',\n 'Bobby Ruiz',\n 'Stephanie Taylor',\n 'Erin Hill',\n 'Erin Cohen',\n 'Jeffrey Morris',\n 'Elizabeth Simpson',\n 'Jennifer Davis',\n 'Rachel Burton',\n 'Joseph Wilkins',\n 'Lawrence Montgomery',\n 'Patricia Howard',\n 'Jessica Hanson',\n 'Donna Dean',\n 'Edwin Reid',\n 'Jodi Brown',\n 'Elizabeth Richard',\n 'Aaron Martinez',\n 'Stephen Fischer',\n 'Diana Reeves',\n 'Jeffrey Eaton',\n 'Evelyn Miller',\n 'Christopher Kidd',\n 'Sarah Adams',\n 'Melinda Nelson',\n 'Kevin Brooks',\n 'John Bowen',\n 'Tracie Abbott',\n 'Allen Foster',\n 'Kathryn Elliott',\n 'Christopher Walker',\n 'Cynthia Martin',\n 'Amanda Bennett',\n 'Dennis Padilla',\n 'Antonio Miller',\n 'Melissa Trevino',\n 'Andrew King',\n 'John Martinez',\n 'Lauren King',\n 'Stephanie Mercado',\n 'William Smith',\n 'Jonathan Marshall',\n 'Luke Lowery MD',\n 'Emily Reynolds',\n 'Kevin Mclean',\n 'Elizabeth Taylor',\n 'Pamela Rivas',\n 'Tammy Martin',\n 'Holly Watkins',\n 'Patrick Chen',\n 'Michelle Griffin',\n 'Theresa Andrews',\n 'Alan Henry',\n 'Dr. Larry Hines',\n 'Travis Frazier',\n 'Julie Jones',\n 'Natalie Reynolds',\n 'Jessica Cohen',\n 'Jason Robinson',\n 'Heather Palmer',\n 'Emily Cardenas MD',\n 'Scott Glover',\n 'Jacqueline White',\n 'Mrs. Elizabeth Espinoza DDS',\n 'Toni Porter',\n 'Jennifer Mejia',\n 'Brenda Peterson',\n 'Paul Hamilton',\n 'Patricia Nguyen',\n 'James Ho',\n 'Elizabeth Cohen',\n 'Stephanie Lane',\n 'Dawn Rhodes',\n 'Theresa Robinson',\n 'Breanna Mosley',\n 'Carmen Wilson',\n 'Ian Brown',\n 'Kathleen Matthews',\n 'Bryan Diaz',\n 'Gina Sweeney',\n 'Alan Garcia',\n 'Erik Wheeler',\n 'Stephanie Robles',\n 'Samantha Hanson',\n 'Christopher Williams',\n 'Stephanie Hart',\n 'Mrs. Lisa Becker',\n 'Bianca Johnson',\n 'Amy Steele',\n 'Gina Contreras',\n 'Jaime Alexander',\n 'Kevin Coleman',\n 'Caitlin Williams',\n 'Joseph Lloyd',\n 'Carrie Hernandez',\n 'Mr. Travis Young',\n 'Francis Wright',\n 'Joel Harper',\n 'Eduardo Park',\n 'Melissa Yoder',\n 'Donna Campbell',\n 'Connie Delacruz',\n 'Luis Parker',\n 'Pamela Watts',\n 'Lindsey Mitchell',\n 'Brenda Price',\n 'Joseph Howard',\n 'Amy Evans',\n 'Paula Fernandez DVM',\n 'Amber Cunningham',\n 'Preston Wheeler',\n 'James Lopez',\n 'Chad Drake',\n 'Samuel Blackburn',\n 'Shawn Nielsen',\n 'Eric Perez',\n 'Kevin Montgomery',\n 'Terry Thomas',\n 'Kim Meyer',\n 'Michael Townsend',\n 'Ronnie Rodriguez',\n 'Savannah Smith',\n 'Shane Nguyen',\n 'Michael Brown',\n 'Robert Young',\n 'Daniel Griffin',\n 'James Johnson',\n 'Mary Cox',\n 'Tina Aguirre',\n 'Jillian Mcdonald',\n 'Matthew Branch',\n 'Christopher Jordan',\n 'Victor Mcguire',\n 'Erin Arnold',\n 'Nicholas Wu',\n 'Kristen Wilson',\n 'Morgan Moore',\n 'Stephen Smith',\n 'Jeremy Romero',\n 'Julie Bush',\n 'Brittany Taylor',\n 'James Kim',\n 'Ashley Roberts',\n 'Brandon Johnson',\n 'David Davenport',\n 'Mark Washington',\n 'Alicia Marshall',\n 'Barbara Santana',\n 'Samantha Parker',\n 'Joseph Walters',\n 'Michael Zamora',\n 'Kyle Cobb',\n 'Jill Clark',\n 'Sarah Warren',\n 'Jennifer Robinson',\n 'Patricia Johnson',\n 'Henry Evans',\n 'Alexander Ramsey',\n 'Brandon Stephens',\n 'Jeff Holland',\n 'Samuel Schultz',\n 'Brett Johnson',\n 'Daniel Sherman',\n 'Justin Mccall',\n 'Jonathan Evans',\n 'Jacqueline Kennedy',\n 'Martin Stephenson',\n 'Lindsey Lane',\n 'Jessica Hart',\n 'Edward Lucas',\n 'Lisa Osborne',\n 'Hannah Black',\n 'Alexander Paul',\n 'Brenda Wong',\n 'Thomas Delgado',\n 'Jeremy Sutton',\n 'Paula Donaldson',\n 'Valerie Thompson',\n 'John Schaefer',\n 'Jesus Manning',\n 'Tyrone Lawson',\n 'Carl May',\n 'Brittany Russell',\n 'Philip Edwards',\n 'Robert Aguilar',\n 'Aaron Russo',\n 'Tracy Andrade',\n 'Amy Sullivan',\n 'Howard Beck',\n 'Dr. Xavier Bell II',\n 'Dawn Schultz',\n 'Caleb Lucas',\n 'Barbara Gonzalez',\n 'Charles Yang',\n 'David Gallagher',\n 'Bethany Vargas',\n 'Jennifer Schultz',\n 'Paula Marshall',\n 'Jordan Elliott',\n 'Samantha Mcmillan',\n 'Judith Johnson',\n 'Grace Palmer',\n 'Brandon Ramirez',\n 'Carol Smith',\n 'Matthew Odom',\n 'Erika Gray',\n 'Donna Kramer',\n 'Jonathan Snyder',\n 'Frank Howe',\n 'Amy Beck',\n 'Lori Holmes',\n 'Rebekah Hampton',\n 'Perry Bishop',\n 'Andrew Hanson MD',\n 'Jody Hughes',\n 'Anna Garcia',\n 'Colleen Walker',\n 'Danny Bridges',\n 'Kristina Ford',\n 'Sabrina Davidson',\n 'Alexander Freeman',\n 'Jack Davis',\n 'Victor Rivera',\n 'Elizabeth Pena',\n 'Neil Castro',\n 'Michael Briggs',\n 'Anna Andersen',\n 'Elizabeth Oconnor',\n 'Zachary Brooks',\n 'Scott Jackson',\n 'Mary Fuentes',\n 'Denise Reyes',\n 'Janice Collier',\n 'Tina Barber',\n 'Keith Rojas',\n 'Michelle Decker',\n 'James Smith',\n 'Alexandra Thompson',\n 'Jacqueline Campbell',\n 'Austin Clark',\n 'Brooke Thomas',\n 'Molly Smith',\n 'Pamela Beck',\n 'Timothy Morris',\n 'Lauren White',\n 'Jessica Beltran',\n 'Alexandra Jones',\n 'Evelyn Rice',\n 'Stephen Ellis',\n 'Caroline Smith',\n 'Fred Case',\n 'Crystal Anderson',\n 'Jordan Gross',\n 'Marie Harris',\n 'Charles Hayes',\n 'Beverly Sheppard',\n 'Denise Solis',\n 'Alexander Myers',\n 'Sally Robertson',\n 'Steven Morris',\n 'Nina Flores',\n 'Miguel Patterson',\n 'John Simpson',\n 'Charles Cruz',\n 'Monica Davis',\n 'James Fields',\n 'Kevin Frederick',\n 'Jeremy Soto',\n 'Ronald Harris',\n 'Carol Stewart',\n 'Albert Durham',\n 'James Sanchez',\n 'John Adams',\n 'Cody Williams',\n 'Ernest Love',\n 'Tommy Smith',\n 'Jared Anderson',\n 'Jennifer Yang',\n 'Joe Mercado',\n 'Mr. Roberto Wright MD',\n 'Michael Smith',\n 'William Park',\n 'Benjamin Williams',\n 'Dean Perez',\n 'Mr. Dale Miller',\n 'Marissa Russell',\n 'Mary Gonzalez DDS',\n 'April Jackson',\n 'William Hayes',\n 'Meghan Holloway',\n 'Amy Coleman',\n 'James Green',\n 'Michael Tran',\n 'Joseph Cortez',\n 'Anita Moss',\n 'Benjamin Stokes',\n 'Michael Li',\n 'Alexander Rosales',\n 'Katie Dawson',\n 'Shelly Erickson',\n 'Kathryn Turner',\n 'Jacob Lee',\n 'Ryan Smith',\n 'Joshua Fernandez',\n 'Mia Roach',\n 'William Rodriguez',\n 'Wanda Cruz',\n 'Pamela Hall',\n 'David Smith',\n 'Jason Brown',\n 'Chelsea Alexander',\n 'Kimberly Tate',\n 'Daniel Williams',\n 'Terri Jacobson',\n 'Paul Harris',\n 'Jessica Thompson',\n 'Nancy Hawkins',\n 'Deborah Phillips',\n 'Mark Mendoza',\n 'Stephen Williamson',\n 'Jennifer Strong',\n 'Matthew Moore',\n 'Raymond Parker',\n 'Lee Evans',\n 'Curtis Rodriguez',\n 'Sara Morris',\n 'Dawn Palmer',\n 'Brianna Benson',\n 'Luis Watts',\n 'Mrs. Cindy Brown',\n 'Summer Sandoval',\n 'Ashley Smith',\n 'Randy Wallace',\n 'Angela Simmons',\n 'Sandra Haley',\n 'George Morgan',\n 'Melissa Ali',\n 'Matthew Oliver',\n 'Michael Kirk',\n 'Terry Khan',\n 'Kristie Elliott',\n 'Joel Campbell',\n 'Anthony Henderson',\n 'Brent Christensen',\n 'Heidi Hayes',\n 'Ryan Mcbride',\n 'Kyle Murillo',\n 'Angela Powell',\n 'Jeanette Simmons',\n 'Adam Vance',\n 'Kristen Murray',\n 'Jessica Burnett',\n 'Alex Walker',\n 'Robert Phillips',\n 'Elizabeth Martinez',\n 'Kristina Young',\n 'Sarah Morgan',\n 'Cheryl Harding',\n 'Keith Hunter',\n 'Todd Williams',\n 'James White MD',\n 'Kyle Johnson',\n 'Andrea Suarez',\n 'Michael Sanchez',\n 'Jaime Torres',\n 'Donald Gill DDS',\n 'Austin Lee',\n 'Adrian Bowman',\n 'Julie Perez',\n 'Debra Maxwell',\n 'Bradley Phillips',\n 'Sonya Simmons',\n 'Eric Miller',\n 'Charles Berger',\n 'Mary Monroe',\n 'Destiny Burns',\n 'Patrick Khan',\n 'Nathaniel Henson',\n 'Larry Miller',\n 'Timothy French',\n 'Xavier Mitchell',\n 'Jason Crosby',\n 'Joshua Johnson',\n 'Alyssa Clark',\n 'Jonathan Cooper',\n 'Mark Hunt',\n 'Norman Moore',\n 'Brian Atkins',\n 'Zachary Jones',\n 'Danielle Wong',\n 'Patricia Lane',\n 'Joshua Rose',\n 'Hannah Montes',\n 'Mrs. Catherine Williams MD',\n 'Michael Jenkins',\n 'James Scott',\n 'Evan Ballard',\n 'Andrea Miller',\n 'Jasmine Lynch',\n 'Jennifer Fox',\n 'Jared Castro',\n 'Eugene Cox',\n 'Wendy Wilson',\n 'Debbie Smith',\n 'Michael Fletcher',\n 'Jay Waters',\n 'Melissa Martinez',\n 'Cory Howard',\n 'Mitchell Hanson',\n 'Corey Boyer',\n 'Elizabeth Gonzalez',\n 'Robert Hutchinson',\n 'David Hernandez',\n 'Tammy Jordan',\n 'Denise Johnson',\n 'Brandi Copeland',\n 'Evan Marshall',\n 'Gregory Long',\n 'Kristen Underwood',\n 'Walter French',\n 'Edwin Thompson',\n 'Edward Rivera',\n 'Brandon Wilson',\n 'Alejandra Todd',\n 'Dana Hoffman',\n 'David Howard',\n 'Ashley Caldwell MD',\n 'Cindy Horn',\n 'Kevin Armstrong',\n 'Stacey Porter',\n 'Patrick Hunt',\n 'David White',\n 'Tammy Black',\n 'Joanna Williams',\n 'Becky Moran',\n 'Brenda Smith',\n 'Gabrielle Webb',\n 'Mr. Jared Campbell',\n 'Ryan Jenkins',\n 'Thomas Shepard',\n 'Jeremiah Boyd',\n 'Matthew White',\n 'Christina Anderson',\n 'Edward Olson',\n 'Emily Bryant',\n 'Amy Guzman',\n 'Kathleen Owens',\n 'John Davila',\n 'Nicole King',\n 'Jason Villarreal',\n 'Matthew Washington',\n 'Peter Simpson',\n 'Cristian Espinoza',\n 'Steven Fry',\n 'David Miller',\n 'Tamara Hernandez',\n 'Jordan Lewis',\n 'Carol Anderson',\n 'Michael Moreno PhD',\n 'Nicholas Logan',\n 'Paul Anderson',\n 'Jason Young',\n 'Wesley Martin',\n 'Karen Wall',\n 'Tara Parker MD',\n 'Michael Reyes',\n 'Amy Henderson',\n 'Jessica Reed',\n 'Joseph Miranda',\n 'Mackenzie Jones',\n 'Jon Espinoza',\n 'Kelly Medina',\n 'Jason Rubio',\n 'Jennifer Munoz',\n 'Christopher Warner',\n 'Vincent Thomas',\n 'Andrew Young',\n 'David Jenkins',\n 'Daniel Stephens',\n 'Elizabeth Lewis',\n 'Aaron Moore',\n 'Lisa Hogan',\n 'Shawn Williams DVM',\n 'Michele Dickerson',\n 'Dr. Alicia Martinez',\n 'Mr. Timothy Anderson',\n 'Sierra Jackson',\n 'Sharon Taylor',\n 'Jeffrey Smith',\n 'Mark Taylor',\n 'Christina Ross',\n 'Judy Hall',\n 'Jennifer Fox',\n 'Kenneth Moran',\n 'Gerald Ferguson',\n 'Albert Carter',\n 'Michael Reilly',\n 'Kathleen Schwartz',\n 'Stacey Harris',\n 'Mrs. Paula Lee',\n 'Adrian Black',\n 'Rita Moreno',\n 'Jason Perry',\n 'Scott Ortiz',\n 'Randy Mueller',\n 'Samantha Anderson',\n 'Phillip Brown',\n 'Christina Kerr',\n 'Derrick Hill',\n 'Nathan Bond',\n 'Marie Wilson',\n 'Caitlin Jones',\n 'Barbara Campbell',\n 'Katie Gonzales',\n 'Mr. Elijah Hall',\n 'James Sanders',\n 'Nicholas Martinez',\n 'Maria Mack',\n 'Mary Mason',\n 'Tiffany Campbell',\n 'Mr. Raymond Stone',\n 'Dominique Henderson',\n 'Martin Williams',\n 'Hannah Parker',\n 'Susan Webb',\n 'Rachel Johnson',\n 'Darren Davis',\n 'Tim Carr',\n 'Jesus Ryan',\n 'John Hays',\n 'Scott Stewart',\n 'Alexandra Roberts',\n 'Amanda Norman',\n 'James Moody',\n 'Brenda Jones',\n 'Kathy Smith',\n 'Raymond Clark',\n 'Ashley Martin',\n 'Tamara Flowers',\n 'Cesar Hanson',\n 'Ross Strickland',\n 'Randy Moore',\n 'Henry Andersen',\n 'Paul Martin',\n 'Sarah Stanley',\n 'Jordan Lewis',\n 'Ashley Richardson',\n 'Michael Brown',\n 'Jason Davis',\n 'Wendy Mcclain',\n 'Troy Williams',\n 'Carrie Alexander',\n 'Kyle Ware',\n 'Michael Robinson',\n 'Roger Wilson',\n 'Teresa Fuller',\n 'Craig Silva',\n 'Duane Thomas',\n 'Jon Crosby',\n 'Jon Steele',\n 'Daniel Shaw',\n 'Gwendolyn Williams',\n 'Angela Hess',\n 'Cameron Arnold',\n 'Janice Garcia',\n 'Anne Bullock',\n 'Katie Moody',\n 'Kayla Rivas',\n 'Danny Pearson',\n 'Billy Robles',\n 'Michelle Delgado',\n 'Cindy Harrison',\n 'John Dickerson MD',\n 'Tina Armstrong',\n 'Mr. Alex Franklin',\n 'Ryan King',\n 'Christine Guzman',\n 'Helen Malone',\n 'Benjamin Carpenter',\n 'Mrs. Jessica Dunn',\n 'Jessica Kaiser',\n 'Brandon Black',\n 'David Hernandez',\n 'Brenda Turner',\n 'Katherine Black',\n 'Larry Santos',\n 'Zachary Dominguez',\n 'Tanya Fernandez',\n 'Joseph Nichols',\n 'Rebecca Martinez',\n 'Traci Ramirez',\n 'Ryan Bauer',\n 'Joshua Williams',\n 'Devon Foley',\n 'Heidi Walter',\n 'Mario Nguyen',\n 'Jordan Hernandez',\n 'William Miller',\n 'Nicholas Chung',\n 'Christine Cooley',\n 'Carrie Nelson',\n 'Crystal Fowler',\n 'Lori Taylor',\n 'Mr. Michael Stevenson',\n 'Matthew Holmes',\n 'David Walls',\n 'Megan Martin',\n 'Karen Peterson',\n 'Kristen Wallace',\n 'Mark Peterson',\n 'Jason Jones DDS',\n 'Keith Barber',\n 'Patrick Green',\n 'Antonio Lopez',\n 'Travis Peterson',\n 'Gabriel Hunter',\n 'Amanda Ross',\n 'Samuel Thompson',\n 'Robert Bowman',\n 'Cynthia Cox',\n 'Brittany Miller',\n 'Eric Torres',\n 'Sandra Calhoun',\n 'Jacob Bailey',\n 'Jessica Harris',\n 'Molly Carr',\n 'Keith Davis',\n 'Adriana Wade MD',\n ...]"
     },
     "metadata": {},
     "execution_count": 14
    }
   ],
   "source": [
    "# Put the student names in a list.\n",
    "student_names = student_data_df[\"student_name\"].tolist()\n",
    "student_names"
   ]
  },
  {
   "cell_type": "code",
   "execution_count": 15,
   "metadata": {
    "tags": []
   },
   "outputs": [
    {
     "output_type": "stream",
     "name": "stdout",
     "text": "Mrs. Linda Santiago\n"
    },
    {
     "output_type": "execute_result",
     "data": {
      "text/plain": "['Mrs.', 'Linda', 'Santiago']"
     },
     "metadata": {},
     "execution_count": 15
    }
   ],
   "source": [
    "name = \"Mrs. Linda Santiago\"\n",
    "print (name)\n",
    "name.split()\n"
   ]
  },
  {
   "cell_type": "code",
   "execution_count": 16,
   "metadata": {
    "tags": [
     "outputPrepend"
    ]
   },
   "outputs": [
    {
     "output_type": "stream",
     "name": "stdout",
     "text": "'] 2\n['Savannah', 'Smith'] 2\n['Heather', 'Hunter'] 2\n['Lisa', 'Tucker'] 2\n['Renee', 'Moore'] 2\n['Nicole', 'White', 'MD'] 3\n['Keith', 'King'] 2\n['Amanda', 'Skinner', 'MD'] 3\n['Marcus', 'Wallace'] 2\n['James', 'Horton'] 2\n['Darrell', 'Simpson'] 2\n['Diane', 'Rush'] 2\n['Christine', 'Guerrero'] 2\n['Rita', 'Perez'] 2\n['Sarah', 'Williams'] 2\n['Jason', 'Key'] 2\n['Christine', 'Smith'] 2\n['Jennifer', 'Dixon'] 2\n['Timothy', 'Wilson'] 2\n['Maxwell', 'Anderson'] 2\n['Christina', 'Robinson'] 2\n['Abigail', 'Durham'] 2\n['Charlotte', 'Graham'] 2\n['Tanya', 'Barnes'] 2\n['Theresa', 'Gentry'] 2\n['Donald', 'Nicholson'] 2\n['Nathan', 'Smith'] 2\n['Sarah', 'Briggs'] 2\n['Joshua', 'Thomas'] 2\n['Alexander', 'Wilson'] 2\n['David', 'Smith'] 2\n['Rebecca', 'Reilly'] 2\n['Paul', 'Bowers'] 2\n['Teresa', 'Chapman'] 2\n['Kimberly', 'Case'] 2\n['Guy', 'Goodwin'] 2\n['Brenda', 'Rivera'] 2\n['Gregory', 'Shepherd'] 2\n['Kenneth', 'Simon'] 2\n['James', 'Stone'] 2\n['Scott', 'Smith'] 2\n['Kevin', 'Costa'] 2\n['Kayla', 'Williams'] 2\n['Joshua', 'Burch'] 2\n['Emily', 'Washington'] 2\n['Elizabeth', 'Graham'] 2\n['Kristy', 'Perry'] 2\n['Stacey', 'Rodriguez'] 2\n['Brittany', 'Harper'] 2\n['Robert', 'Pollard'] 2\n['Heidi', 'Gomez'] 2\n['Mark', 'White'] 2\n['Dustin', 'Meyer'] 2\n['Stephanie', 'Pham'] 2\n['Jeffery', 'Howard'] 2\n['Christina', 'Owen'] 2\n['Ana', 'Ellis'] 2\n['Evan', 'Jones'] 2\n['William', 'Schmidt'] 2\n['Elizabeth', 'Johnson'] 2\n['Ronald', 'Yates'] 2\n['Kenneth', 'Collins'] 2\n['Stacey', 'Jennings'] 2\n['Brandy', 'Cox'] 2\n['Ann', 'Garcia'] 2\n['David', 'Young'] 2\n['Steven', 'Thompson'] 2\n['Kaitlyn', 'Davis'] 2\n['Patricia', 'Maddox'] 2\n['Dylan', 'Ray'] 2\n['Sharon', 'Larson'] 2\n['Marc', 'Short'] 2\n['John', 'Atkins'] 2\n['Eugene', 'Johnson'] 2\n['Terry', 'Torres'] 2\n['Eric', 'Huff'] 2\n['Joseph', 'Kim'] 2\n['Katie', 'Neal'] 2\n['Amy', 'Vega'] 2\n['Daniel', 'Wilson'] 2\n['Kurt', 'Martinez'] 2\n['Dennis', 'Rodriguez'] 2\n['Elaine', 'Stephens'] 2\n['Melissa', 'Graves'] 2\n['Adrienne', 'Turner', 'MD'] 3\n['Sandra', 'Franco'] 2\n['Adam', 'Woods'] 2\n['Patrick', 'Joyce'] 2\n['Tanya', 'Chen'] 2\n['Tracy', 'Dawson'] 2\n['Lisa', 'Coleman'] 2\n['Brenda', 'Lloyd'] 2\n['Brianna', 'Frey'] 2\n['Michael', 'Green'] 2\n['Megan', 'Page'] 2\n['Jordan', 'Long'] 2\n['Tracy', 'Lewis'] 2\n['Christine', 'Sellers'] 2\n['Angela', 'Berger'] 2\n['Donald', 'Evans'] 2\n['Scott', 'Rowe'] 2\n['Veronica', 'Drake'] 2\n['David', 'Cohen'] 2\n['Mark', 'Rice'] 2\n['Jesse', 'Reyes'] 2\n['Nicole', 'Ritter'] 2\n['Lisa', 'Gentry'] 2\n['Terry', 'Scott', 'Jr.'] 3\n['Cesar', 'Rodriguez', 'DVM'] 3\n['Jennifer', 'Gay', 'MD'] 3\n['David', 'House'] 2\n['Michael', 'Moore'] 2\n['Jared', 'Woodward'] 2\n['Ashley', 'Black'] 2\n['Adam', 'Hinton'] 2\n['Rebecca', 'Sanchez'] 2\n['Daniel', 'Harris'] 2\n['Angie', 'Vance'] 2\n['Zachary', 'Davis'] 2\n['Joshua', 'Glass'] 2\n['Scott', 'Mack'] 2\n['Diane', 'Morse'] 2\n['Lori', 'Jenkins'] 2\n['Paul', 'Garcia'] 2\n['Jonathan', 'Dunn'] 2\n['Dustin', 'Butler'] 2\n['Cody', 'Cortez'] 2\n['Bridget', 'Benitez'] 2\n['Mr.', 'Earl', 'Thompson'] 3\n['Tracie', 'Stewart'] 2\n['Brenda', 'Le'] 2\n['Jennifer', 'Combs'] 2\n['Elizabeth', 'Stout'] 2\n['Edward', 'Lopez'] 2\n['Timothy', 'Baird'] 2\n['Drew', 'Jones'] 2\n['Kevin', 'Gordon'] 2\n['Andrew', 'Anthony'] 2\n['David', 'Garner'] 2\n['Dawn', 'Richards'] 2\n['Zachary', 'Sanchez'] 2\n['Paul', 'Butler'] 2\n['Heidi', 'Rhodes'] 2\n['Kimberly', 'Duncan'] 2\n['Andrew', 'Jones'] 2\n['Scott', 'Walters'] 2\n['Travis', 'Johnson'] 2\n['Taylor', 'Owen'] 2\n['Ryan', 'Reed'] 2\n['Erin', 'Miller'] 2\n['Tiffany', 'Alvarez'] 2\n['Donna', 'Ramirez'] 2\n['David', 'Taylor'] 2\n['Jacob', 'Roberts'] 2\n['John', 'Small'] 2\n['Robert', 'Lloyd'] 2\n['Joe', 'Ewing'] 2\n['William', 'Carter'] 2\n['Miss', 'Melinda', 'Thomas'] 3\n['Jill', 'Mckinney'] 2\n['John', 'Dunn'] 2\n['Jordan', 'Martinez'] 2\n['Mary', 'Nixon', 'MD'] 3\n['Kristin', 'Taylor'] 2\n['Ashley', 'Jimenez'] 2\n['Jessica', 'Hill'] 2\n['Laurie', 'Fowler'] 2\n['Michael', 'Johnson'] 2\n['Kevin', 'Foster'] 2\n['Michael', 'Stevens'] 2\n['Tracy', 'Noble'] 2\n['Daniel', 'Schultz'] 2\n['Bridget', 'Robles'] 2\n['Erin', 'Mccann'] 2\n['Paul', 'Hayes'] 2\n['Glenn', 'Mercer'] 2\n['Charles', 'Flores'] 2\n['Melissa', 'Wilson'] 2\n['Tim', 'Harris'] 2\n['John', 'Stuart'] 2\n['Kim', 'Williams'] 2\n['Andrew', 'Gomez'] 2\n['Beverly', 'Whitney'] 2\n['Eric', 'Cox'] 2\n['Leslie', 'Kelly', 'MD'] 3\n['Eric', 'Kelley'] 2\n['Olivia', 'Hernandez'] 2\n['Patrick', 'Garcia'] 2\n['Teresa', 'Schultz'] 2\n['Kim', 'Peck'] 2\n['Laura', 'Murphy'] 2\n['George', 'Green'] 2\n['Richard', 'Bowman'] 2\n['Jasmine', 'Garcia'] 2\n['Victoria', 'Harrell'] 2\n['Julie', 'Nelson'] 2\n['Mrs.', 'Kristen', 'Gonzalez'] 3\n['Michael', 'Carter', 'MD'] 3\n['Arthur', 'Martinez'] 2\n['James', 'Cruz'] 2\n['Brian', 'Monroe'] 2\n['Michael', 'Booth'] 2\n['Daniel', 'Simpson'] 2\n['Kenneth', 'Smith'] 2\n['Joseph', 'Mitchell'] 2\n['Allen', 'Payne'] 2\n['Lisa', 'Ward'] 2\n['Teresa', 'Miller'] 2\n['Daniel', 'Wallace'] 2\n['Sheena', 'Hill'] 2\n['Sarah', 'Scott'] 2\n['Michael', 'James'] 2\n['Angela', 'Thompson'] 2\n['Lindsay', 'Ortiz'] 2\n['Catherine', 'Wilson'] 2\n['Jill', 'Kim'] 2\n['Lauren', 'Wilson'] 2\n['Stacey', 'Lee'] 2\n['Carmen', 'Kim'] 2\n['Jennifer', 'Weaver'] 2\n['Kristi', 'Castillo'] 2\n['Matthew', 'Perez'] 2\n['Diana', 'Mcdaniel'] 2\n['Julia', 'King'] 2\n['Susan', 'Thomas'] 2\n['Lisa', 'Price'] 2\n['Nancy', 'Hopkins'] 2\n['Danny', 'Miller'] 2\n['Paul', 'Ewing'] 2\n['Frank', 'Davis'] 2\n['Jeffrey', 'Schultz'] 2\n['Misty', 'Nguyen'] 2\n['Leroy', 'Shaffer'] 2\n['Raymond', 'Hawkins'] 2\n['Robert', 'Lewis'] 2\n['Anna', 'Jacobs'] 2\n['Nathan', 'Adams'] 2\n['Christy', 'Ryan'] 2\n['Madison', 'Palmer'] 2\n['Christina', 'Hall'] 2\n['Charles', 'Dickson'] 2\n['Pamela', 'Thompson'] 2\n['Meghan', 'Williams'] 2\n['Gerald', 'Jones'] 2\n['Tara', 'Simpson'] 2\n['Ryan', 'Fernandez'] 2\n['Marissa', 'Wilson'] 2\n['Heather', 'Leblanc'] 2\n['Andrea', 'Lee'] 2\n['Erica', 'Singh'] 2\n['Matthew', 'Crane'] 2\n['Jennifer', 'Weaver'] 2\n['Brian', 'Thomas'] 2\n['Elizabeth', 'Lamb'] 2\n['Dakota', 'Marshall'] 2\n['Kelly', 'Donaldson'] 2\n['Donald', 'Scott'] 2\n['Mark', 'Smith'] 2\n['Todd', 'Johnson'] 2\n['Robin', 'Mathis'] 2\n['Carlos', 'Gutierrez'] 2\n['Katherine', 'Porter'] 2\n['Denise', 'Perry'] 2\n['Andrew', 'Nelson'] 2\n['Michael', 'Hartman'] 2\n['Andrea', 'Sanchez'] 2\n['Ronnie', 'Powell'] 2\n['Matthew', 'Davis'] 2\n['Kristina', 'Morrison'] 2\n['Kevin', 'Pierce'] 2\n['Frank', 'Mitchell'] 2\n['Tony', 'Hoover'] 2\n['Jessica', 'Roach'] 2\n['Danielle', 'Rodriguez'] 2\n['Tracy', 'Nguyen'] 2\n['Kelly', 'Bridges'] 2\n['Joseph', 'Mcgrath'] 2\n['Austin', 'Wilcox'] 2\n['Katherine', 'Sims'] 2\n['Mary', 'Miller'] 2\n['Martin', 'Taylor'] 2\n['Madison', 'Suarez'] 2\n['Betty', 'Campbell'] 2\n['Anna', 'Jackson'] 2\n['Anthony', 'Reynolds'] 2\n['Joseph', 'Perez', 'DDS'] 3\n['Matthew', 'Dougherty'] 2\n['Angela', 'Hill'] 2\n['Stephanie', 'Long'] 2\n['Kathy', 'Gonzales'] 2\n['Kayla', 'Myers'] 2\n['Edward', 'Jones'] 2\n['Tiffany', 'Cook'] 2\n['Bradley', 'Miller'] 2\n['Lisa', 'Blackburn'] 2\n['Sara', 'Williams'] 2\n['Gregory', 'Howell'] 2\n['Sarah', 'Allen'] 2\n['Russell', 'Schmitt'] 2\n['Peter', 'Stone'] 2\n['Gerald', 'Estes'] 2\n['Holly', 'Moore'] 2\n['Allison', 'Webb'] 2\n['Steven', 'Reynolds'] 2\n['Mrs.', 'Alice', 'Warren'] 3\n['Nichole', 'Perez'] 2\n['Autumn', 'Green'] 2\n['Eileen', 'Rios'] 2\n['Jennifer', 'Cooper'] 2\n['Martha', 'Molina'] 2\n['Judith', 'Potter'] 2\n['Evan', 'Martin'] 2\n['Heather', 'Bailey'] 2\n['Thomas', 'Clark'] 2\n['Brian', 'Arnold'] 2\n['Julia', 'Kelley', 'MD'] 3\n['Evan', 'Mitchell'] 2\n['Susan', 'Roberts'] 2\n['Shannon', 'Lopez'] 2\n['James', 'Williams'] 2\n['Allison', 'Kerr'] 2\n['Tiffany', 'Mccarthy'] 2\n['Christina', 'Moreno'] 2\n['Tony', 'Byrd'] 2\n['Jared', 'Mcdonald'] 2\n['Zoe', 'Allen'] 2\n['Laura', 'Baker'] 2\n['James', 'Hale'] 2\n['Timothy', 'Obrien'] 2\n['Mariah', 'Proctor'] 2\n['Mary', 'Rogers'] 2\n['Amber', 'Thompson'] 2\n['Yolanda', 'Ochoa'] 2\n['Debra', 'Rosales'] 2\n['Joseph', 'Wood'] 2\n['Andre', 'Fisher'] 2\n['David', 'Coffey', 'PhD'] 3\n['Kelly', 'Hernandez'] 2\n['Cheryl', 'Diaz'] 2\n['Linda', 'Chambers'] 2\n['William', 'Sandoval'] 2\n['Kristen', 'Crawford'] 2\n['Erica', 'King'] 2\n['Eric', 'Carson'] 2\n['James', 'Cruz'] 2\n['Nathan', 'Maldonado'] 2\n['David', 'Rodriguez'] 2\n['Justin', 'Williams'] 2\n['Jason', 'Shaw'] 2\n['Mrs.', 'Pam', 'Wolf', 'DDS'] 4\n['Catherine', 'Cross'] 2\n['Melissa', 'Johnson'] 2\n['Lori', 'Wilkerson'] 2\n['Katherine', 'Hardin'] 2\n['Kevin', 'Vasquez'] 2\n['Stephanie', 'Franklin'] 2\n['Edward', 'Parrish'] 2\n['Caitlin', 'Williams'] 2\n['Mark', 'Sanchez'] 2\n['Lindsey', 'Benson'] 2\n['Rachel', 'Miller'] 2\n['Andrea', 'Mack'] 2\n['Sarah', 'Brown'] 2\n['Lisa', 'Fitzgerald'] 2\n['Jessica', 'Prince'] 2\n['Jeffery', 'King'] 2\n['Travis', 'Spencer'] 2\n['Erica', 'Tucker'] 2\n['Lauren', 'Casey'] 2\n['Emily', 'Williams'] 2\n['Kevin', 'Thomas'] 2\n['Amanda', 'Small'] 2\n['Kerri', 'Torres'] 2\n['Danny', 'Powers'] 2\n['Jessica', 'Cohen'] 2\n['Jeffrey', 'Duarte'] 2\n['Crystal', 'Fields'] 2\n['Henry', 'Tucker'] 2\n['Kenneth', 'Carter'] 2\n['Courtney', 'Miller'] 2\n['Eric', 'Benson'] 2\n['Joshua', 'Vargas'] 2\n['Rebekah', 'Perkins'] 2\n['Mr.', 'Ryan', 'Thomas'] 3\n['Pamela', 'Brooks'] 2\n['Bridget', 'Shah'] 2\n['Cassidy', 'Carter'] 2\n['Kelly', 'Michael'] 2\n['Michael', 'Flores'] 2\n['Robert', 'Wilcox'] 2\n['Christopher', 'Melton'] 2\n['Stephanie', 'Johnson'] 2\n['Thomas', 'Payne'] 2\n['Elizabeth', 'Miller'] 2\n['Pamela', 'Thomas'] 2\n['Victoria', 'Nguyen'] 2\n['Brian', 'Mills'] 2\n['Deborah', 'Holloway'] 2\n['David', 'Gray'] 2\n['Kathleen', 'Lewis'] 2\n['Michelle', 'Pratt'] 2\n['Steven', 'Brown'] 2\n['James', 'Wallace'] 2\n['Amy', 'Hayes'] 2\n['Matthew', 'Nunez'] 2\n['Joseph', 'Gentry'] 2\n['Heidi', 'Johnson'] 2\n['Nancy', 'Harris'] 2\n['Ashley', 'Hill'] 2\n['Jeffery', 'Abbott'] 2\n['Gregory', 'Morgan', 'MD'] 3\n['Daniel', 'Herrera'] 2\n['Pamela', 'Salinas'] 2\n['Sarah', 'Johnson'] 2\n['Jason', 'Gonzalez'] 2\n['Richard', 'Alexander'] 2\n['Randy', 'Richards'] 2\n['Adriana', 'Reyes'] 2\n['Carrie', 'Meyer'] 2\n['Phillip', 'Lin'] 2\n['Daniel', 'Mack'] 2\n['Kimberly', 'Roach'] 2\n['Dakota', 'Barry'] 2\n['Latoya', 'Graham'] 2\n['Manuel', 'Lane'] 2\n['Kathy', 'Jones'] 2\n['Charles', 'Petty'] 2\n['Brent', 'Matthews'] 2\n['Amy', 'Lucas'] 2\n['Christopher', 'Black'] 2\n['Alyssa', 'Burns'] 2\n['Jeffrey', 'Evans'] 2\n['Dr.', 'Carol', 'Williams'] 3\n['Kelly', 'Chambers'] 2\n['Kayla', 'Anderson'] 2\n['Andrew', 'Ellis'] 2\n['Michelle', 'Cook'] 2\n['Victoria', 'Martin'] 2\n['Joshua', 'Underwood'] 2\n['Matthew', 'Howard'] 2\n['Michelle', 'Gray'] 2\n['Ms.', 'Rebecca', 'Gonzales'] 3\n['James', 'Schmidt'] 2\n['Mrs.', 'Samantha', 'Glover'] 3\n['Theresa', 'Nelson'] 2\n['Raymond', 'Jackson'] 2\n['Yvette', 'Ashley'] 2\n['David', 'Moss'] 2\n['Elizabeth', 'Howard'] 2\n['Shelby', 'George'] 2\n['Justin', 'Frazier'] 2\n['Chelsea', 'Adams'] 2\n['Erika', 'Payne'] 2\n['Anna', 'Decker', 'MD'] 3\n['Linda', 'Mccann'] 2\n['Leslie', 'Fowler'] 2\n['Robin', 'Morris'] 2\n['Samuel', 'Campbell'] 2\n['Angela', 'Pennington'] 2\n['Andrew', 'Stephenson'] 2\n['Sandra', 'Mcbride'] 2\n['Hailey', 'Lopez', 'DDS'] 3\n['Walter', 'Stokes'] 2\n['Dave', 'Diaz'] 2\n['Robert', 'Coleman'] 2\n['Andrew', 'Gibson'] 2\n['Kristina', 'Snow'] 2\n['Michael', 'Martinez'] 2\n['Patrick', 'Jenkins'] 2\n['Larry', 'Scott'] 2\n['Dana', 'Kidd'] 2\n['Amber', 'Lewis'] 2\n['Alan', 'Simmons'] 2\n['Rebecca', 'Joseph'] 2\n['Brian', 'Acosta'] 2\n['Kimberly', 'Erickson'] 2\n['Cynthia', 'Maldonado'] 2\n['Anthony', 'Flores'] 2\n['Jacob', 'Mills'] 2\n['Mr.', 'James', 'Baker'] 3\n['Cynthia', 'Martin'] 2\n['Natalie', 'Taylor'] 2\n['Ashley', 'Mcdonald'] 2\n['Kirk', 'Vaughn'] 2\n['Dustin', 'Ray'] 2\n['Gabriel', 'Miller'] 2\n['Deborah', 'Griffith'] 2\n['Christopher', 'Rose'] 2\n['Maria', 'Kirk'] 2\n['Nancy', 'Fox'] 2\n['Heather', 'Davis'] 2\n['Taylor', 'Smith'] 2\n['Mrs.', 'Amber', 'Gonzalez'] 3\n['Leslie', 'Nelson'] 2\n['John', 'Escobar'] 2\n['Robert', 'Harper'] 2\n['Angela', 'Mooney'] 2\n['Chad', 'Dudley'] 2\n['Richard', 'Lee'] 2\n['Elizabeth', 'Ross'] 2\n['Cheryl', 'Garner'] 2\n['Debbie', 'Garrison'] 2\n['Nicole', 'Shaw'] 2\n['Kayla', 'Jones'] 2\n['Cristina', 'Drake'] 2\n['Mr.', 'Jason', 'Patel', 'Jr.'] 4\n['Tina', 'Salazar'] 2\n['Timothy', 'Ward'] 2\n['Jeremiah', 'Arroyo'] 2\n['Ryan', 'Barnes'] 2\n['Jennifer', 'Robinson'] 2\n['Matthew', 'Walsh'] 2\n['Marissa', 'Reed'] 2\n['Matthew', 'Ritter'] 2\n['Jennifer', 'Kelley'] 2\n['David', 'Silva'] 2\n['Reginald', 'Johnson'] 2\n['Logan', 'White'] 2\n['Cheryl', 'Reynolds'] 2\n['Kelly', 'Mclean'] 2\n['Laura', 'Richardson'] 2\n['Maria', 'Davis'] 2\n['Amy', 'Anderson'] 2\n['Timothy', 'Smith'] 2\n['Laura', 'Kidd'] 2\n['Lydia', 'Gomez'] 2\n['Stephanie', 'Walker', 'DDS'] 3\n['Joseph', 'Daniels'] 2\n['Tracey', 'Hernandez'] 2\n['Barry', 'Bridges'] 2\n['David', 'Lin'] 2\n['Ariel', 'Reynolds'] 2\n['Mr.', 'Timothy', 'Scott'] 3\n['Jonathan', 'Crawford'] 2\n['Natalie', 'Dunn'] 2\n['Shawn', 'Williams'] 2\n['Jennifer', 'Parsons'] 2\n['Adam', 'Haley'] 2\n['Mary', 'Berry'] 2\n['Amy', 'Payne'] 2\n['Emily', 'Neal'] 2\n['Ashlee', 'Cooley'] 2\n['Kenneth', 'Lane'] 2\n['Joseph', 'Garcia'] 2\n['Dr.', 'Michael', 'Sullivan', 'DDS'] 4\n['Christopher', 'Henderson'] 2\n['Javier', 'Zamora'] 2\n['Theresa', 'Oconnor'] 2\n['Jamie', 'Campbell'] 2\n['Paige', 'Bates'] 2\n['Kelly', 'Lane'] 2\n['Steven', 'Hernandez'] 2\n['Kristen', 'Sims'] 2\n['Todd', 'Fields'] 2\n['Larry', 'Holmes'] 2\n['Michael', 'Miller'] 2\n['Doris', 'Taylor'] 2\n['Margaret', 'Hodge'] 2\n['Vanessa', 'Burton'] 2\n['Debra', 'Thomas'] 2\n['Donna', 'Ellison'] 2\n['Mrs.', 'Brittney', 'Schultz', 'DVM'] 4\n['Sean', 'Morrison'] 2\n['Dillon', 'Davidson'] 2\n['Timothy', 'Conner'] 2\n['Catherine', 'Romero'] 2\n['Michael', 'Williams'] 2\n['Susan', 'Greer'] 2\n['John', 'Bentley'] 2\n['Craig', 'Wells'] 2\n['Aaron', 'Martin'] 2\n['Alexandra', 'Wright'] 2\n['Elizabeth', 'Mccoy'] 2\n['Steven', 'Johnson'] 2\n['Donna', 'Morales'] 2\n['Sean', 'Morales'] 2\n['Ashley', 'Park'] 2\n['Kristy', 'Ruiz'] 2\n['Jason', 'Fisher'] 2\n['Gloria', 'Hamilton'] 2\n['Evan', 'Moreno'] 2\n['Betty', 'Jackson'] 2\n['Courtney', 'Santos'] 2\n['Lisa', 'Jackson'] 2\n['Keith', 'Petty'] 2\n['Randy', 'Travis'] 2\n['Michael', 'Morgan'] 2\n['Stephen', 'Miller'] 2\n['Brian', 'Burton'] 2\n['Debra', 'Williams'] 2\n['Dr.', 'Frances', 'Romero'] 3\n['Edgar', 'Garcia'] 2\n['Eric', 'Williams'] 2\n['Louis', 'Elliott'] 2\n['Robin', 'Jones'] 2\n['Lynn', 'Duncan'] 2\n['Anthony', 'Nunez'] 2\n['William', 'Newman'] 2\n['Taylor', 'Salinas'] 2\n['Lauren', 'Kelly'] 2\n['Jordan', 'Hamilton'] 2\n['Joel', 'Curry'] 2\n['Andres', 'Reyes'] 2\n['Thomas', 'Pham'] 2\n['Gregory', 'Graham'] 2\n['Nicholas', 'White'] 2\n['Kevin', 'Rowe'] 2\n['Michael', 'Palmer'] 2\n['Jim', 'Carrillo'] 2\n['Katherine', 'Russell'] 2\n['Spencer', 'Johnson'] 2\n['Mary', 'Taylor'] 2\n['Henry', 'Burke'] 2\n['Kelly', 'Weaver'] 2\n['Christopher', 'Johnson'] 2\n['Janice', 'Martin'] 2\n['Taylor', 'Cooke'] 2\n['Chad', 'Medina'] 2\n['Ashley', 'Romero'] 2\n['Samantha', 'Steele'] 2\n['Stacey', 'Taylor'] 2\n['Vicki', 'Meyer'] 2\n['Taylor', 'Thomas'] 2\n['Peggy', 'King'] 2\n['Alexandra', 'Williams'] 2\n['Sandra', 'Griffin'] 2\n['Yolanda', 'Le'] 2\n['Dennis', 'Bradford'] 2\n['Ann', 'Duffy'] 2\n['Rachel', 'Butler'] 2\n['Robert', 'Smith'] 2\n['Melissa', 'Hooper'] 2\n['Amber', 'Anderson'] 2\n['George', 'Collins'] 2\n['Robert', 'Reid'] 2\n['Stephen', 'Jones'] 2\n['Brenda', 'Taylor'] 2\n['Denise', 'Foster'] 2\n['Alexandria', 'Carpenter'] 2\n['Luke', 'Brown'] 2\n['Michael', 'Clements'] 2\n['Tiffany', 'Francis'] 2\n['Shannon', 'Carson'] 2\n['Tracey', 'Liu'] 2\n['Logan', 'Osborn'] 2\n['John', 'Roberson'] 2\n['Dennis', 'Anderson'] 2\n['Kelly', 'Diaz'] 2\n['Chad', 'Carr'] 2\n['John', 'Bailey'] 2\n['Dennis', 'Peters'] 2\n['Laura', 'Bennett', 'DDS'] 3\n['Charles', 'Brown'] 2\n['Marissa', 'Richardson'] 2\n['Amy', 'Davis'] 2\n['Andrea', 'Johnson'] 2\n['Jessica', 'Brewer'] 2\n['Ashley', 'Lynch'] 2\n['Christine', 'Howell'] 2\n['Luis', 'Cannon'] 2\n['Jennifer', 'Phillips'] 2\n['Maria', 'Davis'] 2\n['Thomas', 'Anderson'] 2\n['Annette', 'Davis'] 2\n['David', 'Price'] 2\n['Christina', 'Carter'] 2\n['Laura', 'Smith'] 2\n['Stacey', 'Mitchell'] 2\n['Michelle', 'Davis'] 2\n['Shane', 'Lindsey'] 2\n['Denise', 'Moore'] 2\n['Kendra', 'Flynn'] 2\n['Austin', 'Burke'] 2\n['David', 'Chapman'] 2\n['Malik', 'Thomas'] 2\n['Cynthia', 'Lloyd'] 2\n['Theresa', 'Ryan'] 2\n['Amber', 'Reynolds'] 2\n['Allen', 'Goodwin', 'DDS'] 3\n['Terry', 'Diaz'] 2\n['Jeffrey', 'Davis'] 2\n['Diana', 'Jones'] 2\n['Mia', 'Gould'] 2\n['Katherine', 'Johnson'] 2\n['Michael', 'Williams'] 2\n['Joseph', 'Turner'] 2\n['Peter', 'Potter'] 2\n['Ryan', 'Kim'] 2\n['Janice', 'Yoder'] 2\n['Carolyn', 'Webb'] 2\n['Elizabeth', 'Bush'] 2\n['Jaime', 'Edwards'] 2\n['Bethany', 'Smith'] 2\n['Wanda', 'Grimes'] 2\n['Karina', 'Allison'] 2\n['Timothy', 'Smith'] 2\n['Jason', 'Harris'] 2\n['Thomas', 'Smith'] 2\n['John', 'Whitaker'] 2\n['Kimberly', 'Brown', 'MD'] 3\n['Barbara', 'Miller'] 2\n['Madeline', 'Lopez'] 2\n['Carlos', 'Fischer'] 2\n['Amy', 'Collins'] 2\n['Abigail', 'White'] 2\n['Joanne', 'Strickland'] 2\n['Maria', 'Hernandez'] 2\n['Sandra', 'Mcdowell'] 2\n['Kristin', 'Krause'] 2\n['Alicia', 'Reese'] 2\n['Isaac', 'Holt'] 2\n['Jonathan', 'Garza'] 2\n['Phillip', 'Smith'] 2\n['Amanda', 'Vazquez'] 2\n['Jaime', 'Holland'] 2\n['Tina', 'Rhodes'] 2\n['John', 'Wells'] 2\n['Lindsay', 'Dougherty'] 2\n['Caitlyn', 'Vega'] 2\n['Kevin', 'Campbell'] 2\n['Michael', 'Everett'] 2\n['Christian', 'Martinez'] 2\n['Chad', 'Rivera'] 2\n['Amanda', 'Ferrell'] 2\n['Natasha', 'Murphy'] 2\n['Kathleen', 'Cook'] 2\n['Steven', 'Lewis', 'Jr.'] 3\n['Raymond', 'Hardy'] 2\n['Michael', 'Hill'] 2\n['Mary', 'Summers'] 2\n['Barbara', 'Cardenas'] 2\n['Angela', 'Garcia', 'DDS'] 3\n['Ronnie', 'Craig'] 2\n['Chad', 'Miller'] 2\n['Margaret', 'Perez'] 2\n['Michael', 'Rodriguez'] 2\n['Preston', 'Davis'] 2\n['Michael', 'Reed'] 2\n['Matthew', 'Ball'] 2\n['Larry', 'Robinson'] 2\n['Kyle', 'Gonzalez'] 2\n['Sarah', 'Atkinson'] 2\n['William', 'Foster', 'PhD'] 3\n['Michael', 'James'] 2\n['Michael', 'Strong'] 2\n['Kenneth', 'Moore'] 2\n['Brittney', 'Coleman'] 2\n['Jacob', 'Stein'] 2\n['Jason', 'Rodgers'] 2\n['Jose', 'Newton'] 2\n['John', 'Wheeler'] 2\n['April', 'Ellis'] 2\n['Caleb', 'Young'] 2\n['Derrick', 'Alexander'] 2\n['Jasmine', 'Li'] 2\n['Michael', 'Higgins'] 2\n['Joel', 'French'] 2\n['Sheri', 'Taylor'] 2\n['Vanessa', 'Wagner'] 2\n['Amanda', 'Ramirez'] 2\n['Susan', 'Gates'] 2\n['Jason', 'Lawrence'] 2\n['Jonathan', 'Alvarez'] 2\n['Joshua', 'Graham'] 2\n['Jeffery', 'Gomez'] 2\n['Sara', 'Hughes'] 2\n['Sandy', 'Johns'] 2\n['Melissa', 'Carter'] 2\n['Emma', 'Foley'] 2\n['Jennifer', 'Harris'] 2\n['Gloria', 'Wilson'] 2\n['Angela', 'Daniels'] 2\n['Marcus', 'Morgan'] 2\n['Joanna', 'Allen'] 2\n['Lisa', 'Kennedy'] 2\n['Joseph', 'Stewart'] 2\n['Lindsey', 'Thompson'] 2\n['Lori', 'Dickson'] 2\n['Jeremy', 'Edwards'] 2\n['Joseph', 'Burgess'] 2\n['Antonio', 'Kirk'] 2\n['Renee', 'Mcdonald'] 2\n['Kelli', 'Barnes'] 2\n['Lucas', 'Williams', 'Jr.'] 3\n['Kathleen', 'Barr'] 2\n['Nancy', 'Silva'] 2\n['Rachel', 'Murphy'] 2\n['Rhonda', 'Rodriguez'] 2\n['Tammy', 'Torres'] 2\n['Jennifer', 'White'] 2\n['Carrie', 'Stewart'] 2\n['Karen', 'Rogers'] 2\n['Dr.', 'Kimberly', 'Page'] 3\n['Catherine', 'Mendoza'] 2\n['Stacy', 'Wells'] 2\n['Crystal', 'Smith'] 2\n['Ernest', 'Lawrence'] 2\n['Sharon', 'Nguyen'] 2\n['Mary', 'Coffey'] 2\n['Kimberly', 'Pruitt'] 2\n['Richard', 'Mcdonald'] 2\n['Gregory', 'Taylor'] 2\n['Joseph', 'Ho'] 2\n['Anna', 'Smith'] 2\n['Daniel', 'Best'] 2\n['Terri', 'Johnston'] 2\n['Katherine', 'Harrison'] 2\n['Megan', 'Carson'] 2\n['Stephanie', 'Wilson'] 2\n['Samantha', 'Johnson'] 2\n['Andrew', 'Merritt'] 2\n['Susan', 'Simon'] 2\n['Maria', 'Shields'] 2\n['Samuel', 'Casey'] 2\n['Robert', 'Wood'] 2\n['Jonathan', 'Mueller'] 2\n['Diane', 'Miller'] 2\n['Brett', 'Arnold'] 2\n['Brian', 'Williams'] 2\n['Shawn', 'Hayden'] 2\n['Emily', 'Gomez'] 2\n['Kerri', 'Berger'] 2\n['Laura', 'Webster'] 2\n['Elizabeth', 'Aguirre'] 2\n['Victoria', 'Bailey'] 2\n['Monica', 'Hampton'] 2\n['Catherine', 'Lee'] 2\n['Cheyenne', 'Hernandez'] 2\n['Jonathan', 'Sullivan'] 2\n['Deborah', 'Higgins', 'DDS'] 3\n['Steven', 'Jackson'] 2\n['Cristian', 'Webster'] 2\n['Audrey', 'Fry'] 2\n['Michael', 'Carroll'] 2\n['Raymond', 'Hawkins'] 2\n['Christopher', 'Wilson'] 2\n['Glenda', 'Fletcher'] 2\n['Jennifer', 'Hamilton'] 2\n['Shannon', 'Williams'] 2\n['Lori', 'Moore'] 2\n['William', 'Hubbard'] 2\n['Bradley', 'Johnson'] 2\n['John', 'Brooks'] 2\n['Stephanie', 'Contreras'] 2\n['Kristen', 'Gonzalez'] 2\n['Kari', 'Holloway'] 2\n['Kimberly', 'Cabrera'] 2\n['Katie', 'Weaver'] 2\n['April', 'Reyes'] 2\n['Derek', 'Weeks'] 2\n['John', 'Reese'] 2\n['Joseph', 'Anthony'] 2\n['Donna', 'Howard'] 2\n['Dawn', 'Bell'] 2\n['Rebecca', 'Tanner'] 2\n['Desiree', 'Kidd'] 2\n['Carolyn', 'Jackson'] 2\n"
    }
   ],
   "source": [
    "# Split the student name and determine the length of the split name.\n",
    "for name in student_names:\n",
    "    print(name.split(), len(name.split()))"
   ]
  },
  {
   "cell_type": "code",
   "execution_count": 17,
   "metadata": {},
   "outputs": [
    {
     "output_type": "execute_result",
     "data": {
      "text/plain": "1531"
     },
     "metadata": {},
     "execution_count": 17
    }
   ],
   "source": [
    "# Create a new list and use it for the for loop to iterate through the list.\n",
    "students_to_fix = []\n",
    "\n",
    "# Use an if statement to check the length of the name.\n",
    "# If the name is greater than or equal to \"3\", add the name to the list.\n",
    "\n",
    "for name in student_names:\n",
    "    if len(name.split()) >= 3:\n",
    "        students_to_fix.append(name)\n",
    "\n",
    "# Get the length of the students whose names are greater than or equal to \"3\".\n",
    "len(students_to_fix)"
   ]
  },
  {
   "cell_type": "code",
   "execution_count": 18,
   "metadata": {
    "tags": [
     "outputPrepend"
    ]
   },
   "outputs": [
    {
     "output_type": "stream",
     "name": "stdout",
     "text": "d Johnson Jr.', 'Timothy Chavez Jr.', 'Michele Oconnell MD', 'Elizabeth Tran MD', 'Dr. Grace Martin', 'Sarah Chaney DDS', 'Mrs. Brooke Henry DDS', 'Dr. Lisa Coleman', 'Brian Powell III', 'Logan Oconnell PhD', 'Lance Rangel Jr.', 'Dr. Nicole King', 'Mr. John Carroll', 'Mr. Anthony Mccormick', 'Samuel Ruiz MD', 'Ms. Jennifer Richard', 'Mr. Stephen Cochran', 'Gary Jarvis MD', 'Dustin Stephenson MD', 'Mr. Derrick Campbell DDS', 'Lori Brown MD', 'Mrs. Brooke Rodgers', 'Mr. David Moss', 'Mr. Joseph Knight DDS', 'Mrs. Brittany Duncan MD', 'Mrs. Jennifer Edwards DVM', 'William Cook PhD', 'Kristina White MD', 'Tonya Henry MD', 'Robert Sanders PhD', 'Noah Herrera Jr.', 'Linda Marshall MD', 'James Davis MD', 'Dawn Gilbert MD', 'Dr. Dennis Andrews', 'Mr. John Evans', 'Mr. Michael Brooks', 'Shannon Ortiz MD', 'Mrs. Brenda Bishop MD', 'Wanda Miller MD', 'Mrs. Sheila Wagner', 'Mrs. Kathleen Johnson DVM', 'Dr. Shannon Russo', 'Chad Chavez DVM', 'Mr. William Holt', 'Paul Jensen PhD', 'Cassandra Gardner DDS', 'Mrs. Susan Klein', 'Dr. Amanda Nguyen', 'Mrs. Leslie Esparza', 'Mrs. Jacqueline Simpson', 'Mrs. Tammy Crane', 'Dr. Wendy Oliver', 'Katelyn Mejia DDS', 'Dr. Miguel Rivera', 'Mrs. Nancy Landry', 'Renee Stewart MD', 'Breanna Mcintyre DDS', 'Sarah Fischer MD', 'Ronald Berry DVM', 'Mrs. Amanda Cook', 'Dr. Monica Gonzalez', 'Miss Jennifer Moore', 'Crystal Watson DVM', 'Suzanne Edwards DDS', 'Lance Brown DVM', 'Olivia Taylor DDS', 'Mrs. Lauren Lewis', 'Jillian Proctor MD', 'Yvette Jacobson MD', 'Chelsea Rhodes DVM', 'Robert Brown DVM', 'Maria Brooks DDS', 'Eric Johnson Jr.', 'Kelly Webb PhD', 'Dr. Valerie Chen', 'Mrs. Taylor Martin', 'Dr. Andre Casey', 'Mr. Stephen Clements', 'Kevin Morrow MD', 'Dr. Louis Skinner', 'Adam Walker DVM', 'Mr. Steven Smith', 'Dr. Willie King', 'Miranda Stanley DVM', 'Dr. Travis Johnson', 'Mr. Christopher Cook', 'Mr. Martin Hensley DDS', 'Kelly Haynes DVM', 'Mr. Alexander Foster MD', 'Mr. William Rodgers', 'Anne Larsen MD', 'Sherry Johnson MD', 'Victor Chavez II', 'Brandon Dougherty DDS', 'Elizabeth Young DDS', 'Mr. Joshua Lucas', 'Michael Walsh DDS', 'Mrs. Lauren Campbell', 'Troy Camacho MD', 'Richard Ellis Jr.', 'Mr. Brandon Johnson', 'Mrs. Brooke Campbell', 'Dr. Karen Kelley', 'Mr. Jason Simmons', 'Mr. Larry Francis MD', 'Mr. Christopher Griffin', 'Mr. Dean York', 'Charles Goodman Jr.', 'Miss Erin Bradley DDS', 'Mr. Michael Allen', 'Kelly Romero MD', 'Anna Yang MD', 'John White DVM', 'Mr. James Barnes', 'Mr. Carlos Warner', 'April Calderon MD', 'Mrs. Kimberly Key DDS', 'Eric Park DDS', 'Patrick Barker PhD', 'Michael Singh Jr.', 'Jonathan Smith Jr.', 'Allen Morris Jr.', 'Mr. Lee Rose', 'Dr. Carl James', 'Dr. Kimberly Benjamin', 'Mr. Lucas Smith', 'Mr. Jason Grant DDS', 'Aaron Solis Jr.', 'Ryan Graham MD', 'Justin Morgan MD', 'Mrs. Victoria Cochran', 'Dr. Ryan Roberts', 'Katie Strickland DDS', 'Emma Perry MD', 'Mr. Daniel Mckinney Jr.', 'Mr. Paul Farmer', 'Stephanie Howard MD', 'Mandy Mcconnell DDS', 'Mrs. Angelica Hall', 'Christopher Petty Jr.', 'Megan Shaw DDS', 'Bianca Huynh MD', 'Miss Christina Burns', 'Melissa Dunn MD', 'Mr. Derek Wilson', 'Mr. Angel Johnson', 'Mrs. Nicole Duran', 'Michael Garcia Jr.', 'Mrs. Bethany Fisher PhD', 'Mr. Daniel Nguyen DDS', 'Wanda Moore MD', 'Charles Short II', 'Kimberly Jacobson PhD', 'Debbie Brown DVM', 'Mr. Michael Dyer MD', 'Joshua Kim DDS', 'Daniel Fitzpatrick PhD', 'Jordan Waller MD', 'Mr. Jesse Bell', 'Mario Myers MD', 'Terry Adams DDS', 'Derek Barker Jr.', 'Mrs. Renee Gordon', 'Mr. Vincent King', 'Dr. Oscar Lawson MD', 'Lisa Zimmerman DVM', 'Mr. Phillip Vaughan', 'Joseph Dyer MD', 'Dr. Austin Cole', 'Mrs. Amanda Martin', 'John Thomas MD', 'Sierra Dominguez MD', 'Mrs. Katie Weber MD', 'Ms. Nancy Green', 'Mrs. Pamela Garcia', 'Danielle Stanton MD', 'Elizabeth Logan DDS', 'Courtney Wall DVM', 'Karen Harris PhD', 'Mrs. Amanda Herring', 'Dr. David Miller', 'Mr. Eric Anderson', 'Mrs. Sheena Bailey DVM', 'Zachary Garrett III', 'Thomas Harrison Jr.', 'Megan Bennett DVM', 'Mr. Steven Harrison', 'Amy Mcintosh MD', 'Dr. Frank Anderson', 'Jamie Dawson MD', 'Mr. Andrew Mitchell V', 'Dr. Travis Richmond', 'Mrs. Amy Cain', 'Aaron Davis Jr.', 'Thomas Burgess MD', 'Amanda Hale DVM', 'Derek Cooke MD', 'Dr. Daniel Bowman', 'Dr. Jonathan Palmer', 'Lori Mitchell DDS', 'Mr. Richard Armstrong', 'Dr. Timothy Johnson', 'Mrs. Pam Lewis DVM', 'Amy Gutierrez DDS', 'Dr. Christina Flores', 'Brian Bailey Jr.', 'Mrs. Carla Humphrey', 'William Burch MD', 'Yvonne Robinson PhD', 'Martha Mcdonald DVM', 'Dr. Mary Schwartz', 'Taylor Green DDS', 'Christopher Simmons PhD', 'Rhonda Peterson MD', 'Jacqueline West DDS', 'Anne Lee DDS', 'Jacqueline Snow MD', 'Dr. Jennifer Shea', 'Clayton Williams DVM', 'Mr. Jeremiah Morris IV', 'Mr. John Harris', 'Mr. David Morales Jr.', 'Barbara Johnson MD', 'Megan Gutierrez MD', 'Larry Chandler Jr.', 'Ronald Matthews PhD', 'James Clark II', 'Cameron Roman Jr.', 'Mr. Ian Smith', 'Melissa Hunt MD', 'Alexandria Cooper MD', 'Mr. Andre Jensen', 'Renee Garcia MD', 'Christopher Smith Jr.', 'Mrs. Lori Rogers MD', 'Tammy Dunlap DVM', 'Matthew Sawyer PhD', 'Mike Harris PhD', 'Mrs. Christina Mitchell DDS', 'Evelyn Suarez DDS', 'Christina Alvarez PhD', 'Emily Duran MD', 'Todd Grant Jr.', 'Mrs. Veronica Sherman', 'Mr. Alan Anderson', 'Mr. Jason Jackson', 'Mrs. Jennifer Rivera', 'Dr. Terry Sanchez', 'Mr. Scott Sexton', 'Mrs. Wendy Hayes', 'Kenneth Santiago MD', 'Dr. Matthew Hernandez', 'Louis Hodges DDS', 'Dr. Douglas Duffy', 'Mrs. Michelle Patterson', 'Mrs. Jennifer Craig', 'Mr. Michael Graham', 'Dr. David Wright', 'Jeanne Fischer MD', 'Mrs. Amanda Rose', 'Rebecca Salazar DDS', 'Mrs. Kathleen Cook', 'Robert Olson DVM', 'Richard Cherry DDS', 'Jeffrey Shepard DVM', 'James Holland MD', 'Dr. Patricia Baker', 'Joshua Montgomery MD', 'Kevin Andrews PhD', 'Dr. Rachel Gilbert', 'Kenneth Avila Jr.', 'Miss Taylor Barron', 'Mr. Jason Lopez Jr.', 'Parker Carter MD', 'Dennis Wells DDS', 'Mrs. Carol White', 'Courtney Stephenson MD', 'Dr. Andrea Rose', 'Dr. Seth Villarreal DVM', 'Mrs. Sabrina Murillo MD', 'Mr. Eric Gordon', 'Mrs. Brenda Johnson DVM', 'Anthony Garrett DDS', 'Billy Franco PhD', 'Mr. Jeremiah Rogers', 'Mr. Donald Vang', 'Dr. Alexander Chang PhD', 'Mr. Robert Hendricks', 'Dr. Bryan Kim', 'Mrs. Cynthia Lopez', 'Dr. Laura Thompson', 'Ms. Stephanie Schwartz DDS', 'Mr. Anthony Deleon', 'Miss Sarah West', 'Dr. Devin Sharp PhD', 'Brittney Hammond DVM', 'Miss Chelsea Sullivan PhD', 'Dr. Jessica Love DVM', 'Leah Page DDS', 'Hannah Rose MD', 'Miss Norma Mcfarland', 'Dwayne Mathis Jr.', 'Cheryl Gay PhD', 'Patrick Morgan MD', 'Jeremy Rivera MD', 'Mr. Colton Collins II', 'Mr. Alexander Dalton', 'Dr. Nicholas Braun', 'Chris Palmer III', 'Mr. Mason Hernandez MD', 'Dr. Roberta Edwards', 'Dr. Kaitlin Barton', 'Dr. Nicholas Garcia', 'Mr. Trevor Woods', 'Dr. Bradley Jones DDS', 'Dr. Jennifer Thomas DDS', 'Dr. Adam Rivera', 'Mr. Sean Coleman PhD', 'Dr. Sheila Walton MD', 'Ian Sanchez DVM', 'Dr. Robert Mckinney', 'Laura Franco MD', 'Kelly Williams DDS', 'Mason Adams MD', 'Mr. Jason Davis', 'Dr. Daniel Flores', 'Mr. Gary Anderson DDS', 'Tyler Randall Jr.', 'Joshua Santiago DDS', 'Laurie Moore DDS', 'Dr. Susan Walsh', 'Kristin Smith MD', 'Mrs. Denise Vasquez', 'Miss Bridget Ryan', 'Joseph Morgan IV', 'Carlos Adkins Jr.', 'Michael Craig DDS', 'Dr. Brent Schwartz', 'Mrs. Melissa Vasquez', 'Ms. Sandra Ware', 'Dr. Becky Powell', 'Dr. Matthew Cooper DDS', 'Mark Livingston Jr.', 'Mr. Michael Martin DVM', 'Kari Anderson DVM', 'Mrs. Kaitlin Oconnor DVM', 'Crystal Miller DVM', 'Mrs. Margaret Watson', 'Mr. John Martin', 'Richard Price MD', 'Jennifer Powell DVM', 'Sheri Davis DDS', 'Traci Blanchard MD', 'Mrs. Nancy Blair', 'Aaron Carpenter MD', 'Dr. Monica Wilson', 'Dr. Kristin Holland', 'Kimberly Knight DDS', 'Mrs. Brittany Ford DDS', 'Benjamin Singh DVM', 'Dr. Amber Owens', 'Michael Williams III', 'Mrs. Wendy Gomez DVM', 'Kara Stuart MD', 'Kayla Torres DVM', 'Bobby Hart DDS', 'Mark Russell MD', 'John Duncan MD', 'Rachel Gonzalez DVM', 'Mrs. Katherine Jones', 'Dr. Brian Harrington DVM', 'Mrs. Theresa Winters', 'Mr. Chad Hale', 'Miguel Cook MD', 'Eric Evans III', 'John Murray DDS', 'Dr. Andrew Young', 'Mrs. Jordan White MD', 'Dr. Erica Stevenson', 'Mr. Stephen Hardy', 'Paul Stanley DDS', 'Christina Gonzalez DVM', 'Dr. Anthony Jimenez', 'Christopher Thornton Jr.', 'Mrs. Julie Powers', 'Dr. Christopher Sullivan', 'Dr. Joyce Pace', 'Dr. Alyssa Patrick', 'Adam Hayes III', 'Brittany Holmes MD', 'Mrs. Angela Floyd', 'Ms. Angela Hernandez', 'Michael Cummings MD', 'Brittany Sanchez PhD', 'Nicole Mclean DVM', 'Dr. Melissa Fernandez', 'Scott Bishop DDS', 'Mrs. Alexandra Hamilton', 'Dr. Jacob Taylor MD', 'Michael Moore Jr.', 'Ms. Alicia Zhang DDS', 'Mrs. Sharon Rose', 'Amber Ray MD', 'Mr. Jeremy Chang', 'Joseph Hudson II', 'Jessica Hughes MD', 'William Brooks Jr.', 'Mr. Jacob Frost', 'Mrs. Melissa Ingram DDS', 'Dr. Robert Murphy', 'Mrs. Melanie Martinez PhD', 'Mr. Stephen Berry', 'Dr. Judith Reese', 'Sarah Young DDS', 'Angela Thompson DDS', 'Mr. Darren Taylor', 'Daniel Welch II', 'Roger Horton Jr.', 'Dr. Virginia Evans', 'Dr. John Dyer', 'Jeffery Brown DDS', 'Paul Cox MD', 'Mrs. Angela Williams', 'Cory Marshall II', 'Mrs. Megan Clark MD', 'Dr. Jennifer Hogan MD', 'Natalie Davis MD', 'Dr. Sarah Johnson', 'Dr. Corey Mathis', 'Mr. Joshua Thompson Jr.', 'Nancy Stewart DDS', 'Mr. Brian Glover', 'Roberta Garcia MD', 'Erin Conrad DVM', 'Dr. Karla Love', 'Dr. Tina White PhD', 'Leslie Wright MD', 'Ms. Brittney Nunez', 'Mrs. Susan Mccormick', 'Amanda Wolf DVM', 'Mr. Mitchell Coleman', 'Miss Christy Harris', 'Dylan Foley DDS', 'Mr. Lance Stark', 'Ricky Murphy DDS', 'Mr. Elijah Anderson', 'Kristen Dennis DVM', 'Mr. Casey Vang', 'William Young DDS', 'Ms. Kristina Cook', 'Mrs. Kimberly Floyd DDS', 'Mr. Timothy Brooks', 'Mrs. Samantha Jackson', 'Miss Lori Doyle', 'Ms. Karen Villegas MD', 'Brenda Maldonado MD', 'Katherine Pierce MD', 'Dr. Aaron Morrison MD', 'Marcia Swanson DDS', 'Yolanda Harris DVM', 'Roger Forbes PhD', 'Dr. Tiffany Harmon', 'Mrs. Kimberly Brandt', 'Mr. Casey Pham', 'Mrs. Dana Hammond DDS', 'John Ruiz DDS', 'David Li MD', 'Lisa Velasquez MD', 'Brian Bryan MD', 'Mr. Brian Wilson', 'Mr. Joseph Medina', 'Monica Dean DDS', 'Travis Mcintyre DVM', 'Mrs. Kelsey Marshall', 'Mr. Duane Roberts MD', 'Jon Flores II', 'Mrs. Lisa Lyons MD', 'Dr. Philip Jones Jr.', 'Greg Joyce Jr.', 'Ms. Barbara Tran', 'Mrs. Mary Duarte MD', 'Christina Hull MD', 'Mr. Anthony Wilson', 'Mrs. Lisa Baker', 'Miss Mary Sloan', 'Mr. Joshua King', 'Daniel Mckinney MD', 'Nicole Martinez MD', 'Dr. David Robinson DVM', 'Joe Butler MD', 'Thomas Frye Jr.', 'Patrick Mcdaniel PhD', 'Dr. Brooke Williams', 'Robert Edwards PhD', 'Cynthia Mclaughlin PhD', 'Mark Hardy DDS', 'Dr. Kathryn Riley', 'Mrs. Heather Price', 'Miss Ashley Howell', 'Mr. James Adams', 'Mr. Michael Eaton', 'Mr. Joseph Marquez Jr.', 'Danielle Mercer DVM', 'Jacqueline York DDS', 'Mrs. Barbara Sanchez', 'Dr. Valerie Kline', 'Mr. Tony Cobb', 'Mr. Justin Jarvis', 'Nichole Novak MD', 'Mr. Matthew Cameron', 'Michael Robinson DVM', 'Adam Munoz PhD', 'Mr. Stephen Vaughan', 'Mr. Daniel Hale', 'Valerie Mccormick MD', 'Robert Smith Jr.', 'David Beck Jr.', 'Dana Bennett DVM', 'Dr. Tina Woodard', 'James Smith MD', 'Mr. Jerry Norton', 'Billy Hall DDS', 'Dr. Lauren Robertson MD', 'Mrs. Joyce Cunningham', 'Mr. Matthew Reilly', 'Erik Lowe MD', 'Mrs. Tara Lee', 'Dr. Theresa Gaines MD', 'Danielle Brown MD', 'Miss Misty Wood', 'Jonathan Maldonado MD', 'Mrs. Ashley Martin', 'Ms. Emily Ford', 'Mr. Isaiah Martinez DDS', 'Christopher Moore PhD', 'Mr. Andrew Robinson', 'Mr. Ryan Gates', 'John Fitzgerald MD', 'Gail Page PhD', 'Cheryl Richards MD', 'Todd Sandoval DVM', 'Mr. Brendan Watson', 'Mr. Brandon Bryan', 'Mrs. Karen Wright MD', 'Rhonda Stevenson MD', 'Danielle Cook MD', 'Ms. Taylor Velazquez', 'Michelle Porter DDS', 'Ryan Gomez II', 'Mrs. Rachel Hensley', 'Mrs. Cynthia Lawrence', 'Melissa Gonzalez DVM', 'Dr. Laura Tyler', 'Erik Smith Jr.', 'Angie Clarke DVM', 'Jennifer Olson MD', 'Omar Thompson Jr.', 'William Smith DDS', 'Jessica Smith DVM', 'Mr. Justin Mccoy', 'Robert Nguyen DDS', 'Leonard Roberts Jr.', 'Dr. Paul Johnson', 'Cody Martinez DVM', 'Duane Li Jr.', 'Ms. Allison Cunningham', 'Dr. Robert Hurley', 'Mrs. Ashley Floyd', 'Hunter James DDS', 'Dr. Brianna Greene MD', 'Matthew Higgins PhD', 'Mr. Jeremy Valentine', 'Wesley Martinez DDS', 'Mr. Justin Jones', 'Brent Ball DDS', 'Miss Jessica Holloway DVM', 'Mark Sanders MD', 'Dr. Tracy Levy', 'Larry Anderson MD', 'Dr. Steven Smith', 'Christian Hurst PhD', 'Amanda Gomez DDS', 'Mr. Anthony Nunez', 'Mrs. Rachel Newman DDS', 'Mr. Tyler Foster', 'Mr. Barry Copeland', 'Mr. Richard Edwards', 'Carly Montoya DDS', 'Mrs. Amy Bradford DDS', 'Mr. Tyler Allen', 'Mrs. Melissa Ramirez', 'Claudia Cook MD', 'Thomas Herrera DVM', 'Mr. Bobby Tucker', 'Dr. Stephanie Gonzalez', 'Dr. Bridget Hart DVM', 'Emily Graham DVM', 'Mr. Daniel Carpenter', 'Mr. Christian Bennett', 'Mr. Mark Peters DDS', 'Dr. Bradley Jackson', 'Miss Hannah Moore MD', 'Kaitlyn Adams MD', 'Darren Moore MD', 'Richard Lucero Jr.', 'Elizabeth Holder PhD', 'Mrs. Shannon Gonzalez MD', 'Seth Medina Jr.', 'Betty Raymond DVM', 'Dr. Crystal Watson', 'Scott Diaz DDS', 'Mrs. Lindsey White', 'Ryan Lamb DVM', 'Amber Graham MD', 'Mrs. Jennifer Chavez DVM', 'Becky Aguilar MD', 'Mrs. Lisa Vargas DDS', 'Robert Frazier DDS', 'Mrs. Jennifer Kelly', 'Mr. Richard Curry PhD', 'Mrs. Anna Perez', 'Keith Gomez DDS', 'Anthony Carlson Jr.', 'Dr. Bradley Rodgers', 'Mr. William Bishop', 'Mrs. Rhonda Bradley', 'Kimberly Martin DDS', 'Ryan Martinez MD', 'Latasha Thomas MD', 'Mrs. Tamara Burns', 'Andrea Dawson MD', 'Mr. Daniel Johnson', 'Lauren Smith MD', 'Dr. Nicole Brady', 'Wyatt Hoffman DDS', 'Dr. Kathy Bailey', 'Mr. Jorge Smith', 'Dr. Katherine Pham', 'Deanna Key DVM', 'Donna Mcclure MD', 'Dr. Jeremy Davis', 'Mrs. Brittany Boone MD', 'Debra Torres PhD', 'Hannah Garcia MD', 'Ms. Jacqueline Stone', 'Dr. Wesley Lynch MD', 'Edward Dudley II', 'Nathan Gonzalez MD', 'Dr. Sean Neal', 'Matthew Lewis Jr.', 'Jacob Perez PhD', 'Alexander Brown MD', 'Mr. Duane Sherman', 'Mr. John Petty', 'Ms. Brooke Stewart', 'Isaac Smith PhD', 'Dr. Kristi Soto MD', 'Dr. Timothy Haynes', 'Dr. Raven Ortiz MD', 'Kendra Buckley DDS', 'Mr. Russell Daniel', 'Christopher Bowers Jr.', 'Wendy Arroyo PhD', 'Taylor Hill DDS', 'Mrs. Lisa Guerrero', 'Mr. Jose Moran', 'Allison Perkins MD', 'Lisa Monroe DDS', 'Kenneth Cervantes DDS', 'Sandra Freeman MD', 'Mr. Patrick Rodriguez MD', 'Brendan Kim MD', 'Timothy Hughes Jr.', 'Dr. Carlos Mcdonald', 'Chad Bryant DDS', 'Gina Nguyen DDS', 'Dr. James Myers', 'Meagan Browning MD', 'Mr. Frank Delgado', 'Michael Torres MD', 'Michelle Richards MD', 'Kimberly Osborn MD', 'Kevin Hoover IV', 'Mr. Jeffrey Thompson', 'Mrs. Laurie Hamilton', 'David Butler Jr.', 'Amy Jones MD', 'Nicholas Frost DDS', 'Mr. James Thompson MD', 'Mrs. Adrienne Evans DDS', 'Mr. Christopher Bell', 'Louis Smith MD', 'Dr. Cameron Anderson', 'Crystal Wiggins MD', 'Michael Wilson Jr.', 'Matthew Savage MD', 'Jeffrey Jones DVM', 'Mr. John Burns', 'Dr. Luke Torres DVM', 'Christopher Stewart DVM', 'Benjamin Carlson MD', 'Emily Fitzgerald MD', 'Mrs. Carolyn Cole', 'Bruce Cummings DVM', 'Lisa Vance DVM', 'Mrs. Lisa Doyle', 'Dr. Brenda Sandoval', 'Miss Taylor Garza', 'Elizabeth Robinson PhD', 'Mr. George Hess Jr.', 'Courtney Cox PhD', 'Mr. Brian Schmidt DVM', 'Kevin Briggs Jr.', 'Ms. Grace Austin', 'Louis Cooper MD', 'Mrs. Tabitha Coleman', 'Thomas Knox MD', 'Sierra Little DDS', 'Mr. Joseph Matthews III', 'Mrs. Brenda Henderson DVM', 'Michael Martin DDS', 'Mr. Andrew Dennis', 'Dr. Edward Davenport', 'Dr. Dylan Bailey Jr.', 'Mr. John Jackson', 'Lisa Hernandez MD', 'Dr. Michael Gibbs', 'Angel Brown MD', 'Mr. Timothy Carter', 'Anthony Woods Jr.', 'Ms. Amy Watson', 'Marcus Jones MD', 'Kelsey Bennett MD', 'Ashley Wells DVM', 'Michael Harris Jr.', 'Daniel Diaz Jr.', 'Mrs. April Thornton', 'Steven Reid DDS', 'Mr. Jay Maxwell', 'Dr. Patrick Rasmussen', 'Dr. Jordan Smith', 'Cristian Williams PhD', 'Mrs. Amanda Harris DDS', 'Sean Reed DDS', 'Dr. Robin Higgins', 'Dr. Megan Glass', 'Mr. William Scott', 'Mr. Chad Gentry DDS', 'Taylor Thompson Jr.', 'Miss Wendy Martin', 'Daniel Robinson Jr.', 'Miss Jessica Hood', 'Michael Taylor MD', 'Micheal Stout DVM', 'Michael Aguirre DDS', 'Dr. Karl Campbell', 'Mr. Aaron Randolph', 'Dr. Jenna Arellano MD', 'Holly Adams MD', 'Melissa Barnett PhD', 'Brenda Brown DDS', 'Alicia Palmer MD', 'Dr. Carl Haynes', 'Anthony Bryant DDS', 'Christopher Perez DVM', 'Mrs. Amber Garner DVM', 'Thomas Diaz MD', 'Mr. Logan Thomas', 'Sherry Turner DDS', 'Joshua Martinez MD', 'Mrs. Alicia Sanford', 'Mrs. Laura Sexton', 'Melissa Coleman MD', 'Dr. Dana Burnett MD', 'Ronald Phelps Jr.', 'Mrs. Jessica Flynn', 'Dr. Robin Jones', 'Mr. Michael Jones', 'Jeffrey Parker MD', 'Mrs. Elizabeth Jones', 'Erika Stafford DVM', 'Mr. Vincent Reed', 'Mr. Justin Mcgee', 'Todd Turner DDS', 'Karen Kidd MD', 'Michael Miller PhD', 'Dr. Deborah Farrell', 'Mrs. Sharon Kelley', 'Andrew Cole MD', 'Jonathan Reid II', 'Mrs. Taylor Castillo', 'Joshua Smith Jr.', 'Joseph Herrera III', 'Miss Megan Smith', 'Catherine Ferguson MD', 'Dr. Mitchell Hays', 'Mrs. Jordan Turner', 'Mr. Robert Reyes', 'Mr. Johnny Walsh', 'Andrew Walsh PhD', 'Mrs. Lauren Collins', 'Adam Thompson MD', 'Mrs. Chelsea Roberts MD', 'Ms. Debra Brown', 'Vicki Santos PhD', 'Tony Robertson II', 'Kathleen Golden DDS', 'Dr. Elizabeth Tran', 'Miss Rachel West', 'Jessica Hoover DVM', 'Toni Graham DDS', 'Joseph Patel MD', 'Nathaniel Molina DDS', 'Ms. Cheryl Fisher', 'Nicolas Crawford MD', 'Wendy Owens DVM', 'Patricia Boone MD', 'Mr. Robert Estrada', 'Mr. Kevin Yates', 'James Fowler III', 'Dr. Andrea Welch DDS', 'Ms. Sara Parker', 'Dr. Destiny Mcdonald', 'Mrs. Brittany Perry MD', 'Timothy Mccoy DVM', 'Melissa Cohen MD', 'William Wright II', 'Dr. Jose White', 'Dr. Mason Graves', 'Dr. Diane Rodriguez', 'Marilyn Rubio DDS', 'Jose Lewis MD', 'Latasha Hughes MD', 'Monica Wallace DDS', 'Dr. Robin Reed', 'Dr. Ashley Butler', 'Misty Garcia MD', 'Amy Turner MD', 'Robert Miller DVM', 'Andrea Horton MD', 'Thomas Estes MD', 'Justin Warner MD', 'Thomas Carrillo II', 'James Hess DDS', 'Matthew Bennett Jr.', 'John Scott MD', 'Mrs. Carla Lawson', 'Anthony Campbell DDS', 'Mario Griffith MD', 'Mr. Jacob Jackson', 'Mrs. Allison Robinson', 'Mrs. Amber Hall', 'Miss Gabriela Burch', 'Kathryn Wade MD', 'Mr. Anthony Martinez', 'Dr. Justin Duffy', 'Steven Hoover MD', 'Mary Smith MD', 'Tiffany Young DDS', 'Mark Lucas IV', 'Kenneth Marquez MD', 'Keith Newman Jr.', 'Matthew Mitchell III', 'Dr. Jo Williams', 'Lauren Howell DDS', 'Erica Martin DDS', 'Ms. Hannah Mcdonald MD', 'Brandon Palmer DDS', 'Ms. Stephanie Nichols DVM', 'Dr. Mckenzie Cummings', 'Valerie Joseph DVM', 'Harold Parker PhD', 'Mr. David Reeves', 'Dr. Christina Barrera', 'Kristen Solis MD', 'Colin Schultz II', 'Miss Michelle Li', 'Mr. Andrew Summers', 'Dr. Kimberly Ramos', 'Thomas Meyer DVM', 'Troy Foster MD', 'John Hernandez DVM', 'Valerie Krueger DDS', 'Carol Valdez DDS', 'Dr. Jay Johnson DDS', 'Brenda Holloway DVM', 'Wendy Parker MD', 'Kim Smith DVM', 'Mr. Wesley Fields MD', 'Nicole White MD', 'Amanda Skinner MD', 'Adrienne Turner MD', 'Terry Scott Jr.', 'Cesar Rodriguez DVM', 'Jennifer Gay MD', 'Mr. Earl Thompson', 'Miss Melinda Thomas', 'Mary Nixon MD', 'Leslie Kelly MD', 'Mrs. Kristen Gonzalez', 'Michael Carter MD', 'Joseph Perez DDS', 'Mrs. Alice Warren', 'Julia Kelley MD', 'David Coffey PhD', 'Mrs. Pam Wolf DDS', 'Mr. Ryan Thomas', 'Gregory Morgan MD', 'Dr. Carol Williams', 'Ms. Rebecca Gonzales', 'Mrs. Samantha Glover', 'Anna Decker MD', 'Hailey Lopez DDS', 'Mr. James Baker', 'Mrs. Amber Gonzalez', 'Mr. Jason Patel Jr.', 'Stephanie Walker DDS', 'Mr. Timothy Scott', 'Dr. Michael Sullivan DDS', 'Mrs. Brittney Schultz DVM', 'Dr. Frances Romero', 'Laura Bennett DDS', 'Allen Goodwin DDS', 'Kimberly Brown MD', 'Steven Lewis Jr.', 'Angela Garcia DDS', 'William Foster PhD', 'Lucas Williams Jr.', 'Dr. Kimberly Page', 'Deborah Higgins DDS']\n"
    }
   ],
   "source": [
    "print(students_to_fix)"
   ]
  },
  {
   "cell_type": "code",
   "execution_count": 19,
   "metadata": {
    "tags": []
   },
   "outputs": [
    {
     "output_type": "stream",
     "name": "stdout",
     "text": "['Dr.', 'Dr.', 'Mr.', 'Dr.', 'Miss', 'Luke', 'Dr.', 'Mrs.', 'Mrs.', 'Mr.', 'Dr.', 'Mr.', 'Mr.', 'Mary', 'Mrs.', 'Mrs.', 'Mr.', 'Tara', 'Dr.', 'Mr.', 'Mrs.', 'Mr.', 'Mr.', 'John', 'Mr.', 'Mrs.', 'Mr.', 'Dr.', 'Mr.', 'Mr.', 'Dale', 'Dr.', 'Dr.', 'Dr.', 'Ms.', 'Dr.', 'Dr.', 'Mr.', 'Mrs.', 'Amy', 'Mr.', 'Dr.', 'Mr.', 'Mr.', 'Mrs.', 'Mrs.', 'Mr.', 'Lisa', 'Mr.', 'Dr.', 'Mr.', 'Mr.', 'Mr.', 'Dr.', 'Mr.', 'Mark', 'Mrs.', 'Dr.', 'Dr.', 'Miss', 'Mr.', 'Miss', 'Mr.', 'Mrs.', 'Mr.', 'Mrs.', 'Mr.', 'Mr.', 'Mr.', 'Dr.', 'Dr.', 'Miss', 'Mr.', 'Mrs.', 'Mr.', 'Tara', 'Dr.', 'Mr.', 'Cody', 'Mr.', 'Dr.', 'Mr.', 'Ms.', 'Dr.', 'Mr.', 'Mrs.', 'Sara', 'Mr.', 'Mrs.', 'Dr.', 'Mr.', 'Dr.', 'Mr.', 'Mrs.', 'Mr.', 'Mr.', 'Mr.', 'Mr.', 'Mr.', 'Dr.', 'Mrs.', 'Mr.', 'Mrs.', 'Dr.', 'Ryan', 'Mrs.', 'Mr.', 'Ms.', 'Mr.', 'Dr.', 'John', 'Mr.', 'Dr.', 'Dr.', 'Mrs.', 'Dr.', 'Mrs.', 'Mr.', 'Mr.', 'Mrs.', 'Dr.', 'Dr.', 'Miss', 'Miss', 'Mr.', 'Mr.', 'Mr.', 'Dr.', 'Dr.', 'Mrs.', 'Mr.', 'Ms.', 'Mr.', 'Miss', 'Tony', 'Dr.', 'Mr.', 'Mr.', 'Mrs.', 'Mr.', 'Mrs.', 'Miss', 'Mrs.', 'Jodi', 'Mr.', 'Mr.', 'Mrs.', 'Mr.', 'Mr.', 'Mrs.', 'Mrs.', 'Mrs.', 'Mr.', 'Mr.', 'Mr.', 'Mrs.', 'Dr.', 'Mr.', 'Mr.', 'Mrs.', 'Mr.', 'Mrs.', 'Mr.', 'Dr.', 'Mr.', 'Mr.', 'Ruth', 'Dr.', 'Mr.', 'Ms.', 'Dr.', 'Mr.', 'Mrs.', 'Mr.', 'Dr.', 'Dr.', 'John', 'Dr.', 'Mr.', 'Mrs.', 'Mrs.', 'Mrs.', 'Dr.', 'Mrs.', 'John', 'Amy', 'Adam', 'Dr.', 'Eric', 'Mrs.', 'Mr.', 'Mrs.', 'Dr.', 'Dr.', 'Kyle', 'Mr.', 'Ms.', 'Lynn', 'Dr.', 'Mr.', 'Jon', 'Mrs.', 'Mrs.', 'Mrs.', 'Dr.', 'Mrs.', 'Dr.', 'Dr.', 'Dr.', 'Mrs.', 'Mrs.', 'Judy', 'Mr.', 'Dr.', 'Mr.', 'Mrs.', 'Dr.', 'Mr.', 'Mr.', 'Mr.', 'Sara', 'Dr.', 'Dr.', 'Mrs.', 'Tara', 'Dr.', 'Mrs.', 'Dr.', 'Miss', 'Mrs.', 'Mr.', 'Dr.', 'Miss', 'Tina', 'Dr.', 'Eric', 'Ms.', 'Ms.', 'Mr.', 'Mrs.', 'Dr.', 'Dr.', 'Mr.', 'Mr.', 'Dr.', 'Mr.', 'Mr.', 'Dr.', 'Miss', 'Dr.', 'Paul', 'Mrs.', 'Mr.', 'Mrs.', 'Mr.', 'Mr.', 'Mr.', 'Dr.', 'Mrs.', 'Dr.', 'Dr.', 'Mrs.', 'Mrs.', 'Dr.', 'Dr.', 'Dr.', 'Mr.', 'Ms.', 'Dr.', 'Mr.', 'Mrs.', 'Dr.', 'Mrs.', 'Dr.', 'Mrs.', 'Mr.', 'Dr.', 'Mrs.', 'Mrs.', 'Mrs.', 'Dr.', 'Dr.', 'Mr.', 'Mr.', 'Mr.', 'Dr.', 'Marc', 'Mr.', 'Dr.', 'Dr.', 'Dr.', 'Mrs.', 'Dr.', 'Mrs.', 'Mrs.', 'Mr.', 'Mrs.', 'Dr.', 'Dr.', 'Dr.', 'Dr.', 'Mr.', 'Dr.', 'Mr.', 'Mrs.', 'Dr.', 'Dr.', 'Dr.', 'Amy', 'Dr.', 'Mr.', 'Mrs.', 'Mr.', 'Mrs.', 'Dr.', 'Dr.', 'Mr.', 'Mrs.', 'Dr.', 'Jill', 'Mary', 'Carl', 'Mr.', 'Dr.', 'Jose', 'Mrs.', 'Mary', 'Ms.', 'Jose', 'Lisa', 'Mrs.', 'Mr.', 'Miss', 'Mr.', 'Eric', 'Mr.', 'Mrs.', 'Mrs.', 'Miss', 'Emma', 'Mrs.', 'Dr.', 'Mrs.', 'Mr.', 'Dr.', 'Mr.', 'Mr.', 'Dr.', 'Dr.', 'Mrs.', 'Dr.', 'Dr.', 'Mr.', 'Mr.', 'Ms.', 'Mr.', 'Gary', 'Mr.', 'Lori', 'Mrs.', 'Mr.', 'Mr.', 'Mrs.', 'Mrs.', 'Noah', 'Dawn', 'Dr.', 'Mr.', 'Mr.', 'Mrs.', 'Mrs.', 'Mrs.', 'Dr.', 'Chad', 'Mr.', 'Paul', 'Mrs.', 'Dr.', 'Mrs.', 'Mrs.', 'Mrs.', 'Dr.', 'Dr.', 'Mrs.', 'Mrs.', 'Dr.', 'Miss', 'Mrs.', 'Eric', 'Dr.', 'Mrs.', 'Dr.', 'Mr.', 'Dr.', 'Adam', 'Mr.', 'Dr.', 'Dr.', 'Mr.', 'Mr.', 'Mr.', 'Mr.', 'Anne', 'Mr.', 'Mrs.', 'Troy', 'Mr.', 'Mrs.', 'Dr.', 'Mr.', 'Mr.', 'Mr.', 'Mr.', 'Miss', 'Mr.', 'Anna', 'John', 'Mr.', 'Mr.', 'Mrs.', 'Eric', 'Mr.', 'Dr.', 'Dr.', 'Mr.', 'Mr.', 'Ryan', 'Mrs.', 'Dr.', 'Emma', 'Mr.', 'Mr.', 'Mrs.', 'Miss', 'Mr.', 'Mr.', 'Mrs.', 'Mrs.', 'Mr.', 'Mr.', 'Mr.', 'Mrs.', 'Mr.', 'Dr.', 'Lisa', 'Mr.', 'Dr.', 'Mrs.', 'John', 'Mrs.', 'Ms.', 'Mrs.', 'Mrs.', 'Dr.', 'Mr.', 'Mrs.', 'Mr.', 'Amy', 'Dr.', 'Mr.', 'Dr.', 'Mrs.', 'Dr.', 'Dr.', 'Lori', 'Mr.', 'Dr.', 'Mrs.', 'Amy', 'Dr.', 'Mrs.', 'Dr.', 'Anne', 'Dr.', 'Mr.', 'Mr.', 'Mr.', 'Mr.', 'Mr.', 'Mrs.', 'Mike', 'Mrs.', 'Todd', 'Mrs.', 'Mr.', 'Mr.', 'Mrs.', 'Dr.', 'Mr.', 'Mrs.', 'Dr.', 'Dr.', 'Mrs.', 'Mrs.', 'Mr.', 'Dr.', 'Mrs.', 'Mrs.', 'Dr.', 'Dr.', 'Miss', 'Mr.', 'Mrs.', 'Dr.', 'Dr.', 'Mrs.', 'Mr.', 'Mrs.', 'Mr.', 'Mr.', 'Dr.', 'Mr.', 'Dr.', 'Mrs.', 'Dr.', 'Ms.', 'Mr.', 'Miss', 'Dr.', 'Miss', 'Dr.', 'Leah', 'Miss', 'Mr.', 'Mr.', 'Dr.', 'Mr.', 'Dr.', 'Dr.', 'Dr.', 'Mr.', 'Dr.', 'Dr.', 'Dr.', 'Mr.', 'Dr.', 'Ian', 'Dr.', 'Mr.', 'Dr.', 'Mr.', 'Dr.', 'Mrs.', 'Miss', 'Dr.', 'Mrs.', 'Ms.', 'Dr.', 'Dr.', 'Mark', 'Mr.', 'Kari', 'Mrs.', 'Mrs.', 'Mr.', 'Mrs.', 'Dr.', 'Dr.', 'Mrs.', 'Dr.', 'Mrs.', 'Kara', 'Mark', 'John', 'Mrs.', 'Dr.', 'Mrs.', 'Mr.', 'Eric', 'John', 'Dr.', 'Mrs.', 'Dr.', 'Mr.', 'Paul', 'Dr.', 'Mrs.', 'Dr.', 'Dr.', 'Dr.', 'Adam', 'Mrs.', 'Ms.', 'Dr.', 'Mrs.', 'Dr.', 'Ms.', 'Mrs.', 'Mr.', 'Mr.', 'Mrs.', 'Dr.', 'Mrs.', 'Mr.', 'Dr.', 'Mr.', 'Dr.', 'Dr.', 'Paul', 'Mrs.', 'Cory', 'Mrs.', 'Dr.', 'Dr.', 'Dr.', 'Mr.', 'Mr.', 'Erin', 'Dr.', 'Dr.', 'Ms.', 'Mrs.', 'Mr.', 'Miss', 'Mr.', 'Mr.', 'Mr.', 'Ms.', 'Mrs.', 'Mr.', 'Mrs.', 'Miss', 'Ms.', 'Dr.', 'Dr.', 'Mrs.', 'Mr.', 'Mrs.', 'John', 'Lisa', 'Mr.', 'Mr.', 'Mrs.', 'Mr.', 'Jon', 'Mrs.', 'Dr.', 'Greg', 'Ms.', 'Mrs.', 'Mr.', 'Mrs.', 'Miss', 'Mr.', 'Dr.', 'Joe', 'Dr.', 'Mark', 'Dr.', 'Mrs.', 'Miss', 'Mr.', 'Mr.', 'Mr.', 'Mrs.', 'Dr.', 'Mr.', 'Mr.', 'Mr.', 'Adam', 'Mr.', 'Mr.', 'Dana', 'Dr.', 'Mr.', 'Dr.', 'Mrs.', 'Mr.', 'Erik', 'Mrs.', 'Dr.', 'Miss', 'Mrs.', 'Ms.', 'Mr.', 'Mr.', 'Mr.', 'John', 'Gail', 'Todd', 'Mr.', 'Mr.', 'Mrs.', 'Ms.', 'Ryan', 'Mrs.', 'Mrs.', 'Dr.', 'Erik', 'Omar', 'Mr.', 'Dr.', 'Cody', 'Ms.', 'Dr.', 'Mrs.', 'Dr.', 'Mr.', 'Mr.', 'Miss', 'Mark', 'Dr.', 'Dr.', 'Mr.', 'Mrs.', 'Mr.', 'Mr.', 'Mr.', 'Mrs.', 'Mr.', 'Mrs.', 'Mr.', 'Dr.', 'Dr.', 'Mr.', 'Mr.', 'Mr.', 'Dr.', 'Miss', 'Mrs.', 'Seth', 'Dr.', 'Mrs.', 'Ryan', 'Mrs.', 'Mrs.', 'Mrs.', 'Mr.', 'Mrs.', 'Dr.', 'Mr.', 'Mrs.', 'Ryan', 'Mrs.', 'Mr.', 'Dr.', 'Dr.', 'Mr.', 'Dr.', 'Dr.', 'Mrs.', 'Ms.', 'Dr.', 'Dr.', 'Mr.', 'Mr.', 'Ms.', 'Dr.', 'Dr.', 'Dr.', 'Mr.', 'Mrs.', 'Mr.', 'Lisa', 'Mr.', 'Dr.', 'Chad', 'Gina', 'Dr.', 'Mr.', 'Mr.', 'Mrs.', 'Amy', 'Mr.', 'Mrs.', 'Mr.', 'Dr.', 'Mr.', 'Dr.', 'Mrs.', 'Lisa', 'Mrs.', 'Dr.', 'Miss', 'Mr.', 'Mr.', 'Ms.', 'Mrs.', 'Mr.', 'Mrs.', 'Mr.', 'Dr.', 'Dr.', 'Mr.', 'Lisa', 'Dr.', 'Mr.', 'Ms.', 'Mrs.', 'Mr.', 'Dr.', 'Dr.', 'Mrs.', 'Sean', 'Dr.', 'Dr.', 'Mr.', 'Mr.', 'Miss', 'Miss', 'Dr.', 'Mr.', 'Dr.', 'Dr.', 'Mrs.', 'Mr.', 'Mrs.', 'Mrs.', 'Dr.', 'Mrs.', 'Dr.', 'Mr.', 'Mrs.', 'Mr.', 'Mr.', 'Todd', 'Dr.', 'Mrs.', 'Mrs.', 'Miss', 'Dr.', 'Mrs.', 'Mr.', 'Mr.', 'Mrs.', 'Adam', 'Mrs.', 'Ms.', 'Tony', 'Dr.', 'Miss', 'Toni', 'Ms.', 'Mr.', 'Mr.', 'Dr.', 'Ms.', 'Dr.', 'Mrs.', 'Dr.', 'Dr.', 'Dr.', 'Jose', 'Dr.', 'Dr.', 'Amy', 'John', 'Mrs.', 'Mr.', 'Mrs.', 'Mrs.', 'Miss', 'Mr.', 'Dr.', 'Mary', 'Mark', 'Dr.', 'Ms.', 'Ms.', 'Dr.', 'Mr.', 'Dr.', 'Miss', 'Mr.', 'Dr.', 'Troy', 'John', 'Dr.', 'Kim', 'Mr.', 'Mr.', 'Miss', 'Mary', 'Mrs.', 'Mrs.', 'Mrs.', 'Mr.', 'Dr.', 'Ms.', 'Mrs.', 'Anna', 'Mr.', 'Mrs.', 'Mr.', 'Mr.', 'Dr.', 'Mrs.', 'Dr.', 'Dr.']\n"
    }
   ],
   "source": [
    "# Add the prefixes less than or equal to 4 to a new list.\n",
    "prefixes = []\n",
    "for name in students_to_fix:\n",
    "    if len(name.split()[0]) <= 4:\n",
    "        prefixes.append(name.split()[0])\n",
    "\n",
    "print(prefixes)"
   ]
  },
  {
   "cell_type": "code",
   "execution_count": 20,
   "metadata": {
    "tags": []
   },
   "outputs": [
    {
     "output_type": "stream",
     "name": "stdout",
     "text": "['MD', 'MD', 'MD', 'III', 'DVM', 'MD', 'MD', 'MD', 'DDS', 'DVM', 'II', 'MD', 'MD', 'DDS', 'MD', 'DDS', 'MD', 'MD', 'PhD', 'MD', 'DVM', 'Lee', 'MD', 'DDS', 'MD', 'MD', 'MD', 'MD', 'MD', 'MD', 'DDS', 'Jr.', 'DVM', 'MD', 'MD', 'PhD', 'IV', 'MD', 'DDS', 'DDS', 'DDS', 'MD', 'DDS', 'MD', 'DVM', 'IV', 'MD', 'DDS', 'MD', 'MD', 'DVM', 'Jr.', 'MD', 'PhD', 'II', 'MD', 'DDS', 'DDS', 'DDS', 'Jr.', 'III', 'MD', 'MD', 'MD', 'DDS', 'Jr.', 'DDS', 'DVM', 'DDS', 'DVM', 'MD', 'DDS', 'PhD', 'DDS', 'DDS', 'Jr.', 'Jr.', 'DVM', 'DDS', 'MD', 'MD', 'DVM', 'DDS', 'DVM', 'Jr.', 'MD', 'Jr.', 'MD', 'PhD', 'PhD', 'DDS', 'MD', 'DDS', 'DVM', 'Cox', 'DVM', 'MD', 'Jr.', 'MD', 'DDS', 'MD', 'MD', 'DDS', 'DDS', 'Roy', 'DDS', 'DDS', 'DDS', 'II', 'PhD', 'MD', 'PhD', 'DDS', 'MD', 'DDS', 'Jr.', 'Day', 'DDS', 'MD', 'PhD', 'DDS', 'Jr.', 'DDS', 'MD', 'MD', 'MD', 'MD', 'DDS', 'MD', 'DDS', 'PhD', 'DVM', 'DDS', 'MD', 'MD', 'MD', 'DDS', 'Jr.', 'Jr.', 'DDS', 'Jr.', 'MD', 'MD', 'PhD', 'PhD', 'DDS', 'MD', 'MD', 'III', 'DVM', 'PhD', 'Jr.', 'II', 'DDS', 'DDS', 'DVM', 'MD', 'II', 'MD', 'DDS', 'MD', 'DDS', 'PhD', 'DDS', 'DDS', 'II', 'DVM', 'DDS', 'Jr.', 'DVM', 'MD', 'MD', 'DVM', 'MD', 'DDS', 'DVM', 'DDS', 'MD', 'II', 'PhD', 'MD', 'MD', 'MD', 'DDS', 'MD', 'MD', 'DDS', 'DDS', 'MD', 'DDS', 'PhD', 'DVM', 'DVM', 'MD', 'MD', 'DDS', 'DDS', 'PhD', 'MD', 'IV', 'DDS', 'Jr.', 'DDS', 'Jr.', 'MD', 'MD', 'MD', 'DDS', 'MD', 'DVM', 'DVM', 'DDS', 'DDS', 'Jr.', 'MD', 'MD', 'DDS', 'DDS', 'MD', 'MD', 'MD', 'MD', 'DVM', 'MD', 'DVM', 'DVM', 'MD', 'DDS', 'MD', 'Jr.', 'DDS', 'MD', 'MD', 'DVM', 'Jr.', 'DDS', 'MD', 'MD', 'PhD', 'DDS', 'Jr.', 'MD', 'DDS', 'MD', 'DDS', 'Jr.', 'Jr.', 'DVM', 'MD', 'DDS', 'PhD', 'MD', 'PhD', 'MD', 'V', 'II', 'MD', 'PhD', 'DVM', 'MD', 'MD', 'PhD', 'MD', 'MD', 'MD', 'DDS', 'DVM', 'Jr.', 'MD', 'Jr.', 'Jr.', 'DDS', 'PhD', 'DVM', 'DVM', 'MD', 'MD', 'MD', 'DVM', 'MD', 'DDS', 'MD', 'DDS', 'Jr.', 'MD', 'DDS', 'DDS', 'Jr.', 'DVM', 'DVM', 'DDS', 'MD', 'MD', 'DVM', 'MD', 'MD', 'MD', 'DDS', 'MD', 'Jr.', 'MD', 'MD', 'PhD', 'PhD', 'DDS', 'DDS', 'DDS', 'MD', 'MD', 'PhD', 'Jr.', 'MD', 'DDS', 'III', 'DVM', 'Jr.', 'DDS', 'DDS', 'MD', 'DVM', 'MD', 'DDS', 'MD', 'PhD', 'DDS', 'Lee', 'MD', 'Jr.', 'MD', 'DVM', 'DDS', 'DDS', 'MD', 'MD', 'DVM', 'DVM', 'DVM', 'MD', 'DDS', 'DVM', 'DDS', 'MD', 'MD', 'MD', 'DDS', 'PhD', 'DDS', 'DVM', 'DDS', 'DVM', 'DDS', 'DVM', 'DVM', 'DDS', 'II', 'MD', 'III', 'DDS', 'DDS', 'DVM', 'DVM', 'MD', 'Jr.', 'II', 'MD', 'PhD', 'PhD', 'MD', 'DDS', 'DVM', 'DVM', 'MD', 'MD', 'DVM', 'DVM', 'PhD', 'Jr.', 'Jr.', 'MD', 'MD', 'DDS', 'DDS', 'III', 'PhD', 'Jr.', 'MD', 'MD', 'MD', 'DDS', 'MD', 'DDS', 'MD', 'DVM', 'PhD', 'MD', 'MD', 'PhD', 'Jr.', 'MD', 'MD', 'MD', 'MD', 'MD', 'MD', 'DVM', 'DVM', 'PhD', 'DDS', 'DDS', 'MD', 'DDS', 'MD', 'DVM', 'DVM', 'DDS', 'DVM', 'DDS', 'MD', 'MD', 'DVM', 'DVM', 'DDS', 'Jr.', 'PhD', 'MD', 'DVM', 'DVM', 'DDS', 'DVM', 'MD', 'MD', 'MD', 'II', 'DDS', 'DDS', 'DDS', 'MD', 'Jr.', 'MD', 'Jr.', 'DDS', 'MD', 'MD', 'DVM', 'MD', 'DDS', 'DDS', 'PhD', 'Jr.', 'Jr.', 'Jr.', 'DDS', 'Jr.', 'MD', 'MD', 'DDS', 'MD', 'Jr.', 'MD', 'DDS', 'Jr.', 'DDS', 'MD', 'MD', 'Jr.', 'PhD', 'DDS', 'MD', 'II', 'PhD', 'DVM', 'MD', 'DDS', 'PhD', 'MD', 'MD', 'DDS', 'Jr.', 'MD', 'DVM', 'MD', 'MD', 'MD', 'MD', 'MD', 'DDS', 'DVM', 'PhD', 'DVM', 'III', 'Jr.', 'DVM', 'MD', 'MD', 'V', 'Jr.', 'MD', 'DVM', 'MD', 'DDS', 'DVM', 'DDS', 'Jr.', 'MD', 'PhD', 'DVM', 'DDS', 'PhD', 'MD', 'DDS', 'DDS', 'MD', 'DVM', 'IV', 'Jr.', 'MD', 'MD', 'Jr.', 'PhD', 'II', 'Jr.', 'MD', 'MD', 'MD', 'Jr.', 'MD', 'DVM', 'PhD', 'PhD', 'DDS', 'DDS', 'PhD', 'MD', 'Jr.', 'MD', 'DDS', 'MD', 'DDS', 'DVM', 'DDS', 'DVM', 'MD', 'MD', 'PhD', 'Jr.', 'Jr.', 'MD', 'DDS', 'MD', 'DVM', 'MD', 'DVM', 'DDS', 'PhD', 'PhD', 'Kim', 'DDS', 'PhD', 'DVM', 'PhD', 'DVM', 'DDS', 'MD', 'Jr.', 'PhD', 'MD', 'MD', 'II', 'III', 'MD', 'DDS', 'DDS', 'PhD', 'MD', 'DVM', 'MD', 'DDS', 'MD', 'DDS', 'Jr.', 'DDS', 'DDS', 'MD', 'IV', 'Jr.', 'DDS', 'DDS', 'Jr.', 'DVM', 'DVM', 'DVM', 'DVM', 'MD', 'DVM', 'DDS', 'MD', 'MD', 'DDS', 'DDS', 'DVM', 'III', 'DVM', 'MD', 'DVM', 'DDS', 'MD', 'MD', 'DVM', 'DVM', 'MD', 'III', 'DDS', 'MD', 'DDS', 'DVM', 'Jr.', 'III', 'MD', 'MD', 'PhD', 'DVM', 'DDS', 'MD', 'Jr.', 'DDS', 'MD', 'II', 'MD', 'Jr.', 'DDS', 'PhD', 'DDS', 'DDS', 'II', 'Jr.', 'DDS', 'MD', 'II', 'MD', 'MD', 'MD', 'Jr.', 'DDS', 'MD', 'DVM', 'PhD', 'MD', 'DVM', 'DDS', 'DDS', 'DVM', 'DDS', 'DDS', 'MD', 'MD', 'MD', 'MD', 'DDS', 'DVM', 'PhD', 'DDS', 'DDS', 'MD', 'MD', 'MD', 'DDS', 'DVM', 'MD', 'II', 'MD', 'Jr.', 'Jr.', 'MD', 'MD', 'MD', 'MD', 'DVM', 'MD', 'Jr.', 'PhD', 'PhD', 'PhD', 'DDS', 'Jr.', 'DVM', 'DDS', 'MD', 'DVM', 'PhD', 'MD', 'Jr.', 'Jr.', 'DVM', 'MD', 'DDS', 'MD', 'MD', 'Lee', 'MD', 'MD', 'MD', 'DDS', 'PhD', 'MD', 'PhD', 'MD', 'DVM', 'MD', 'MD', 'MD', 'DDS', 'II', 'DVM', 'Jr.', 'DVM', 'MD', 'Jr.', 'DDS', 'DVM', 'DDS', 'Jr.', 'DVM', 'Jr.', 'DDS', 'MD', 'PhD', 'DDS', 'DDS', 'DVM', 'MD', 'MD', 'PhD', 'DDS', 'DDS', 'DDS', 'DDS', 'MD', 'DVM', 'DVM', 'DVM', 'DDS', 'MD', 'MD', 'MD', 'Jr.', 'PhD', 'MD', 'Jr.', 'DVM', 'DDS', 'DVM', 'MD', 'DVM', 'MD', 'DDS', 'DDS', 'PhD', 'DDS', 'Jr.', 'DDS', 'MD', 'MD', 'MD', 'MD', 'DDS', 'DVM', 'MD', 'MD', 'PhD', 'MD', 'MD', 'II', 'MD', 'Jr.', 'PhD', 'MD', 'PhD', 'MD', 'MD', 'DDS', 'Jr.', 'PhD', 'DDS', 'MD', 'DDS', 'DDS', 'MD', 'MD', 'MD', 'Jr.', 'DDS', 'DDS', 'MD', 'MD', 'MD', 'MD', 'IV', 'Jr.', 'MD', 'DDS', 'MD', 'DDS', 'MD', 'MD', 'Jr.', 'MD', 'DVM', 'DVM', 'DVM', 'MD', 'MD', 'DVM', 'DVM', 'PhD', 'Jr.', 'PhD', 'DVM', 'Jr.', 'MD', 'MD', 'DDS', 'III', 'DVM', 'DDS', 'Jr.', 'MD', 'MD', 'Jr.', 'MD', 'MD', 'DVM', 'Jr.', 'Jr.', 'DDS', 'PhD', 'DDS', 'DDS', 'DDS', 'Jr.', 'Jr.', 'MD', 'DVM', 'DDS', 'MD', 'MD', 'PhD', 'DDS', 'MD', 'DDS', 'DVM', 'DVM', 'MD', 'DDS', 'MD', 'MD', 'MD', 'Jr.', 'MD', 'DVM', 'DDS', 'MD', 'PhD', 'MD', 'II', 'Jr.', 'III', 'MD', 'PhD', 'MD', 'MD', 'PhD', 'II', 'DDS', 'DVM', 'DDS', 'MD', 'DDS', 'MD', 'DVM', 'MD', 'III', 'DDS', 'MD', 'DVM', 'MD', 'II', 'DDS', 'MD', 'MD', 'DDS', 'MD', 'MD', 'DVM', 'MD', 'MD', 'MD', 'II', 'DDS', 'Jr.', 'MD', 'DDS', 'MD', 'MD', 'MD', 'MD', 'DDS', 'IV', 'MD', 'Jr.', 'III', 'DDS', 'DDS', 'MD', 'DDS', 'DVM', 'DVM', 'PhD', 'MD', 'II', 'Li', 'DVM', 'MD', 'DVM', 'DDS', 'DDS', 'DDS', 'DVM', 'MD', 'DVM', 'MD', 'MD', 'MD', 'MD', 'Jr.', 'DVM', 'MD', 'MD', 'MD', 'MD', 'DDS', 'MD', 'PhD', 'DDS', 'MD', 'MD', 'DDS', 'Jr.', 'DDS', 'DDS', 'DVM', 'DDS', 'DDS', 'MD', 'Jr.', 'DDS', 'PhD', 'Jr.', 'DDS']\n"
    }
   ],
   "source": [
    "# Add the suffixes less than or equal to 3 to a new list.\n",
    "suffixes = []\n",
    "for name in students_to_fix:\n",
    "    if len(name.split()[-1]) <= 3:\n",
    "        suffixes.append(name.split()[-1])\n",
    "\n",
    "print(suffixes)"
   ]
  },
  {
   "cell_type": "code",
   "execution_count": 21,
   "metadata": {},
   "outputs": [
    {
     "output_type": "execute_result",
     "data": {
      "text/plain": "{'Adam',\n 'Amy',\n 'Anna',\n 'Anne',\n 'Carl',\n 'Chad',\n 'Cody',\n 'Cory',\n 'Dale',\n 'Dana',\n 'Dawn',\n 'Dr.',\n 'Emma',\n 'Eric',\n 'Erik',\n 'Erin',\n 'Gail',\n 'Gary',\n 'Gina',\n 'Greg',\n 'Ian',\n 'Jill',\n 'Jodi',\n 'Joe',\n 'John',\n 'Jon',\n 'Jose',\n 'Judy',\n 'Kara',\n 'Kari',\n 'Kim',\n 'Kyle',\n 'Leah',\n 'Lisa',\n 'Lori',\n 'Luke',\n 'Lynn',\n 'Marc',\n 'Mark',\n 'Mary',\n 'Mike',\n 'Miss',\n 'Mr.',\n 'Mrs.',\n 'Ms.',\n 'Noah',\n 'Omar',\n 'Paul',\n 'Ruth',\n 'Ryan',\n 'Sara',\n 'Sean',\n 'Seth',\n 'Tara',\n 'Tina',\n 'Todd',\n 'Toni',\n 'Tony',\n 'Troy'}"
     },
     "metadata": {},
     "execution_count": 21
    }
   ],
   "source": [
    "# Get the unique items in the \"prefixes\" list.\n",
    "set(prefixes)"
   ]
  },
  {
   "cell_type": "code",
   "execution_count": 22,
   "metadata": {},
   "outputs": [
    {
     "output_type": "execute_result",
     "data": {
      "text/plain": "{'Cox',\n 'DDS',\n 'DVM',\n 'Day',\n 'II',\n 'III',\n 'IV',\n 'Jr.',\n 'Kim',\n 'Lee',\n 'Li',\n 'MD',\n 'PhD',\n 'Roy',\n 'V'}"
     },
     "metadata": {},
     "execution_count": 22
    }
   ],
   "source": [
    "# Get the unique items in the \"suffixes\" list.\n",
    "set(suffixes)"
   ]
  },
  {
   "cell_type": "code",
   "execution_count": 23,
   "metadata": {},
   "outputs": [],
   "source": [
    "# Add each prefix and suffix to remove to a list.\n",
    "prefixes_suffixes = [\"Dr. \", \"Mr. \",\"Ms. \", \"Mrs. \", \"Miss \", \" MD\", \" DDS\", \" DVM\", \" PhD\"]"
   ]
  },
  {
   "cell_type": "code",
   "execution_count": 24,
   "metadata": {},
   "outputs": [],
   "source": [
    "# Iterate through the words in the \"prefixes_suffixes\" list and replace them with an empty space, \"\".\n",
    "for word in prefixes_suffixes:\n",
    "    student_data_df[\"student_name\"] = student_data_df[\"student_name\"].str.replace(word,\"\")"
   ]
  },
  {
   "cell_type": "code",
   "execution_count": 25,
   "metadata": {},
   "outputs": [
    {
     "output_type": "execute_result",
     "data": {
      "text/plain": "   Student ID     student_name gender grade        school_name  reading_score  \\\n0           0     Paul Bradley      M   9th  Huang High School             66   \n1           1     Victor Smith      M  12th  Huang High School             94   \n2           2  Kevin Rodriguez      M  12th  Huang High School             90   \n3           3    Richard Scott      M  12th  Huang High School             67   \n4           4       Bonnie Ray      F   9th  Huang High School             97   \n5           5    Bryan Miranda      M   9th  Huang High School             94   \n6           6    Sheena Carter      F  11th  Huang High School             82   \n7           7     Nicole Baker      F  12th  Huang High School             96   \n8           8     Michael Roth      M  10th  Huang High School             95   \n9           9   Matthew Greene      M  10th  Huang High School             96   \n\n   math_score  \n0          79  \n1          61  \n2          60  \n3          58  \n4          84  \n5          94  \n6          80  \n7          69  \n8          87  \n9          84  ",
      "text/html": "<div>\n<style scoped>\n    .dataframe tbody tr th:only-of-type {\n        vertical-align: middle;\n    }\n\n    .dataframe tbody tr th {\n        vertical-align: top;\n    }\n\n    .dataframe thead th {\n        text-align: right;\n    }\n</style>\n<table border=\"1\" class=\"dataframe\">\n  <thead>\n    <tr style=\"text-align: right;\">\n      <th></th>\n      <th>Student ID</th>\n      <th>student_name</th>\n      <th>gender</th>\n      <th>grade</th>\n      <th>school_name</th>\n      <th>reading_score</th>\n      <th>math_score</th>\n    </tr>\n  </thead>\n  <tbody>\n    <tr>\n      <th>0</th>\n      <td>0</td>\n      <td>Paul Bradley</td>\n      <td>M</td>\n      <td>9th</td>\n      <td>Huang High School</td>\n      <td>66</td>\n      <td>79</td>\n    </tr>\n    <tr>\n      <th>1</th>\n      <td>1</td>\n      <td>Victor Smith</td>\n      <td>M</td>\n      <td>12th</td>\n      <td>Huang High School</td>\n      <td>94</td>\n      <td>61</td>\n    </tr>\n    <tr>\n      <th>2</th>\n      <td>2</td>\n      <td>Kevin Rodriguez</td>\n      <td>M</td>\n      <td>12th</td>\n      <td>Huang High School</td>\n      <td>90</td>\n      <td>60</td>\n    </tr>\n    <tr>\n      <th>3</th>\n      <td>3</td>\n      <td>Richard Scott</td>\n      <td>M</td>\n      <td>12th</td>\n      <td>Huang High School</td>\n      <td>67</td>\n      <td>58</td>\n    </tr>\n    <tr>\n      <th>4</th>\n      <td>4</td>\n      <td>Bonnie Ray</td>\n      <td>F</td>\n      <td>9th</td>\n      <td>Huang High School</td>\n      <td>97</td>\n      <td>84</td>\n    </tr>\n    <tr>\n      <th>5</th>\n      <td>5</td>\n      <td>Bryan Miranda</td>\n      <td>M</td>\n      <td>9th</td>\n      <td>Huang High School</td>\n      <td>94</td>\n      <td>94</td>\n    </tr>\n    <tr>\n      <th>6</th>\n      <td>6</td>\n      <td>Sheena Carter</td>\n      <td>F</td>\n      <td>11th</td>\n      <td>Huang High School</td>\n      <td>82</td>\n      <td>80</td>\n    </tr>\n    <tr>\n      <th>7</th>\n      <td>7</td>\n      <td>Nicole Baker</td>\n      <td>F</td>\n      <td>12th</td>\n      <td>Huang High School</td>\n      <td>96</td>\n      <td>69</td>\n    </tr>\n    <tr>\n      <th>8</th>\n      <td>8</td>\n      <td>Michael Roth</td>\n      <td>M</td>\n      <td>10th</td>\n      <td>Huang High School</td>\n      <td>95</td>\n      <td>87</td>\n    </tr>\n    <tr>\n      <th>9</th>\n      <td>9</td>\n      <td>Matthew Greene</td>\n      <td>M</td>\n      <td>10th</td>\n      <td>Huang High School</td>\n      <td>96</td>\n      <td>84</td>\n    </tr>\n  </tbody>\n</table>\n</div>"
     },
     "metadata": {},
     "execution_count": 25
    }
   ],
   "source": [
    "student_data_df.head(10)"
   ]
  },
  {
   "cell_type": "code",
   "execution_count": 26,
   "metadata": {},
   "outputs": [
    {
     "output_type": "execute_result",
     "data": {
      "text/plain": "   Student ID     student_name gender grade        school_name  reading_score  \\\n0           0     Paul Bradley      M   9th  Huang High School             66   \n1           1     Victor Smith      M  12th  Huang High School             94   \n2           2  Kevin Rodriguez      M  12th  Huang High School             90   \n3           3    Richard Scott      M  12th  Huang High School             67   \n4           4       Bonnie Ray      F   9th  Huang High School             97   \n\n   math_score  School ID      type  size   budget  \n0          79          0  District  2917  1910635  \n1          61          0  District  2917  1910635  \n2          60          0  District  2917  1910635  \n3          58          0  District  2917  1910635  \n4          84          0  District  2917  1910635  ",
      "text/html": "<div>\n<style scoped>\n    .dataframe tbody tr th:only-of-type {\n        vertical-align: middle;\n    }\n\n    .dataframe tbody tr th {\n        vertical-align: top;\n    }\n\n    .dataframe thead th {\n        text-align: right;\n    }\n</style>\n<table border=\"1\" class=\"dataframe\">\n  <thead>\n    <tr style=\"text-align: right;\">\n      <th></th>\n      <th>Student ID</th>\n      <th>student_name</th>\n      <th>gender</th>\n      <th>grade</th>\n      <th>school_name</th>\n      <th>reading_score</th>\n      <th>math_score</th>\n      <th>School ID</th>\n      <th>type</th>\n      <th>size</th>\n      <th>budget</th>\n    </tr>\n  </thead>\n  <tbody>\n    <tr>\n      <th>0</th>\n      <td>0</td>\n      <td>Paul Bradley</td>\n      <td>M</td>\n      <td>9th</td>\n      <td>Huang High School</td>\n      <td>66</td>\n      <td>79</td>\n      <td>0</td>\n      <td>District</td>\n      <td>2917</td>\n      <td>1910635</td>\n    </tr>\n    <tr>\n      <th>1</th>\n      <td>1</td>\n      <td>Victor Smith</td>\n      <td>M</td>\n      <td>12th</td>\n      <td>Huang High School</td>\n      <td>94</td>\n      <td>61</td>\n      <td>0</td>\n      <td>District</td>\n      <td>2917</td>\n      <td>1910635</td>\n    </tr>\n    <tr>\n      <th>2</th>\n      <td>2</td>\n      <td>Kevin Rodriguez</td>\n      <td>M</td>\n      <td>12th</td>\n      <td>Huang High School</td>\n      <td>90</td>\n      <td>60</td>\n      <td>0</td>\n      <td>District</td>\n      <td>2917</td>\n      <td>1910635</td>\n    </tr>\n    <tr>\n      <th>3</th>\n      <td>3</td>\n      <td>Richard Scott</td>\n      <td>M</td>\n      <td>12th</td>\n      <td>Huang High School</td>\n      <td>67</td>\n      <td>58</td>\n      <td>0</td>\n      <td>District</td>\n      <td>2917</td>\n      <td>1910635</td>\n    </tr>\n    <tr>\n      <th>4</th>\n      <td>4</td>\n      <td>Bonnie Ray</td>\n      <td>F</td>\n      <td>9th</td>\n      <td>Huang High School</td>\n      <td>97</td>\n      <td>84</td>\n      <td>0</td>\n      <td>District</td>\n      <td>2917</td>\n      <td>1910635</td>\n    </tr>\n  </tbody>\n</table>\n</div>"
     },
     "metadata": {},
     "execution_count": 26
    }
   ],
   "source": [
    "# Combine the data into a single dataset.\n",
    "school_data_complete_df = pd.merge(student_data_df, school_data_df, on=[\"school_name\", \"school_name\"])\n",
    "school_data_complete_df.head()"
   ]
  },
  {
   "cell_type": "code",
   "execution_count": 27,
   "metadata": {},
   "outputs": [
    {
     "output_type": "execute_result",
     "data": {
      "text/plain": "Student ID       39170\nstudent_name     39170\ngender           39170\ngrade            39170\nschool_name      39170\nreading_score    39170\nmath_score       39170\nSchool ID        39170\ntype             39170\nsize             39170\nbudget           39170\ndtype: int64"
     },
     "metadata": {},
     "execution_count": 27
    }
   ],
   "source": [
    "# Get the total number of students.\n",
    "student_count = school_data_complete_df.count()\n",
    "student_count"
   ]
  },
  {
   "cell_type": "code",
   "execution_count": 28,
   "metadata": {},
   "outputs": [
    {
     "output_type": "execute_result",
     "data": {
      "text/plain": "39170"
     },
     "metadata": {},
     "execution_count": 28
    }
   ],
   "source": [
    "school_data_complete_df[\"Student ID\"].count()"
   ]
  },
  {
   "cell_type": "code",
   "execution_count": 29,
   "metadata": {},
   "outputs": [
    {
     "output_type": "execute_result",
     "data": {
      "text/plain": "15"
     },
     "metadata": {},
     "execution_count": 29
    }
   ],
   "source": [
    "# Calculate the total number of schools.\n",
    "school_count = school_data_df[\"school_name\"].count()\n",
    "school_count"
   ]
  },
  {
   "cell_type": "code",
   "execution_count": 30,
   "metadata": {},
   "outputs": [
    {
     "output_type": "execute_result",
     "data": {
      "text/plain": "array(['Huang High School', 'Figueroa High School', 'Shelton High School',\n       'Hernandez High School', 'Griffin High School',\n       'Wilson High School', 'Cabrera High School', 'Bailey High School',\n       'Holden High School', 'Pena High School', 'Wright High School',\n       'Rodriguez High School', 'Johnson High School', 'Ford High School',\n       'Thomas High School'], dtype=object)"
     },
     "metadata": {},
     "execution_count": 30
    }
   ],
   "source": [
    "# Calculate the total number of schools\n",
    "school_count_2 = school_data_complete_df[\"school_name\"].unique()\n",
    "school_count_2"
   ]
  },
  {
   "cell_type": "code",
   "execution_count": 31,
   "metadata": {},
   "outputs": [
    {
     "output_type": "execute_result",
     "data": {
      "text/plain": "24649428"
     },
     "metadata": {},
     "execution_count": 31
    }
   ],
   "source": [
    "# Calculate the total budget.\n",
    "total_budget = school_data_df[\"budget\"].sum()\n",
    "total_budget\n"
   ]
  },
  {
   "cell_type": "code",
   "execution_count": 32,
   "metadata": {},
   "outputs": [
    {
     "output_type": "execute_result",
     "data": {
      "text/plain": "81.87784018381414"
     },
     "metadata": {},
     "execution_count": 32
    }
   ],
   "source": [
    "# Calculate the average reading score.\n",
    "average_reading_score = school_data_complete_df[\"reading_score\"].mean()\n",
    "average_reading_score"
   ]
  },
  {
   "cell_type": "code",
   "execution_count": 33,
   "metadata": {},
   "outputs": [
    {
     "output_type": "execute_result",
     "data": {
      "text/plain": "78.98537145774827"
     },
     "metadata": {},
     "execution_count": 33
    }
   ],
   "source": [
    "# Calculate the average math score.\n",
    "average_math_score = school_data_complete_df[\"math_score\"].mean()\n",
    "average_math_score"
   ]
  },
  {
   "cell_type": "code",
   "execution_count": 34,
   "metadata": {},
   "outputs": [],
   "source": [
    "passing_math = school_data_complete_df[\"math_score\"] >= 70"
   ]
  },
  {
   "cell_type": "code",
   "execution_count": 35,
   "metadata": {},
   "outputs": [
    {
     "output_type": "execute_result",
     "data": {
      "text/plain": "0         True\n1        False\n2        False\n3        False\n4         True\n         ...  \n39165     True\n39166     True\n39167     True\n39168     True\n39169     True\nName: math_score, Length: 39170, dtype: bool"
     },
     "metadata": {},
     "execution_count": 35
    }
   ],
   "source": [
    "passing_math"
   ]
  },
  {
   "cell_type": "code",
   "execution_count": 36,
   "metadata": {},
   "outputs": [],
   "source": [
    "passing_reading = school_data_complete_df[\"reading_score\"] >= 70"
   ]
  },
  {
   "cell_type": "code",
   "execution_count": 37,
   "metadata": {},
   "outputs": [
    {
     "output_type": "execute_result",
     "data": {
      "text/plain": "0        False\n1         True\n2         True\n3        False\n4         True\n         ...  \n39165     True\n39166     True\n39167     True\n39168     True\n39169     True\nName: reading_score, Length: 39170, dtype: bool"
     },
     "metadata": {},
     "execution_count": 37
    }
   ],
   "source": [
    "passing_reading"
   ]
  },
  {
   "cell_type": "code",
   "execution_count": 38,
   "metadata": {},
   "outputs": [
    {
     "output_type": "execute_result",
     "data": {
      "text/plain": "   Student ID   student_name gender grade        school_name  reading_score  \\\n0           0   Paul Bradley      M   9th  Huang High School             66   \n4           4     Bonnie Ray      F   9th  Huang High School             97   \n5           5  Bryan Miranda      M   9th  Huang High School             94   \n6           6  Sheena Carter      F  11th  Huang High School             82   \n8           8   Michael Roth      M  10th  Huang High School             95   \n\n   math_score  School ID      type  size   budget  \n0          79          0  District  2917  1910635  \n4          84          0  District  2917  1910635  \n5          94          0  District  2917  1910635  \n6          80          0  District  2917  1910635  \n8          87          0  District  2917  1910635  ",
      "text/html": "<div>\n<style scoped>\n    .dataframe tbody tr th:only-of-type {\n        vertical-align: middle;\n    }\n\n    .dataframe tbody tr th {\n        vertical-align: top;\n    }\n\n    .dataframe thead th {\n        text-align: right;\n    }\n</style>\n<table border=\"1\" class=\"dataframe\">\n  <thead>\n    <tr style=\"text-align: right;\">\n      <th></th>\n      <th>Student ID</th>\n      <th>student_name</th>\n      <th>gender</th>\n      <th>grade</th>\n      <th>school_name</th>\n      <th>reading_score</th>\n      <th>math_score</th>\n      <th>School ID</th>\n      <th>type</th>\n      <th>size</th>\n      <th>budget</th>\n    </tr>\n  </thead>\n  <tbody>\n    <tr>\n      <th>0</th>\n      <td>0</td>\n      <td>Paul Bradley</td>\n      <td>M</td>\n      <td>9th</td>\n      <td>Huang High School</td>\n      <td>66</td>\n      <td>79</td>\n      <td>0</td>\n      <td>District</td>\n      <td>2917</td>\n      <td>1910635</td>\n    </tr>\n    <tr>\n      <th>4</th>\n      <td>4</td>\n      <td>Bonnie Ray</td>\n      <td>F</td>\n      <td>9th</td>\n      <td>Huang High School</td>\n      <td>97</td>\n      <td>84</td>\n      <td>0</td>\n      <td>District</td>\n      <td>2917</td>\n      <td>1910635</td>\n    </tr>\n    <tr>\n      <th>5</th>\n      <td>5</td>\n      <td>Bryan Miranda</td>\n      <td>M</td>\n      <td>9th</td>\n      <td>Huang High School</td>\n      <td>94</td>\n      <td>94</td>\n      <td>0</td>\n      <td>District</td>\n      <td>2917</td>\n      <td>1910635</td>\n    </tr>\n    <tr>\n      <th>6</th>\n      <td>6</td>\n      <td>Sheena Carter</td>\n      <td>F</td>\n      <td>11th</td>\n      <td>Huang High School</td>\n      <td>82</td>\n      <td>80</td>\n      <td>0</td>\n      <td>District</td>\n      <td>2917</td>\n      <td>1910635</td>\n    </tr>\n    <tr>\n      <th>8</th>\n      <td>8</td>\n      <td>Michael Roth</td>\n      <td>M</td>\n      <td>10th</td>\n      <td>Huang High School</td>\n      <td>95</td>\n      <td>87</td>\n      <td>0</td>\n      <td>District</td>\n      <td>2917</td>\n      <td>1910635</td>\n    </tr>\n  </tbody>\n</table>\n</div>"
     },
     "metadata": {},
     "execution_count": 38
    }
   ],
   "source": [
    "# Get all the students who are passing math in a new DataFrame.\n",
    "passing_math = school_data_complete_df[school_data_complete_df[\"math_score\"] >= 70]\n",
    "passing_math.head()"
   ]
  },
  {
   "cell_type": "code",
   "execution_count": 39,
   "metadata": {},
   "outputs": [
    {
     "output_type": "execute_result",
     "data": {
      "text/plain": "   Student ID     student_name gender grade        school_name  reading_score  \\\n1           1     Victor Smith      M  12th  Huang High School             94   \n2           2  Kevin Rodriguez      M  12th  Huang High School             90   \n4           4       Bonnie Ray      F   9th  Huang High School             97   \n5           5    Bryan Miranda      M   9th  Huang High School             94   \n6           6    Sheena Carter      F  11th  Huang High School             82   \n\n   math_score  School ID      type  size   budget  \n1          61          0  District  2917  1910635  \n2          60          0  District  2917  1910635  \n4          84          0  District  2917  1910635  \n5          94          0  District  2917  1910635  \n6          80          0  District  2917  1910635  ",
      "text/html": "<div>\n<style scoped>\n    .dataframe tbody tr th:only-of-type {\n        vertical-align: middle;\n    }\n\n    .dataframe tbody tr th {\n        vertical-align: top;\n    }\n\n    .dataframe thead th {\n        text-align: right;\n    }\n</style>\n<table border=\"1\" class=\"dataframe\">\n  <thead>\n    <tr style=\"text-align: right;\">\n      <th></th>\n      <th>Student ID</th>\n      <th>student_name</th>\n      <th>gender</th>\n      <th>grade</th>\n      <th>school_name</th>\n      <th>reading_score</th>\n      <th>math_score</th>\n      <th>School ID</th>\n      <th>type</th>\n      <th>size</th>\n      <th>budget</th>\n    </tr>\n  </thead>\n  <tbody>\n    <tr>\n      <th>1</th>\n      <td>1</td>\n      <td>Victor Smith</td>\n      <td>M</td>\n      <td>12th</td>\n      <td>Huang High School</td>\n      <td>94</td>\n      <td>61</td>\n      <td>0</td>\n      <td>District</td>\n      <td>2917</td>\n      <td>1910635</td>\n    </tr>\n    <tr>\n      <th>2</th>\n      <td>2</td>\n      <td>Kevin Rodriguez</td>\n      <td>M</td>\n      <td>12th</td>\n      <td>Huang High School</td>\n      <td>90</td>\n      <td>60</td>\n      <td>0</td>\n      <td>District</td>\n      <td>2917</td>\n      <td>1910635</td>\n    </tr>\n    <tr>\n      <th>4</th>\n      <td>4</td>\n      <td>Bonnie Ray</td>\n      <td>F</td>\n      <td>9th</td>\n      <td>Huang High School</td>\n      <td>97</td>\n      <td>84</td>\n      <td>0</td>\n      <td>District</td>\n      <td>2917</td>\n      <td>1910635</td>\n    </tr>\n    <tr>\n      <th>5</th>\n      <td>5</td>\n      <td>Bryan Miranda</td>\n      <td>M</td>\n      <td>9th</td>\n      <td>Huang High School</td>\n      <td>94</td>\n      <td>94</td>\n      <td>0</td>\n      <td>District</td>\n      <td>2917</td>\n      <td>1910635</td>\n    </tr>\n    <tr>\n      <th>6</th>\n      <td>6</td>\n      <td>Sheena Carter</td>\n      <td>F</td>\n      <td>11th</td>\n      <td>Huang High School</td>\n      <td>82</td>\n      <td>80</td>\n      <td>0</td>\n      <td>District</td>\n      <td>2917</td>\n      <td>1910635</td>\n    </tr>\n  </tbody>\n</table>\n</div>"
     },
     "metadata": {},
     "execution_count": 39
    }
   ],
   "source": [
    "# Get all the students that are passing reading in a new DataFrame.\n",
    "passing_reading = school_data_complete_df[school_data_complete_df[\"reading_score\"] >= 70]\n",
    "passing_reading.head()"
   ]
  },
  {
   "cell_type": "code",
   "execution_count": 40,
   "metadata": {},
   "outputs": [],
   "source": [
    "# Calculate the number of students passing math.\n",
    "passing_math_count = passing_math[\"student_name\"].count()\n",
    "\n",
    "# Calculate the number of students passing reading.\n",
    "passing_reading_count = passing_reading[\"student_name\"].count()"
   ]
  },
  {
   "cell_type": "code",
   "execution_count": 41,
   "metadata": {
    "tags": []
   },
   "outputs": [
    {
     "output_type": "stream",
     "name": "stdout",
     "text": "29370\n33610\n"
    }
   ],
   "source": [
    "print(passing_math_count)\n",
    "print(passing_reading_count)"
   ]
  },
  {
   "cell_type": "code",
   "execution_count": 42,
   "metadata": {},
   "outputs": [],
   "source": [
    "student_count=school_data_complete_df[\"Student ID\"].count()"
   ]
  },
  {
   "cell_type": "code",
   "execution_count": 43,
   "metadata": {},
   "outputs": [],
   "source": [
    "# Calculate the percent that passed math.\n",
    "passing_math_percentage = (passing_math_count) / float(student_count) * 100\n",
    "\n",
    "# Calculate the percent that passed reading.\n",
    "passing_reading_percentage = (passing_reading_count) / float(student_count) * 100"
   ]
  },
  {
   "cell_type": "code",
   "execution_count": 44,
   "metadata": {
    "tags": []
   },
   "outputs": [
    {
     "output_type": "stream",
     "name": "stdout",
     "text": "74.9808526933878\n85.80546336482001\n"
    }
   ],
   "source": [
    "print(passing_math_percentage)\n",
    "print(passing_reading_percentage)"
   ]
  },
  {
   "cell_type": "code",
   "execution_count": 45,
   "metadata": {},
   "outputs": [
    {
     "output_type": "execute_result",
     "data": {
      "text/plain": "   Student ID    student_name gender grade        school_name  reading_score  \\\n4           4      Bonnie Ray      F   9th  Huang High School             97   \n5           5   Bryan Miranda      M   9th  Huang High School             94   \n6           6   Sheena Carter      F  11th  Huang High School             82   \n8           8    Michael Roth      M  10th  Huang High School             95   \n9           9  Matthew Greene      M  10th  Huang High School             96   \n\n   math_score  School ID      type  size   budget  \n4          84          0  District  2917  1910635  \n5          94          0  District  2917  1910635  \n6          80          0  District  2917  1910635  \n8          87          0  District  2917  1910635  \n9          84          0  District  2917  1910635  ",
      "text/html": "<div>\n<style scoped>\n    .dataframe tbody tr th:only-of-type {\n        vertical-align: middle;\n    }\n\n    .dataframe tbody tr th {\n        vertical-align: top;\n    }\n\n    .dataframe thead th {\n        text-align: right;\n    }\n</style>\n<table border=\"1\" class=\"dataframe\">\n  <thead>\n    <tr style=\"text-align: right;\">\n      <th></th>\n      <th>Student ID</th>\n      <th>student_name</th>\n      <th>gender</th>\n      <th>grade</th>\n      <th>school_name</th>\n      <th>reading_score</th>\n      <th>math_score</th>\n      <th>School ID</th>\n      <th>type</th>\n      <th>size</th>\n      <th>budget</th>\n    </tr>\n  </thead>\n  <tbody>\n    <tr>\n      <th>4</th>\n      <td>4</td>\n      <td>Bonnie Ray</td>\n      <td>F</td>\n      <td>9th</td>\n      <td>Huang High School</td>\n      <td>97</td>\n      <td>84</td>\n      <td>0</td>\n      <td>District</td>\n      <td>2917</td>\n      <td>1910635</td>\n    </tr>\n    <tr>\n      <th>5</th>\n      <td>5</td>\n      <td>Bryan Miranda</td>\n      <td>M</td>\n      <td>9th</td>\n      <td>Huang High School</td>\n      <td>94</td>\n      <td>94</td>\n      <td>0</td>\n      <td>District</td>\n      <td>2917</td>\n      <td>1910635</td>\n    </tr>\n    <tr>\n      <th>6</th>\n      <td>6</td>\n      <td>Sheena Carter</td>\n      <td>F</td>\n      <td>11th</td>\n      <td>Huang High School</td>\n      <td>82</td>\n      <td>80</td>\n      <td>0</td>\n      <td>District</td>\n      <td>2917</td>\n      <td>1910635</td>\n    </tr>\n    <tr>\n      <th>8</th>\n      <td>8</td>\n      <td>Michael Roth</td>\n      <td>M</td>\n      <td>10th</td>\n      <td>Huang High School</td>\n      <td>95</td>\n      <td>87</td>\n      <td>0</td>\n      <td>District</td>\n      <td>2917</td>\n      <td>1910635</td>\n    </tr>\n    <tr>\n      <th>9</th>\n      <td>9</td>\n      <td>Matthew Greene</td>\n      <td>M</td>\n      <td>10th</td>\n      <td>Huang High School</td>\n      <td>96</td>\n      <td>84</td>\n      <td>0</td>\n      <td>District</td>\n      <td>2917</td>\n      <td>1910635</td>\n    </tr>\n  </tbody>\n</table>\n</div>"
     },
     "metadata": {},
     "execution_count": 45
    }
   ],
   "source": [
    "# Calculate the students who passed both math and reading.\n",
    "passing_math_reading = school_data_complete_df[(school_data_complete_df[\"math_score\"] >= 70) & (school_data_complete_df[\"reading_score\"] >= 70)]\n",
    "\n",
    "passing_math_reading.head()"
   ]
  },
  {
   "cell_type": "code",
   "execution_count": 46,
   "metadata": {},
   "outputs": [
    {
     "output_type": "execute_result",
     "data": {
      "text/plain": "25528"
     },
     "metadata": {},
     "execution_count": 46
    }
   ],
   "source": [
    "# Calculate the number of students who passed both math and reading.\n",
    "overall_passing_math_reading_count = passing_math_reading[\"student_name\"].count()\n",
    "overall_passing_math_reading_count"
   ]
  },
  {
   "cell_type": "code",
   "execution_count": 47,
   "metadata": {},
   "outputs": [
    {
     "output_type": "execute_result",
     "data": {
      "text/plain": "65.17232575950983"
     },
     "metadata": {},
     "execution_count": 47
    }
   ],
   "source": [
    "# Calculate the overall passing percentage.\n",
    "overall_passing_percentage = overall_passing_math_reading_count / student_count * 100\n",
    "overall_passing_percentage"
   ]
  },
  {
   "cell_type": "code",
   "execution_count": 48,
   "metadata": {},
   "outputs": [
    {
     "output_type": "execute_result",
     "data": {
      "text/plain": "   Total Schools  Total Students  Total Budget  Average Math Score  \\\n0             15           39170      24649428           78.985371   \n\n   Average Reading Score  % Passing Math  % Passing Reading  % Overall Passing  \n0               81.87784       74.980853          85.805463          65.172326  ",
      "text/html": "<div>\n<style scoped>\n    .dataframe tbody tr th:only-of-type {\n        vertical-align: middle;\n    }\n\n    .dataframe tbody tr th {\n        vertical-align: top;\n    }\n\n    .dataframe thead th {\n        text-align: right;\n    }\n</style>\n<table border=\"1\" class=\"dataframe\">\n  <thead>\n    <tr style=\"text-align: right;\">\n      <th></th>\n      <th>Total Schools</th>\n      <th>Total Students</th>\n      <th>Total Budget</th>\n      <th>Average Math Score</th>\n      <th>Average Reading Score</th>\n      <th>% Passing Math</th>\n      <th>% Passing Reading</th>\n      <th>% Overall Passing</th>\n    </tr>\n  </thead>\n  <tbody>\n    <tr>\n      <th>0</th>\n      <td>15</td>\n      <td>39170</td>\n      <td>24649428</td>\n      <td>78.985371</td>\n      <td>81.87784</td>\n      <td>74.980853</td>\n      <td>85.805463</td>\n      <td>65.172326</td>\n    </tr>\n  </tbody>\n</table>\n</div>"
     },
     "metadata": {},
     "execution_count": 48
    }
   ],
   "source": [
    "# Adding a list of values with keys to create a new DataFrame.\n",
    "district_summary_df = pd.DataFrame(\n",
    "          [{\"Total Schools\": school_count,\n",
    "          \"Total Students\": student_count,\n",
    "          \"Total Budget\": total_budget,\n",
    "          \"Average Math Score\": average_math_score,\n",
    "          \"Average Reading Score\": average_reading_score,\n",
    "          \"% Passing Math\": passing_math_percentage,\n",
    "         \"% Passing Reading\": passing_reading_percentage,\n",
    "        \"% Overall Passing\": overall_passing_percentage}])\n",
    "district_summary_df"
   ]
  },
  {
   "cell_type": "code",
   "execution_count": 49,
   "metadata": {},
   "outputs": [
    {
     "output_type": "execute_result",
     "data": {
      "text/plain": "0    39,170\nName: Total Students, dtype: object"
     },
     "metadata": {},
     "execution_count": 49
    }
   ],
   "source": [
    "# Format the \"Total Students\" to have the comma for a thousands separator.\n",
    "district_summary_df[\"Total Students\"] = district_summary_df[\"Total Students\"].map(\"{:,}\".format)\n",
    "\n",
    "district_summary_df[\"Total Students\"]"
   ]
  },
  {
   "cell_type": "code",
   "execution_count": 50,
   "metadata": {},
   "outputs": [
    {
     "output_type": "execute_result",
     "data": {
      "text/plain": "0    $24,649,428.00\nName: Total Budget, dtype: object"
     },
     "metadata": {},
     "execution_count": 50
    }
   ],
   "source": [
    "# Format \"Total Budget\" to have the comma for a thousands separator, a decimal separator, and a \"$\".\n",
    "\n",
    "district_summary_df[\"Total Budget\"] = district_summary_df[\"Total Budget\"].map(\"${:,.2f}\".format)\n",
    "\n",
    "district_summary_df[\"Total Budget\"]"
   ]
  },
  {
   "cell_type": "code",
   "execution_count": 51,
   "metadata": {},
   "outputs": [],
   "source": [
    "# Format the columns.\n",
    "district_summary_df[\"Average Math Score\"] = district_summary_df[\"Average Math Score\"].map(\"{:.1f}\".format)\n",
    "\n",
    "district_summary_df[\"Average Reading Score\"] = district_summary_df[\"Average Reading Score\"].map(\"{:.1f}\".format)\n",
    "\n",
    "district_summary_df[\"% Passing Math\"] = district_summary_df[\"% Passing Math\"].map(\"{:.1f}\".format)\n",
    "\n",
    "district_summary_df[\"% Passing Reading\"] = district_summary_df[\"% Passing Reading\"].map(\"{:.1f}\".format)\n",
    "\n",
    "district_summary_df[\"% Overall Passing\"] = district_summary_df[\"% Overall Passing\"].map(\"{:.1f}\".format)"
   ]
  },
  {
   "cell_type": "code",
   "execution_count": 52,
   "metadata": {
    "scrolled": true
   },
   "outputs": [
    {
     "output_type": "execute_result",
     "data": {
      "text/plain": "   Total Schools Total Students    Total Budget Average Math Score  \\\n0             15         39,170  $24,649,428.00               79.0   \n\n  Average Reading Score % Passing Math % Passing Reading % Overall Passing  \n0                  81.9           75.0              85.8              65.2  ",
      "text/html": "<div>\n<style scoped>\n    .dataframe tbody tr th:only-of-type {\n        vertical-align: middle;\n    }\n\n    .dataframe tbody tr th {\n        vertical-align: top;\n    }\n\n    .dataframe thead th {\n        text-align: right;\n    }\n</style>\n<table border=\"1\" class=\"dataframe\">\n  <thead>\n    <tr style=\"text-align: right;\">\n      <th></th>\n      <th>Total Schools</th>\n      <th>Total Students</th>\n      <th>Total Budget</th>\n      <th>Average Math Score</th>\n      <th>Average Reading Score</th>\n      <th>% Passing Math</th>\n      <th>% Passing Reading</th>\n      <th>% Overall Passing</th>\n    </tr>\n  </thead>\n  <tbody>\n    <tr>\n      <th>0</th>\n      <td>15</td>\n      <td>39,170</td>\n      <td>$24,649,428.00</td>\n      <td>79.0</td>\n      <td>81.9</td>\n      <td>75.0</td>\n      <td>85.8</td>\n      <td>65.2</td>\n    </tr>\n  </tbody>\n</table>\n</div>"
     },
     "metadata": {},
     "execution_count": 52
    }
   ],
   "source": [
    "district_summary_df"
   ]
  },
  {
   "cell_type": "code",
   "execution_count": 53,
   "metadata": {},
   "outputs": [
    {
     "output_type": "execute_result",
     "data": {
      "text/plain": "   Total Schools Total Students    Total Budget Average Math Score  \\\n0             15         39,170  $24,649,428.00               79.0   \n\n  Average Reading Score % Passing Math % Passing Reading % Overall Passing  \n0                  81.9           75.0              85.8              65.2  ",
      "text/html": "<div>\n<style scoped>\n    .dataframe tbody tr th:only-of-type {\n        vertical-align: middle;\n    }\n\n    .dataframe tbody tr th {\n        vertical-align: top;\n    }\n\n    .dataframe thead th {\n        text-align: right;\n    }\n</style>\n<table border=\"1\" class=\"dataframe\">\n  <thead>\n    <tr style=\"text-align: right;\">\n      <th></th>\n      <th>Total Schools</th>\n      <th>Total Students</th>\n      <th>Total Budget</th>\n      <th>Average Math Score</th>\n      <th>Average Reading Score</th>\n      <th>% Passing Math</th>\n      <th>% Passing Reading</th>\n      <th>% Overall Passing</th>\n    </tr>\n  </thead>\n  <tbody>\n    <tr>\n      <th>0</th>\n      <td>15</td>\n      <td>39,170</td>\n      <td>$24,649,428.00</td>\n      <td>79.0</td>\n      <td>81.9</td>\n      <td>75.0</td>\n      <td>85.8</td>\n      <td>65.2</td>\n    </tr>\n  </tbody>\n</table>\n</div>"
     },
     "metadata": {},
     "execution_count": 53
    }
   ],
   "source": [
    "# Reorder the columns in the order you want them to appear.\n",
    "new_column_order = [\"Total Schools\", \"Total Students\", \"Total Budget\",\"Average Math Score\", \"Average Reading Score\", \"% Passing Math\", \"% Passing Reading\", \"% Overall Passing\"]\n",
    "\n",
    "# Assign district summary df the new column order.\n",
    "district_summary_df = district_summary_df[new_column_order]\n",
    "district_summary_df"
   ]
  },
  {
   "cell_type": "code",
   "execution_count": 54,
   "metadata": {},
   "outputs": [
    {
     "output_type": "execute_result",
     "data": {
      "text/plain": "school_name\nHuang High School        District\nFigueroa High School     District\nShelton High School       Charter\nHernandez High School    District\nGriffin High School       Charter\nWilson High School        Charter\nCabrera High School       Charter\nBailey High School       District\nHolden High School        Charter\nPena High School          Charter\nWright High School        Charter\nRodriguez High School    District\nJohnson High School      District\nFord High School         District\nThomas High School        Charter\nName: type, dtype: object"
     },
     "metadata": {},
     "execution_count": 54
    }
   ],
   "source": [
    "# Determine the school type.\n",
    "per_school_types = school_data_df.set_index([\"school_name\"])[\"type\"]\n",
    "per_school_types"
   ]
  },
  {
   "cell_type": "code",
   "execution_count": 55,
   "metadata": {},
   "outputs": [
    {
     "output_type": "execute_result",
     "data": {
      "text/plain": "                           type\nschool_name                    \nHuang High School      District\nFigueroa High School   District\nShelton High School     Charter\nHernandez High School  District\nGriffin High School     Charter\nWilson High School      Charter\nCabrera High School     Charter\nBailey High School     District\nHolden High School      Charter\nPena High School        Charter\nWright High School      Charter\nRodriguez High School  District\nJohnson High School    District\nFord High School       District\nThomas High School      Charter",
      "text/html": "<div>\n<style scoped>\n    .dataframe tbody tr th:only-of-type {\n        vertical-align: middle;\n    }\n\n    .dataframe tbody tr th {\n        vertical-align: top;\n    }\n\n    .dataframe thead th {\n        text-align: right;\n    }\n</style>\n<table border=\"1\" class=\"dataframe\">\n  <thead>\n    <tr style=\"text-align: right;\">\n      <th></th>\n      <th>type</th>\n    </tr>\n    <tr>\n      <th>school_name</th>\n      <th></th>\n    </tr>\n  </thead>\n  <tbody>\n    <tr>\n      <th>Huang High School</th>\n      <td>District</td>\n    </tr>\n    <tr>\n      <th>Figueroa High School</th>\n      <td>District</td>\n    </tr>\n    <tr>\n      <th>Shelton High School</th>\n      <td>Charter</td>\n    </tr>\n    <tr>\n      <th>Hernandez High School</th>\n      <td>District</td>\n    </tr>\n    <tr>\n      <th>Griffin High School</th>\n      <td>Charter</td>\n    </tr>\n    <tr>\n      <th>Wilson High School</th>\n      <td>Charter</td>\n    </tr>\n    <tr>\n      <th>Cabrera High School</th>\n      <td>Charter</td>\n    </tr>\n    <tr>\n      <th>Bailey High School</th>\n      <td>District</td>\n    </tr>\n    <tr>\n      <th>Holden High School</th>\n      <td>Charter</td>\n    </tr>\n    <tr>\n      <th>Pena High School</th>\n      <td>Charter</td>\n    </tr>\n    <tr>\n      <th>Wright High School</th>\n      <td>Charter</td>\n    </tr>\n    <tr>\n      <th>Rodriguez High School</th>\n      <td>District</td>\n    </tr>\n    <tr>\n      <th>Johnson High School</th>\n      <td>District</td>\n    </tr>\n    <tr>\n      <th>Ford High School</th>\n      <td>District</td>\n    </tr>\n    <tr>\n      <th>Thomas High School</th>\n      <td>Charter</td>\n    </tr>\n  </tbody>\n</table>\n</div>"
     },
     "metadata": {},
     "execution_count": 55
    }
   ],
   "source": [
    "# Add the per_school_types into a DataFrame for testing.\n",
    "df = pd.DataFrame(per_school_types)\n",
    "df"
   ]
  },
  {
   "cell_type": "code",
   "execution_count": 56,
   "metadata": {},
   "outputs": [
    {
     "output_type": "execute_result",
     "data": {
      "text/plain": "0     2917\n1     2949\n2     1761\n3     4635\n4     1468\n5     2283\n6     1858\n7     4976\n8      427\n9      962\n10    1800\n11    3999\n12    4761\n13    2739\n14    1635\nName: size, dtype: int64"
     },
     "metadata": {},
     "execution_count": 56
    }
   ],
   "source": [
    "# Calculate the total student count.\n",
    "per_school_counts = school_data_df[\"size\"]\n",
    "per_school_counts"
   ]
  },
  {
   "cell_type": "code",
   "execution_count": 57,
   "metadata": {},
   "outputs": [
    {
     "output_type": "execute_result",
     "data": {
      "text/plain": "school_name\nHuang High School        2917\nFigueroa High School     2949\nShelton High School      1761\nHernandez High School    4635\nGriffin High School      1468\nWilson High School       2283\nCabrera High School      1858\nBailey High School       4976\nHolden High School        427\nPena High School          962\nWright High School       1800\nRodriguez High School    3999\nJohnson High School      4761\nFord High School         2739\nThomas High School       1635\nName: size, dtype: int64"
     },
     "metadata": {},
     "execution_count": 57
    }
   ],
   "source": [
    "# Calculate the total student count.\n",
    "per_school_counts = school_data_df.set_index([\"school_name\"])[\"size\"]\n",
    "per_school_counts"
   ]
  },
  {
   "cell_type": "code",
   "execution_count": 58,
   "metadata": {},
   "outputs": [
    {
     "output_type": "execute_result",
     "data": {
      "text/plain": "Bailey High School       4976\nJohnson High School      4761\nHernandez High School    4635\nRodriguez High School    3999\nFigueroa High School     2949\nHuang High School        2917\nFord High School         2739\nWilson High School       2283\nCabrera High School      1858\nWright High School       1800\nShelton High School      1761\nThomas High School       1635\nGriffin High School      1468\nPena High School          962\nHolden High School        427\nName: school_name, dtype: int64"
     },
     "metadata": {},
     "execution_count": 58
    }
   ],
   "source": [
    "# Calculate the total student count.\n",
    "per_school_counts = school_data_complete_df[\"school_name\"].value_counts()\n",
    "per_school_counts"
   ]
  },
  {
   "cell_type": "code",
   "execution_count": 59,
   "metadata": {},
   "outputs": [
    {
     "output_type": "execute_result",
     "data": {
      "text/plain": "school_name\nHuang High School        1910635\nFigueroa High School     1884411\nShelton High School      1056600\nHernandez High School    3022020\nGriffin High School       917500\nWilson High School       1319574\nCabrera High School      1081356\nBailey High School       3124928\nHolden High School        248087\nPena High School          585858\nWright High School       1049400\nRodriguez High School    2547363\nJohnson High School      3094650\nFord High School         1763916\nThomas High School       1043130\nName: budget, dtype: int64"
     },
     "metadata": {},
     "execution_count": 59
    }
   ],
   "source": [
    "# Calculate the total school budget.\n",
    "per_school_budget = school_data_df.set_index([\"school_name\"])[\"budget\"]\n",
    "per_school_budget"
   ]
  },
  {
   "cell_type": "code",
   "execution_count": 60,
   "metadata": {},
   "outputs": [
    {
     "output_type": "execute_result",
     "data": {
      "text/plain": "Bailey High School       628.0\nCabrera High School      582.0\nFigueroa High School     639.0\nFord High School         644.0\nGriffin High School      625.0\nHernandez High School    652.0\nHolden High School       581.0\nHuang High School        655.0\nJohnson High School      650.0\nPena High School         609.0\nRodriguez High School    637.0\nShelton High School      600.0\nThomas High School       638.0\nWilson High School       578.0\nWright High School       583.0\ndtype: float64"
     },
     "metadata": {},
     "execution_count": 60
    }
   ],
   "source": [
    "# Calculate the per capita spending.\n",
    "per_school_capita = per_school_budget / per_school_counts\n",
    "per_school_capita"
   ]
  },
  {
   "cell_type": "code",
   "execution_count": 61,
   "metadata": {},
   "outputs": [
    {
     "output_type": "execute_result",
     "data": {
      "text/plain": "school_name\nHuang High School     79\nHuang High School     61\nHuang High School     60\nHuang High School     58\nHuang High School     84\n                      ..\nThomas High School    90\nThomas High School    70\nThomas High School    84\nThomas High School    90\nThomas High School    75\nName: math_score, Length: 39170, dtype: int64"
     },
     "metadata": {},
     "execution_count": 61
    }
   ],
   "source": [
    "# Calculate the math scores.\n",
    "student_school_math = student_data_df.set_index([\"school_name\"])[\"math_score\"]\n",
    "student_school_math"
   ]
  },
  {
   "cell_type": "code",
   "execution_count": 62,
   "metadata": {},
   "outputs": [
    {
     "output_type": "execute_result",
     "data": {
      "text/plain": "                       Student ID  reading_score  math_score  School ID  \\\nschool_name                                                               \nBailey High School        20358.5      81.033963   77.048432        7.0   \nCabrera High School       16941.5      83.975780   83.061895        6.0   \nFigueroa High School       4391.0      81.158020   76.711767        1.0   \nFord High School          36165.0      80.746258   77.102592       13.0   \nGriffin High School       12995.5      83.816757   83.351499        4.0   \nHernandez High School      9944.0      80.934412   77.289752        3.0   \nHolden High School        23060.0      83.814988   83.803279        8.0   \nHuang High School          1458.0      81.182722   76.629414        0.0   \nJohnson High School       32415.0      80.966394   77.072464       12.0   \nPena High School          23754.5      84.044699   83.839917        9.0   \nRodriguez High School     28035.0      80.744686   76.842711       11.0   \nShelton High School        6746.0      83.725724   83.359455        2.0   \nThomas High School        38352.0      83.848930   83.418349       14.0   \nWilson High School        14871.0      83.989488   83.274201        5.0   \nWright High School        25135.5      83.955000   83.682222       10.0   \n\n                         size     budget  \nschool_name                               \nBailey High School     4976.0  3124928.0  \nCabrera High School    1858.0  1081356.0  \nFigueroa High School   2949.0  1884411.0  \nFord High School       2739.0  1763916.0  \nGriffin High School    1468.0   917500.0  \nHernandez High School  4635.0  3022020.0  \nHolden High School      427.0   248087.0  \nHuang High School      2917.0  1910635.0  \nJohnson High School    4761.0  3094650.0  \nPena High School        962.0   585858.0  \nRodriguez High School  3999.0  2547363.0  \nShelton High School    1761.0  1056600.0  \nThomas High School     1635.0  1043130.0  \nWilson High School     2283.0  1319574.0  \nWright High School     1800.0  1049400.0  ",
      "text/html": "<div>\n<style scoped>\n    .dataframe tbody tr th:only-of-type {\n        vertical-align: middle;\n    }\n\n    .dataframe tbody tr th {\n        vertical-align: top;\n    }\n\n    .dataframe thead th {\n        text-align: right;\n    }\n</style>\n<table border=\"1\" class=\"dataframe\">\n  <thead>\n    <tr style=\"text-align: right;\">\n      <th></th>\n      <th>Student ID</th>\n      <th>reading_score</th>\n      <th>math_score</th>\n      <th>School ID</th>\n      <th>size</th>\n      <th>budget</th>\n    </tr>\n    <tr>\n      <th>school_name</th>\n      <th></th>\n      <th></th>\n      <th></th>\n      <th></th>\n      <th></th>\n      <th></th>\n    </tr>\n  </thead>\n  <tbody>\n    <tr>\n      <th>Bailey High School</th>\n      <td>20358.5</td>\n      <td>81.033963</td>\n      <td>77.048432</td>\n      <td>7.0</td>\n      <td>4976.0</td>\n      <td>3124928.0</td>\n    </tr>\n    <tr>\n      <th>Cabrera High School</th>\n      <td>16941.5</td>\n      <td>83.975780</td>\n      <td>83.061895</td>\n      <td>6.0</td>\n      <td>1858.0</td>\n      <td>1081356.0</td>\n    </tr>\n    <tr>\n      <th>Figueroa High School</th>\n      <td>4391.0</td>\n      <td>81.158020</td>\n      <td>76.711767</td>\n      <td>1.0</td>\n      <td>2949.0</td>\n      <td>1884411.0</td>\n    </tr>\n    <tr>\n      <th>Ford High School</th>\n      <td>36165.0</td>\n      <td>80.746258</td>\n      <td>77.102592</td>\n      <td>13.0</td>\n      <td>2739.0</td>\n      <td>1763916.0</td>\n    </tr>\n    <tr>\n      <th>Griffin High School</th>\n      <td>12995.5</td>\n      <td>83.816757</td>\n      <td>83.351499</td>\n      <td>4.0</td>\n      <td>1468.0</td>\n      <td>917500.0</td>\n    </tr>\n    <tr>\n      <th>Hernandez High School</th>\n      <td>9944.0</td>\n      <td>80.934412</td>\n      <td>77.289752</td>\n      <td>3.0</td>\n      <td>4635.0</td>\n      <td>3022020.0</td>\n    </tr>\n    <tr>\n      <th>Holden High School</th>\n      <td>23060.0</td>\n      <td>83.814988</td>\n      <td>83.803279</td>\n      <td>8.0</td>\n      <td>427.0</td>\n      <td>248087.0</td>\n    </tr>\n    <tr>\n      <th>Huang High School</th>\n      <td>1458.0</td>\n      <td>81.182722</td>\n      <td>76.629414</td>\n      <td>0.0</td>\n      <td>2917.0</td>\n      <td>1910635.0</td>\n    </tr>\n    <tr>\n      <th>Johnson High School</th>\n      <td>32415.0</td>\n      <td>80.966394</td>\n      <td>77.072464</td>\n      <td>12.0</td>\n      <td>4761.0</td>\n      <td>3094650.0</td>\n    </tr>\n    <tr>\n      <th>Pena High School</th>\n      <td>23754.5</td>\n      <td>84.044699</td>\n      <td>83.839917</td>\n      <td>9.0</td>\n      <td>962.0</td>\n      <td>585858.0</td>\n    </tr>\n    <tr>\n      <th>Rodriguez High School</th>\n      <td>28035.0</td>\n      <td>80.744686</td>\n      <td>76.842711</td>\n      <td>11.0</td>\n      <td>3999.0</td>\n      <td>2547363.0</td>\n    </tr>\n    <tr>\n      <th>Shelton High School</th>\n      <td>6746.0</td>\n      <td>83.725724</td>\n      <td>83.359455</td>\n      <td>2.0</td>\n      <td>1761.0</td>\n      <td>1056600.0</td>\n    </tr>\n    <tr>\n      <th>Thomas High School</th>\n      <td>38352.0</td>\n      <td>83.848930</td>\n      <td>83.418349</td>\n      <td>14.0</td>\n      <td>1635.0</td>\n      <td>1043130.0</td>\n    </tr>\n    <tr>\n      <th>Wilson High School</th>\n      <td>14871.0</td>\n      <td>83.989488</td>\n      <td>83.274201</td>\n      <td>5.0</td>\n      <td>2283.0</td>\n      <td>1319574.0</td>\n    </tr>\n    <tr>\n      <th>Wright High School</th>\n      <td>25135.5</td>\n      <td>83.955000</td>\n      <td>83.682222</td>\n      <td>10.0</td>\n      <td>1800.0</td>\n      <td>1049400.0</td>\n    </tr>\n  </tbody>\n</table>\n</div>"
     },
     "metadata": {},
     "execution_count": 62
    }
   ],
   "source": [
    "# Calculate the average math scores.\n",
    "per_school_averages = school_data_complete_df.groupby([\"school_name\"]).mean()\n",
    "per_school_averages"
   ]
  },
  {
   "cell_type": "code",
   "execution_count": 63,
   "metadata": {},
   "outputs": [],
   "source": [
    "# Calculate the average test scores.\n",
    "per_school_math = school_data_complete_df.groupby([\"school_name\"]).mean()[\"math_score\"]\n",
    "\n",
    "per_school_reading = school_data_complete_df.groupby([\"school_name\"]).mean()[\"reading_score\"]"
   ]
  },
  {
   "cell_type": "code",
   "execution_count": 64,
   "metadata": {},
   "outputs": [
    {
     "output_type": "execute_result",
     "data": {
      "text/plain": "school_name\nBailey High School       77.048432\nCabrera High School      83.061895\nFigueroa High School     76.711767\nFord High School         77.102592\nGriffin High School      83.351499\nHernandez High School    77.289752\nHolden High School       83.803279\nHuang High School        76.629414\nJohnson High School      77.072464\nPena High School         83.839917\nRodriguez High School    76.842711\nShelton High School      83.359455\nThomas High School       83.418349\nWilson High School       83.274201\nWright High School       83.682222\nName: math_score, dtype: float64"
     },
     "metadata": {},
     "execution_count": 64
    }
   ],
   "source": [
    "per_school_math"
   ]
  },
  {
   "cell_type": "code",
   "execution_count": 65,
   "metadata": {},
   "outputs": [
    {
     "output_type": "execute_result",
     "data": {
      "text/plain": "school_name\nBailey High School       81.033963\nCabrera High School      83.975780\nFigueroa High School     81.158020\nFord High School         80.746258\nGriffin High School      83.816757\nHernandez High School    80.934412\nHolden High School       83.814988\nHuang High School        81.182722\nJohnson High School      80.966394\nPena High School         84.044699\nRodriguez High School    80.744686\nShelton High School      83.725724\nThomas High School       83.848930\nWilson High School       83.989488\nWright High School       83.955000\nName: reading_score, dtype: float64"
     },
     "metadata": {},
     "execution_count": 65
    }
   ],
   "source": [
    "per_school_reading"
   ]
  },
  {
   "cell_type": "code",
   "execution_count": 66,
   "metadata": {},
   "outputs": [],
   "source": [
    "# Calculate the passing scores by creating a filtered DataFrame.\n",
    "per_school_passing_math = school_data_complete_df[(school_data_complete_df[\"math_score\"] >= 70)]\n",
    "\n",
    "per_school_passing_reading = school_data_complete_df[(school_data_complete_df[\"reading_score\"] >= 70)]"
   ]
  },
  {
   "cell_type": "code",
   "execution_count": 67,
   "metadata": {},
   "outputs": [
    {
     "output_type": "execute_result",
     "data": {
      "text/plain": "       Student ID     student_name gender grade         school_name  \\\n0               0     Paul Bradley      M   9th   Huang High School   \n4               4       Bonnie Ray      F   9th   Huang High School   \n5               5    Bryan Miranda      M   9th   Huang High School   \n6               6    Sheena Carter      F  11th   Huang High School   \n8               8     Michael Roth      M  10th   Huang High School   \n...           ...              ...    ...   ...                 ...   \n39165       39165     Donna Howard      F  12th  Thomas High School   \n39166       39166        Dawn Bell      F  10th  Thomas High School   \n39167       39167   Rebecca Tanner      F   9th  Thomas High School   \n39168       39168     Desiree Kidd      F  10th  Thomas High School   \n39169       39169  Carolyn Jackson      F  11th  Thomas High School   \n\n       reading_score  math_score  School ID      type  size   budget  \n0                 66          79          0  District  2917  1910635  \n4                 97          84          0  District  2917  1910635  \n5                 94          94          0  District  2917  1910635  \n6                 82          80          0  District  2917  1910635  \n8                 95          87          0  District  2917  1910635  \n...              ...         ...        ...       ...   ...      ...  \n39165             99          90         14   Charter  1635  1043130  \n39166             95          70         14   Charter  1635  1043130  \n39167             73          84         14   Charter  1635  1043130  \n39168             99          90         14   Charter  1635  1043130  \n39169             95          75         14   Charter  1635  1043130  \n\n[29370 rows x 11 columns]",
      "text/html": "<div>\n<style scoped>\n    .dataframe tbody tr th:only-of-type {\n        vertical-align: middle;\n    }\n\n    .dataframe tbody tr th {\n        vertical-align: top;\n    }\n\n    .dataframe thead th {\n        text-align: right;\n    }\n</style>\n<table border=\"1\" class=\"dataframe\">\n  <thead>\n    <tr style=\"text-align: right;\">\n      <th></th>\n      <th>Student ID</th>\n      <th>student_name</th>\n      <th>gender</th>\n      <th>grade</th>\n      <th>school_name</th>\n      <th>reading_score</th>\n      <th>math_score</th>\n      <th>School ID</th>\n      <th>type</th>\n      <th>size</th>\n      <th>budget</th>\n    </tr>\n  </thead>\n  <tbody>\n    <tr>\n      <th>0</th>\n      <td>0</td>\n      <td>Paul Bradley</td>\n      <td>M</td>\n      <td>9th</td>\n      <td>Huang High School</td>\n      <td>66</td>\n      <td>79</td>\n      <td>0</td>\n      <td>District</td>\n      <td>2917</td>\n      <td>1910635</td>\n    </tr>\n    <tr>\n      <th>4</th>\n      <td>4</td>\n      <td>Bonnie Ray</td>\n      <td>F</td>\n      <td>9th</td>\n      <td>Huang High School</td>\n      <td>97</td>\n      <td>84</td>\n      <td>0</td>\n      <td>District</td>\n      <td>2917</td>\n      <td>1910635</td>\n    </tr>\n    <tr>\n      <th>5</th>\n      <td>5</td>\n      <td>Bryan Miranda</td>\n      <td>M</td>\n      <td>9th</td>\n      <td>Huang High School</td>\n      <td>94</td>\n      <td>94</td>\n      <td>0</td>\n      <td>District</td>\n      <td>2917</td>\n      <td>1910635</td>\n    </tr>\n    <tr>\n      <th>6</th>\n      <td>6</td>\n      <td>Sheena Carter</td>\n      <td>F</td>\n      <td>11th</td>\n      <td>Huang High School</td>\n      <td>82</td>\n      <td>80</td>\n      <td>0</td>\n      <td>District</td>\n      <td>2917</td>\n      <td>1910635</td>\n    </tr>\n    <tr>\n      <th>8</th>\n      <td>8</td>\n      <td>Michael Roth</td>\n      <td>M</td>\n      <td>10th</td>\n      <td>Huang High School</td>\n      <td>95</td>\n      <td>87</td>\n      <td>0</td>\n      <td>District</td>\n      <td>2917</td>\n      <td>1910635</td>\n    </tr>\n    <tr>\n      <th>...</th>\n      <td>...</td>\n      <td>...</td>\n      <td>...</td>\n      <td>...</td>\n      <td>...</td>\n      <td>...</td>\n      <td>...</td>\n      <td>...</td>\n      <td>...</td>\n      <td>...</td>\n      <td>...</td>\n    </tr>\n    <tr>\n      <th>39165</th>\n      <td>39165</td>\n      <td>Donna Howard</td>\n      <td>F</td>\n      <td>12th</td>\n      <td>Thomas High School</td>\n      <td>99</td>\n      <td>90</td>\n      <td>14</td>\n      <td>Charter</td>\n      <td>1635</td>\n      <td>1043130</td>\n    </tr>\n    <tr>\n      <th>39166</th>\n      <td>39166</td>\n      <td>Dawn Bell</td>\n      <td>F</td>\n      <td>10th</td>\n      <td>Thomas High School</td>\n      <td>95</td>\n      <td>70</td>\n      <td>14</td>\n      <td>Charter</td>\n      <td>1635</td>\n      <td>1043130</td>\n    </tr>\n    <tr>\n      <th>39167</th>\n      <td>39167</td>\n      <td>Rebecca Tanner</td>\n      <td>F</td>\n      <td>9th</td>\n      <td>Thomas High School</td>\n      <td>73</td>\n      <td>84</td>\n      <td>14</td>\n      <td>Charter</td>\n      <td>1635</td>\n      <td>1043130</td>\n    </tr>\n    <tr>\n      <th>39168</th>\n      <td>39168</td>\n      <td>Desiree Kidd</td>\n      <td>F</td>\n      <td>10th</td>\n      <td>Thomas High School</td>\n      <td>99</td>\n      <td>90</td>\n      <td>14</td>\n      <td>Charter</td>\n      <td>1635</td>\n      <td>1043130</td>\n    </tr>\n    <tr>\n      <th>39169</th>\n      <td>39169</td>\n      <td>Carolyn Jackson</td>\n      <td>F</td>\n      <td>11th</td>\n      <td>Thomas High School</td>\n      <td>95</td>\n      <td>75</td>\n      <td>14</td>\n      <td>Charter</td>\n      <td>1635</td>\n      <td>1043130</td>\n    </tr>\n  </tbody>\n</table>\n<p>29370 rows × 11 columns</p>\n</div>"
     },
     "metadata": {},
     "execution_count": 67
    }
   ],
   "source": [
    "per_school_passing_math"
   ]
  },
  {
   "cell_type": "code",
   "execution_count": 68,
   "metadata": {},
   "outputs": [],
   "source": [
    "# Calculate the number of students passing math and passing reading by school.\n",
    "per_school_passing_math = per_school_passing_math.groupby([\"school_name\"]).count()[\"student_name\"]\n",
    "\n",
    "per_school_passing_reading = per_school_passing_reading.groupby([\"school_name\"]).count()[\"student_name\"]"
   ]
  },
  {
   "cell_type": "code",
   "execution_count": 69,
   "metadata": {},
   "outputs": [
    {
     "output_type": "execute_result",
     "data": {
      "text/plain": "school_name\nBailey High School       3318\nCabrera High School      1749\nFigueroa High School     1946\nFord High School         1871\nGriffin High School      1371\nHernandez High School    3094\nHolden High School        395\nHuang High School        1916\nJohnson High School      3145\nPena High School          910\nRodriguez High School    2654\nShelton High School      1653\nThomas High School       1525\nWilson High School       2143\nWright High School       1680\nName: student_name, dtype: int64"
     },
     "metadata": {},
     "execution_count": 69
    }
   ],
   "source": [
    "per_school_passing_math"
   ]
  },
  {
   "cell_type": "code",
   "execution_count": 70,
   "metadata": {},
   "outputs": [
    {
     "output_type": "execute_result",
     "data": {
      "text/plain": "school_name\nBailey High School       4077\nCabrera High School      1803\nFigueroa High School     2381\nFord High School         2172\nGriffin High School      1426\nHernandez High School    3748\nHolden High School        411\nHuang High School        2372\nJohnson High School      3867\nPena High School          923\nRodriguez High School    3208\nShelton High School      1688\nThomas High School       1591\nWilson High School       2204\nWright High School       1739\nName: student_name, dtype: int64"
     },
     "metadata": {},
     "execution_count": 70
    }
   ],
   "source": [
    "per_school_passing_reading "
   ]
  },
  {
   "cell_type": "code",
   "execution_count": 71,
   "metadata": {},
   "outputs": [],
   "source": [
    "# Calculate the percentage of passing math and reading scores per school.\n",
    "per_school_passing_math = per_school_passing_math / per_school_counts * 100\n",
    "\n",
    "per_school_passing_reading = per_school_passing_reading / per_school_counts * 100"
   ]
  },
  {
   "cell_type": "code",
   "execution_count": 72,
   "metadata": {},
   "outputs": [
    {
     "output_type": "execute_result",
     "data": {
      "text/plain": "Bailey High School       66.680064\nCabrera High School      94.133477\nFigueroa High School     65.988471\nFord High School         68.309602\nGriffin High School      93.392371\nHernandez High School    66.752967\nHolden High School       92.505855\nHuang High School        65.683922\nJohnson High School      66.057551\nPena High School         94.594595\nRodriguez High School    66.366592\nShelton High School      93.867121\nThomas High School       93.272171\nWilson High School       93.867718\nWright High School       93.333333\ndtype: float64"
     },
     "metadata": {},
     "execution_count": 72
    }
   ],
   "source": [
    "per_school_passing_math"
   ]
  },
  {
   "cell_type": "code",
   "execution_count": 73,
   "metadata": {},
   "outputs": [
    {
     "output_type": "execute_result",
     "data": {
      "text/plain": "Bailey High School       81.933280\nCabrera High School      97.039828\nFigueroa High School     80.739234\nFord High School         79.299014\nGriffin High School      97.138965\nHernandez High School    80.862999\nHolden High School       96.252927\nHuang High School        81.316421\nJohnson High School      81.222432\nPena High School         95.945946\nRodriguez High School    80.220055\nShelton High School      95.854628\nThomas High School       97.308869\nWilson High School       96.539641\nWright High School       96.611111\ndtype: float64"
     },
     "metadata": {},
     "execution_count": 73
    }
   ],
   "source": [
    "per_school_passing_reading "
   ]
  },
  {
   "cell_type": "code",
   "execution_count": 74,
   "metadata": {},
   "outputs": [
    {
     "output_type": "execute_result",
     "data": {
      "text/plain": "   Student ID    student_name gender grade        school_name  reading_score  \\\n4           4      Bonnie Ray      F   9th  Huang High School             97   \n5           5   Bryan Miranda      M   9th  Huang High School             94   \n6           6   Sheena Carter      F  11th  Huang High School             82   \n8           8    Michael Roth      M  10th  Huang High School             95   \n9           9  Matthew Greene      M  10th  Huang High School             96   \n\n   math_score  School ID      type  size   budget  \n4          84          0  District  2917  1910635  \n5          94          0  District  2917  1910635  \n6          80          0  District  2917  1910635  \n8          87          0  District  2917  1910635  \n9          84          0  District  2917  1910635  ",
      "text/html": "<div>\n<style scoped>\n    .dataframe tbody tr th:only-of-type {\n        vertical-align: middle;\n    }\n\n    .dataframe tbody tr th {\n        vertical-align: top;\n    }\n\n    .dataframe thead th {\n        text-align: right;\n    }\n</style>\n<table border=\"1\" class=\"dataframe\">\n  <thead>\n    <tr style=\"text-align: right;\">\n      <th></th>\n      <th>Student ID</th>\n      <th>student_name</th>\n      <th>gender</th>\n      <th>grade</th>\n      <th>school_name</th>\n      <th>reading_score</th>\n      <th>math_score</th>\n      <th>School ID</th>\n      <th>type</th>\n      <th>size</th>\n      <th>budget</th>\n    </tr>\n  </thead>\n  <tbody>\n    <tr>\n      <th>4</th>\n      <td>4</td>\n      <td>Bonnie Ray</td>\n      <td>F</td>\n      <td>9th</td>\n      <td>Huang High School</td>\n      <td>97</td>\n      <td>84</td>\n      <td>0</td>\n      <td>District</td>\n      <td>2917</td>\n      <td>1910635</td>\n    </tr>\n    <tr>\n      <th>5</th>\n      <td>5</td>\n      <td>Bryan Miranda</td>\n      <td>M</td>\n      <td>9th</td>\n      <td>Huang High School</td>\n      <td>94</td>\n      <td>94</td>\n      <td>0</td>\n      <td>District</td>\n      <td>2917</td>\n      <td>1910635</td>\n    </tr>\n    <tr>\n      <th>6</th>\n      <td>6</td>\n      <td>Sheena Carter</td>\n      <td>F</td>\n      <td>11th</td>\n      <td>Huang High School</td>\n      <td>82</td>\n      <td>80</td>\n      <td>0</td>\n      <td>District</td>\n      <td>2917</td>\n      <td>1910635</td>\n    </tr>\n    <tr>\n      <th>8</th>\n      <td>8</td>\n      <td>Michael Roth</td>\n      <td>M</td>\n      <td>10th</td>\n      <td>Huang High School</td>\n      <td>95</td>\n      <td>87</td>\n      <td>0</td>\n      <td>District</td>\n      <td>2917</td>\n      <td>1910635</td>\n    </tr>\n    <tr>\n      <th>9</th>\n      <td>9</td>\n      <td>Matthew Greene</td>\n      <td>M</td>\n      <td>10th</td>\n      <td>Huang High School</td>\n      <td>96</td>\n      <td>84</td>\n      <td>0</td>\n      <td>District</td>\n      <td>2917</td>\n      <td>1910635</td>\n    </tr>\n  </tbody>\n</table>\n</div>"
     },
     "metadata": {},
     "execution_count": 74
    }
   ],
   "source": [
    "# Calculate the students who passed both math and reading.\n",
    "per_passing_math_reading = school_data_complete_df[(school_data_complete_df[\"math_score\"] >= 70) & (school_data_complete_df[\"reading_score\"] >= 70)]\n",
    "\n",
    "per_passing_math_reading.head()"
   ]
  },
  {
   "cell_type": "code",
   "execution_count": 75,
   "metadata": {},
   "outputs": [],
   "source": [
    "# Calculate the number of students who passed both math and reading.\n",
    "per_passing_math_reading = per_passing_math_reading.groupby([\"school_name\"]).count()[\"student_name\"]"
   ]
  },
  {
   "cell_type": "code",
   "execution_count": 76,
   "metadata": {},
   "outputs": [],
   "source": [
    "# Calculate the overall passing percentage.\n",
    "per_overall_passing_percentage = per_passing_math_reading / per_school_counts * 100"
   ]
  },
  {
   "cell_type": "code",
   "execution_count": 77,
   "metadata": {},
   "outputs": [
    {
     "output_type": "execute_result",
     "data": {
      "text/plain": "Bailey High School       54.642283\nCabrera High School      91.334769\nFigueroa High School     53.204476\nFord High School         54.289887\nGriffin High School      90.599455\nHernandez High School    53.527508\nHolden High School       89.227166\nHuang High School        53.513884\nJohnson High School      53.539172\nPena High School         90.540541\nRodriguez High School    52.988247\nShelton High School      89.892107\nThomas High School       90.948012\nWilson High School       90.582567\nWright High School       90.333333\ndtype: float64"
     },
     "metadata": {},
     "execution_count": 77
    }
   ],
   "source": [
    "per_overall_passing_percentage"
   ]
  },
  {
   "cell_type": "code",
   "execution_count": 78,
   "metadata": {},
   "outputs": [
    {
     "output_type": "execute_result",
     "data": {
      "text/plain": "                     School Type  Total Students  Total School Budget  \\\nBailey High School      District            4976              3124928   \nCabrera High School      Charter            1858              1081356   \nFigueroa High School    District            2949              1884411   \nFord High School        District            2739              1763916   \nGriffin High School      Charter            1468               917500   \n\n                      Per Student Budget  Average Math Score  \\\nBailey High School                 628.0           77.048432   \nCabrera High School                582.0           83.061895   \nFigueroa High School               639.0           76.711767   \nFord High School                   644.0           77.102592   \nGriffin High School                625.0           83.351499   \n\n                      Average Reading Score  % Passing Math  \\\nBailey High School                81.033963       66.680064   \nCabrera High School               83.975780       94.133477   \nFigueroa High School              81.158020       65.988471   \nFord High School                  80.746258       68.309602   \nGriffin High School               83.816757       93.392371   \n\n                      % Passing Reading  % Overall Passing  \nBailey High School            81.933280          54.642283  \nCabrera High School           97.039828          91.334769  \nFigueroa High School          80.739234          53.204476  \nFord High School              79.299014          54.289887  \nGriffin High School           97.138965          90.599455  ",
      "text/html": "<div>\n<style scoped>\n    .dataframe tbody tr th:only-of-type {\n        vertical-align: middle;\n    }\n\n    .dataframe tbody tr th {\n        vertical-align: top;\n    }\n\n    .dataframe thead th {\n        text-align: right;\n    }\n</style>\n<table border=\"1\" class=\"dataframe\">\n  <thead>\n    <tr style=\"text-align: right;\">\n      <th></th>\n      <th>School Type</th>\n      <th>Total Students</th>\n      <th>Total School Budget</th>\n      <th>Per Student Budget</th>\n      <th>Average Math Score</th>\n      <th>Average Reading Score</th>\n      <th>% Passing Math</th>\n      <th>% Passing Reading</th>\n      <th>% Overall Passing</th>\n    </tr>\n  </thead>\n  <tbody>\n    <tr>\n      <th>Bailey High School</th>\n      <td>District</td>\n      <td>4976</td>\n      <td>3124928</td>\n      <td>628.0</td>\n      <td>77.048432</td>\n      <td>81.033963</td>\n      <td>66.680064</td>\n      <td>81.933280</td>\n      <td>54.642283</td>\n    </tr>\n    <tr>\n      <th>Cabrera High School</th>\n      <td>Charter</td>\n      <td>1858</td>\n      <td>1081356</td>\n      <td>582.0</td>\n      <td>83.061895</td>\n      <td>83.975780</td>\n      <td>94.133477</td>\n      <td>97.039828</td>\n      <td>91.334769</td>\n    </tr>\n    <tr>\n      <th>Figueroa High School</th>\n      <td>District</td>\n      <td>2949</td>\n      <td>1884411</td>\n      <td>639.0</td>\n      <td>76.711767</td>\n      <td>81.158020</td>\n      <td>65.988471</td>\n      <td>80.739234</td>\n      <td>53.204476</td>\n    </tr>\n    <tr>\n      <th>Ford High School</th>\n      <td>District</td>\n      <td>2739</td>\n      <td>1763916</td>\n      <td>644.0</td>\n      <td>77.102592</td>\n      <td>80.746258</td>\n      <td>68.309602</td>\n      <td>79.299014</td>\n      <td>54.289887</td>\n    </tr>\n    <tr>\n      <th>Griffin High School</th>\n      <td>Charter</td>\n      <td>1468</td>\n      <td>917500</td>\n      <td>625.0</td>\n      <td>83.351499</td>\n      <td>83.816757</td>\n      <td>93.392371</td>\n      <td>97.138965</td>\n      <td>90.599455</td>\n    </tr>\n  </tbody>\n</table>\n</div>"
     },
     "metadata": {},
     "execution_count": 78
    }
   ],
   "source": [
    "# Adding a list of values with keys to create a new DataFrame.\n",
    "\n",
    "per_school_summary_df = pd.DataFrame({\n",
    "             \"School Type\": per_school_types,\n",
    "             \"Total Students\": per_school_counts,\n",
    "             \"Total School Budget\": per_school_budget,\n",
    "             \"Per Student Budget\": per_school_capita,\n",
    "             \"Average Math Score\": per_school_math,\n",
    "           \"Average Reading Score\": per_school_reading,\n",
    "           \"% Passing Math\": per_school_passing_math,\n",
    "           \"% Passing Reading\": per_school_passing_reading,\n",
    "           \"% Overall Passing\": per_overall_passing_percentage})\n",
    "per_school_summary_df.head()"
   ]
  },
  {
   "cell_type": "code",
   "execution_count": 79,
   "metadata": {},
   "outputs": [
    {
     "output_type": "execute_result",
     "data": {
      "text/plain": "                     School Type  Total Students Total School Budget  \\\nBailey High School      District            4976       $3,124,928.00   \nCabrera High School      Charter            1858       $1,081,356.00   \nFigueroa High School    District            2949       $1,884,411.00   \nFord High School        District            2739       $1,763,916.00   \nGriffin High School      Charter            1468         $917,500.00   \n\n                     Per Student Budget  Average Math Score  \\\nBailey High School              $628.00           77.048432   \nCabrera High School             $582.00           83.061895   \nFigueroa High School            $639.00           76.711767   \nFord High School                $644.00           77.102592   \nGriffin High School             $625.00           83.351499   \n\n                      Average Reading Score  % Passing Math  \\\nBailey High School                81.033963       66.680064   \nCabrera High School               83.975780       94.133477   \nFigueroa High School              81.158020       65.988471   \nFord High School                  80.746258       68.309602   \nGriffin High School               83.816757       93.392371   \n\n                      % Passing Reading  % Overall Passing  \nBailey High School            81.933280          54.642283  \nCabrera High School           97.039828          91.334769  \nFigueroa High School          80.739234          53.204476  \nFord High School              79.299014          54.289887  \nGriffin High School           97.138965          90.599455  ",
      "text/html": "<div>\n<style scoped>\n    .dataframe tbody tr th:only-of-type {\n        vertical-align: middle;\n    }\n\n    .dataframe tbody tr th {\n        vertical-align: top;\n    }\n\n    .dataframe thead th {\n        text-align: right;\n    }\n</style>\n<table border=\"1\" class=\"dataframe\">\n  <thead>\n    <tr style=\"text-align: right;\">\n      <th></th>\n      <th>School Type</th>\n      <th>Total Students</th>\n      <th>Total School Budget</th>\n      <th>Per Student Budget</th>\n      <th>Average Math Score</th>\n      <th>Average Reading Score</th>\n      <th>% Passing Math</th>\n      <th>% Passing Reading</th>\n      <th>% Overall Passing</th>\n    </tr>\n  </thead>\n  <tbody>\n    <tr>\n      <th>Bailey High School</th>\n      <td>District</td>\n      <td>4976</td>\n      <td>$3,124,928.00</td>\n      <td>$628.00</td>\n      <td>77.048432</td>\n      <td>81.033963</td>\n      <td>66.680064</td>\n      <td>81.933280</td>\n      <td>54.642283</td>\n    </tr>\n    <tr>\n      <th>Cabrera High School</th>\n      <td>Charter</td>\n      <td>1858</td>\n      <td>$1,081,356.00</td>\n      <td>$582.00</td>\n      <td>83.061895</td>\n      <td>83.975780</td>\n      <td>94.133477</td>\n      <td>97.039828</td>\n      <td>91.334769</td>\n    </tr>\n    <tr>\n      <th>Figueroa High School</th>\n      <td>District</td>\n      <td>2949</td>\n      <td>$1,884,411.00</td>\n      <td>$639.00</td>\n      <td>76.711767</td>\n      <td>81.158020</td>\n      <td>65.988471</td>\n      <td>80.739234</td>\n      <td>53.204476</td>\n    </tr>\n    <tr>\n      <th>Ford High School</th>\n      <td>District</td>\n      <td>2739</td>\n      <td>$1,763,916.00</td>\n      <td>$644.00</td>\n      <td>77.102592</td>\n      <td>80.746258</td>\n      <td>68.309602</td>\n      <td>79.299014</td>\n      <td>54.289887</td>\n    </tr>\n    <tr>\n      <th>Griffin High School</th>\n      <td>Charter</td>\n      <td>1468</td>\n      <td>$917,500.00</td>\n      <td>$625.00</td>\n      <td>83.351499</td>\n      <td>83.816757</td>\n      <td>93.392371</td>\n      <td>97.138965</td>\n      <td>90.599455</td>\n    </tr>\n  </tbody>\n</table>\n</div>"
     },
     "metadata": {},
     "execution_count": 79
    }
   ],
   "source": [
    "# Format the Total School Budget and the Per Student Budget columns.\n",
    "per_school_summary_df[\"Total School Budget\"] = per_school_summary_df[\"Total School Budget\"].map(\"${:,.2f}\".format)\n",
    "\n",
    "per_school_summary_df[\"Per Student Budget\"] = per_school_summary_df[\"Per Student Budget\"].map(\"${:,.2f}\".format)\n",
    "\n",
    "\n",
    "# Display the data frame\n",
    "per_school_summary_df.head()"
   ]
  },
  {
   "cell_type": "code",
   "execution_count": 80,
   "metadata": {},
   "outputs": [
    {
     "output_type": "execute_result",
     "data": {
      "text/plain": "                    School Type  Total Students Total School Budget  \\\nCabrera High School     Charter            1858       $1,081,356.00   \nThomas High School      Charter            1635       $1,043,130.00   \nGriffin High School     Charter            1468         $917,500.00   \nWilson High School      Charter            2283       $1,319,574.00   \nPena High School        Charter             962         $585,858.00   \n\n                    Per Student Budget  Average Math Score  \\\nCabrera High School            $582.00           83.061895   \nThomas High School             $638.00           83.418349   \nGriffin High School            $625.00           83.351499   \nWilson High School             $578.00           83.274201   \nPena High School               $609.00           83.839917   \n\n                     Average Reading Score  % Passing Math  % Passing Reading  \\\nCabrera High School              83.975780       94.133477          97.039828   \nThomas High School               83.848930       93.272171          97.308869   \nGriffin High School              83.816757       93.392371          97.138965   \nWilson High School               83.989488       93.867718          96.539641   \nPena High School                 84.044699       94.594595          95.945946   \n\n                     % Overall Passing  \nCabrera High School          91.334769  \nThomas High School           90.948012  \nGriffin High School          90.599455  \nWilson High School           90.582567  \nPena High School             90.540541  ",
      "text/html": "<div>\n<style scoped>\n    .dataframe tbody tr th:only-of-type {\n        vertical-align: middle;\n    }\n\n    .dataframe tbody tr th {\n        vertical-align: top;\n    }\n\n    .dataframe thead th {\n        text-align: right;\n    }\n</style>\n<table border=\"1\" class=\"dataframe\">\n  <thead>\n    <tr style=\"text-align: right;\">\n      <th></th>\n      <th>School Type</th>\n      <th>Total Students</th>\n      <th>Total School Budget</th>\n      <th>Per Student Budget</th>\n      <th>Average Math Score</th>\n      <th>Average Reading Score</th>\n      <th>% Passing Math</th>\n      <th>% Passing Reading</th>\n      <th>% Overall Passing</th>\n    </tr>\n  </thead>\n  <tbody>\n    <tr>\n      <th>Cabrera High School</th>\n      <td>Charter</td>\n      <td>1858</td>\n      <td>$1,081,356.00</td>\n      <td>$582.00</td>\n      <td>83.061895</td>\n      <td>83.975780</td>\n      <td>94.133477</td>\n      <td>97.039828</td>\n      <td>91.334769</td>\n    </tr>\n    <tr>\n      <th>Thomas High School</th>\n      <td>Charter</td>\n      <td>1635</td>\n      <td>$1,043,130.00</td>\n      <td>$638.00</td>\n      <td>83.418349</td>\n      <td>83.848930</td>\n      <td>93.272171</td>\n      <td>97.308869</td>\n      <td>90.948012</td>\n    </tr>\n    <tr>\n      <th>Griffin High School</th>\n      <td>Charter</td>\n      <td>1468</td>\n      <td>$917,500.00</td>\n      <td>$625.00</td>\n      <td>83.351499</td>\n      <td>83.816757</td>\n      <td>93.392371</td>\n      <td>97.138965</td>\n      <td>90.599455</td>\n    </tr>\n    <tr>\n      <th>Wilson High School</th>\n      <td>Charter</td>\n      <td>2283</td>\n      <td>$1,319,574.00</td>\n      <td>$578.00</td>\n      <td>83.274201</td>\n      <td>83.989488</td>\n      <td>93.867718</td>\n      <td>96.539641</td>\n      <td>90.582567</td>\n    </tr>\n    <tr>\n      <th>Pena High School</th>\n      <td>Charter</td>\n      <td>962</td>\n      <td>$585,858.00</td>\n      <td>$609.00</td>\n      <td>83.839917</td>\n      <td>84.044699</td>\n      <td>94.594595</td>\n      <td>95.945946</td>\n      <td>90.540541</td>\n    </tr>\n  </tbody>\n</table>\n</div>"
     },
     "metadata": {},
     "execution_count": 80
    }
   ],
   "source": [
    "# Sort and show top five schools.\n",
    "top_schools = per_school_summary_df.sort_values([\"% Overall Passing\"], ascending=False)\n",
    "\n",
    "top_schools.head()"
   ]
  },
  {
   "cell_type": "code",
   "execution_count": 81,
   "metadata": {},
   "outputs": [
    {
     "output_type": "execute_result",
     "data": {
      "text/plain": "                      School Type  Total Students Total School Budget  \\\nRodriguez High School    District            3999       $2,547,363.00   \nFigueroa High School     District            2949       $1,884,411.00   \nHuang High School        District            2917       $1,910,635.00   \nHernandez High School    District            4635       $3,022,020.00   \nJohnson High School      District            4761       $3,094,650.00   \n\n                      Per Student Budget  Average Math Score  \\\nRodriguez High School            $637.00           76.842711   \nFigueroa High School             $639.00           76.711767   \nHuang High School                $655.00           76.629414   \nHernandez High School            $652.00           77.289752   \nJohnson High School              $650.00           77.072464   \n\n                       Average Reading Score  % Passing Math  \\\nRodriguez High School              80.744686       66.366592   \nFigueroa High School               81.158020       65.988471   \nHuang High School                  81.182722       65.683922   \nHernandez High School              80.934412       66.752967   \nJohnson High School                80.966394       66.057551   \n\n                       % Passing Reading  % Overall Passing  \nRodriguez High School          80.220055          52.988247  \nFigueroa High School           80.739234          53.204476  \nHuang High School              81.316421          53.513884  \nHernandez High School          80.862999          53.527508  \nJohnson High School            81.222432          53.539172  ",
      "text/html": "<div>\n<style scoped>\n    .dataframe tbody tr th:only-of-type {\n        vertical-align: middle;\n    }\n\n    .dataframe tbody tr th {\n        vertical-align: top;\n    }\n\n    .dataframe thead th {\n        text-align: right;\n    }\n</style>\n<table border=\"1\" class=\"dataframe\">\n  <thead>\n    <tr style=\"text-align: right;\">\n      <th></th>\n      <th>School Type</th>\n      <th>Total Students</th>\n      <th>Total School Budget</th>\n      <th>Per Student Budget</th>\n      <th>Average Math Score</th>\n      <th>Average Reading Score</th>\n      <th>% Passing Math</th>\n      <th>% Passing Reading</th>\n      <th>% Overall Passing</th>\n    </tr>\n  </thead>\n  <tbody>\n    <tr>\n      <th>Rodriguez High School</th>\n      <td>District</td>\n      <td>3999</td>\n      <td>$2,547,363.00</td>\n      <td>$637.00</td>\n      <td>76.842711</td>\n      <td>80.744686</td>\n      <td>66.366592</td>\n      <td>80.220055</td>\n      <td>52.988247</td>\n    </tr>\n    <tr>\n      <th>Figueroa High School</th>\n      <td>District</td>\n      <td>2949</td>\n      <td>$1,884,411.00</td>\n      <td>$639.00</td>\n      <td>76.711767</td>\n      <td>81.158020</td>\n      <td>65.988471</td>\n      <td>80.739234</td>\n      <td>53.204476</td>\n    </tr>\n    <tr>\n      <th>Huang High School</th>\n      <td>District</td>\n      <td>2917</td>\n      <td>$1,910,635.00</td>\n      <td>$655.00</td>\n      <td>76.629414</td>\n      <td>81.182722</td>\n      <td>65.683922</td>\n      <td>81.316421</td>\n      <td>53.513884</td>\n    </tr>\n    <tr>\n      <th>Hernandez High School</th>\n      <td>District</td>\n      <td>4635</td>\n      <td>$3,022,020.00</td>\n      <td>$652.00</td>\n      <td>77.289752</td>\n      <td>80.934412</td>\n      <td>66.752967</td>\n      <td>80.862999</td>\n      <td>53.527508</td>\n    </tr>\n    <tr>\n      <th>Johnson High School</th>\n      <td>District</td>\n      <td>4761</td>\n      <td>$3,094,650.00</td>\n      <td>$650.00</td>\n      <td>77.072464</td>\n      <td>80.966394</td>\n      <td>66.057551</td>\n      <td>81.222432</td>\n      <td>53.539172</td>\n    </tr>\n  </tbody>\n</table>\n</div>"
     },
     "metadata": {},
     "execution_count": 81
    }
   ],
   "source": [
    "# Sort and show top five schools.\n",
    "bottom_schools = per_school_summary_df.sort_values([\"% Overall Passing\"], ascending=True)\n",
    "\n",
    "bottom_schools.head()"
   ]
  },
  {
   "cell_type": "code",
   "execution_count": 82,
   "metadata": {},
   "outputs": [],
   "source": [
    "# Create a grade level DataFrames.\n",
    "ninth_graders = school_data_complete_df[(school_data_complete_df[\"grade\"] == \"9th\")]\n",
    "\n",
    "tenth_graders = school_data_complete_df[(school_data_complete_df[\"grade\"] == \"10th\")]\n",
    "\n",
    "eleventh_graders = school_data_complete_df[(school_data_complete_df[\"grade\"] == \"11th\")]\n",
    "\n",
    "twelfth_graders = school_data_complete_df[(school_data_complete_df[\"grade\"] == \"12th\")]"
   ]
  },
  {
   "cell_type": "code",
   "execution_count": 83,
   "metadata": {
    "scrolled": true
   },
   "outputs": [
    {
     "output_type": "execute_result",
     "data": {
      "text/plain": "       Student ID      student_name gender grade         school_name  \\\n0               0      Paul Bradley      M   9th   Huang High School   \n4               4        Bonnie Ray      F   9th   Huang High School   \n5               5     Bryan Miranda      M   9th   Huang High School   \n12             12   Brittney Walker      F   9th   Huang High School   \n13             13      William Long      M   9th   Huang High School   \n...           ...               ...    ...   ...                 ...   \n39152       39152        Lori Moore      F   9th  Thomas High School   \n39153       39153   William Hubbard      M   9th  Thomas High School   \n39157       39157  Kristen Gonzalez      F   9th  Thomas High School   \n39164       39164    Joseph Anthony      M   9th  Thomas High School   \n39167       39167    Rebecca Tanner      F   9th  Thomas High School   \n\n       reading_score  math_score  School ID      type  size   budget  \n0                 66          79          0  District  2917  1910635  \n4                 97          84          0  District  2917  1910635  \n5                 94          94          0  District  2917  1910635  \n12                64          79          0  District  2917  1910635  \n13                71          79          0  District  2917  1910635  \n...              ...         ...        ...       ...   ...      ...  \n39152             98          84         14   Charter  1635  1043130  \n39153             80          75         14   Charter  1635  1043130  \n39157             79          94         14   Charter  1635  1043130  \n39164             97          76         14   Charter  1635  1043130  \n39167             73          84         14   Charter  1635  1043130  \n\n[11408 rows x 11 columns]",
      "text/html": "<div>\n<style scoped>\n    .dataframe tbody tr th:only-of-type {\n        vertical-align: middle;\n    }\n\n    .dataframe tbody tr th {\n        vertical-align: top;\n    }\n\n    .dataframe thead th {\n        text-align: right;\n    }\n</style>\n<table border=\"1\" class=\"dataframe\">\n  <thead>\n    <tr style=\"text-align: right;\">\n      <th></th>\n      <th>Student ID</th>\n      <th>student_name</th>\n      <th>gender</th>\n      <th>grade</th>\n      <th>school_name</th>\n      <th>reading_score</th>\n      <th>math_score</th>\n      <th>School ID</th>\n      <th>type</th>\n      <th>size</th>\n      <th>budget</th>\n    </tr>\n  </thead>\n  <tbody>\n    <tr>\n      <th>0</th>\n      <td>0</td>\n      <td>Paul Bradley</td>\n      <td>M</td>\n      <td>9th</td>\n      <td>Huang High School</td>\n      <td>66</td>\n      <td>79</td>\n      <td>0</td>\n      <td>District</td>\n      <td>2917</td>\n      <td>1910635</td>\n    </tr>\n    <tr>\n      <th>4</th>\n      <td>4</td>\n      <td>Bonnie Ray</td>\n      <td>F</td>\n      <td>9th</td>\n      <td>Huang High School</td>\n      <td>97</td>\n      <td>84</td>\n      <td>0</td>\n      <td>District</td>\n      <td>2917</td>\n      <td>1910635</td>\n    </tr>\n    <tr>\n      <th>5</th>\n      <td>5</td>\n      <td>Bryan Miranda</td>\n      <td>M</td>\n      <td>9th</td>\n      <td>Huang High School</td>\n      <td>94</td>\n      <td>94</td>\n      <td>0</td>\n      <td>District</td>\n      <td>2917</td>\n      <td>1910635</td>\n    </tr>\n    <tr>\n      <th>12</th>\n      <td>12</td>\n      <td>Brittney Walker</td>\n      <td>F</td>\n      <td>9th</td>\n      <td>Huang High School</td>\n      <td>64</td>\n      <td>79</td>\n      <td>0</td>\n      <td>District</td>\n      <td>2917</td>\n      <td>1910635</td>\n    </tr>\n    <tr>\n      <th>13</th>\n      <td>13</td>\n      <td>William Long</td>\n      <td>M</td>\n      <td>9th</td>\n      <td>Huang High School</td>\n      <td>71</td>\n      <td>79</td>\n      <td>0</td>\n      <td>District</td>\n      <td>2917</td>\n      <td>1910635</td>\n    </tr>\n    <tr>\n      <th>...</th>\n      <td>...</td>\n      <td>...</td>\n      <td>...</td>\n      <td>...</td>\n      <td>...</td>\n      <td>...</td>\n      <td>...</td>\n      <td>...</td>\n      <td>...</td>\n      <td>...</td>\n      <td>...</td>\n    </tr>\n    <tr>\n      <th>39152</th>\n      <td>39152</td>\n      <td>Lori Moore</td>\n      <td>F</td>\n      <td>9th</td>\n      <td>Thomas High School</td>\n      <td>98</td>\n      <td>84</td>\n      <td>14</td>\n      <td>Charter</td>\n      <td>1635</td>\n      <td>1043130</td>\n    </tr>\n    <tr>\n      <th>39153</th>\n      <td>39153</td>\n      <td>William Hubbard</td>\n      <td>M</td>\n      <td>9th</td>\n      <td>Thomas High School</td>\n      <td>80</td>\n      <td>75</td>\n      <td>14</td>\n      <td>Charter</td>\n      <td>1635</td>\n      <td>1043130</td>\n    </tr>\n    <tr>\n      <th>39157</th>\n      <td>39157</td>\n      <td>Kristen Gonzalez</td>\n      <td>F</td>\n      <td>9th</td>\n      <td>Thomas High School</td>\n      <td>79</td>\n      <td>94</td>\n      <td>14</td>\n      <td>Charter</td>\n      <td>1635</td>\n      <td>1043130</td>\n    </tr>\n    <tr>\n      <th>39164</th>\n      <td>39164</td>\n      <td>Joseph Anthony</td>\n      <td>M</td>\n      <td>9th</td>\n      <td>Thomas High School</td>\n      <td>97</td>\n      <td>76</td>\n      <td>14</td>\n      <td>Charter</td>\n      <td>1635</td>\n      <td>1043130</td>\n    </tr>\n    <tr>\n      <th>39167</th>\n      <td>39167</td>\n      <td>Rebecca Tanner</td>\n      <td>F</td>\n      <td>9th</td>\n      <td>Thomas High School</td>\n      <td>73</td>\n      <td>84</td>\n      <td>14</td>\n      <td>Charter</td>\n      <td>1635</td>\n      <td>1043130</td>\n    </tr>\n  </tbody>\n</table>\n<p>11408 rows × 11 columns</p>\n</div>"
     },
     "metadata": {},
     "execution_count": 83
    }
   ],
   "source": [
    "ninth_graders"
   ]
  },
  {
   "cell_type": "code",
   "execution_count": 84,
   "metadata": {
    "scrolled": false
   },
   "outputs": [
    {
     "output_type": "execute_result",
     "data": {
      "text/plain": "       Student ID      student_name gender grade         school_name  \\\n8               8      Michael Roth      M  10th   Huang High School   \n9               9    Matthew Greene      M  10th   Huang High School   \n10             10  Andrew Alexander      M  10th   Huang High School   \n11             11     Daniel Cooper      M  10th   Huang High School   \n14             14      Tammy Hebert      F  10th   Huang High School   \n...           ...               ...    ...   ...                 ...   \n39155       39155       John Brooks      M  10th  Thomas High School   \n39158       39158     Kari Holloway      F  10th  Thomas High School   \n39161       39161       April Reyes      F  10th  Thomas High School   \n39166       39166         Dawn Bell      F  10th  Thomas High School   \n39168       39168      Desiree Kidd      F  10th  Thomas High School   \n\n       reading_score  math_score  School ID      type  size   budget  \n8                 95          87          0  District  2917  1910635  \n9                 96          84          0  District  2917  1910635  \n10                90          70          0  District  2917  1910635  \n11                78          77          0  District  2917  1910635  \n14                85          67          0  District  2917  1910635  \n...              ...         ...        ...       ...   ...      ...  \n39155             92          98         14   Charter  1635  1043130  \n39158             87          90         14   Charter  1635  1043130  \n39161             70          84         14   Charter  1635  1043130  \n39166             95          70         14   Charter  1635  1043130  \n39168             99          90         14   Charter  1635  1043130  \n\n[10168 rows x 11 columns]",
      "text/html": "<div>\n<style scoped>\n    .dataframe tbody tr th:only-of-type {\n        vertical-align: middle;\n    }\n\n    .dataframe tbody tr th {\n        vertical-align: top;\n    }\n\n    .dataframe thead th {\n        text-align: right;\n    }\n</style>\n<table border=\"1\" class=\"dataframe\">\n  <thead>\n    <tr style=\"text-align: right;\">\n      <th></th>\n      <th>Student ID</th>\n      <th>student_name</th>\n      <th>gender</th>\n      <th>grade</th>\n      <th>school_name</th>\n      <th>reading_score</th>\n      <th>math_score</th>\n      <th>School ID</th>\n      <th>type</th>\n      <th>size</th>\n      <th>budget</th>\n    </tr>\n  </thead>\n  <tbody>\n    <tr>\n      <th>8</th>\n      <td>8</td>\n      <td>Michael Roth</td>\n      <td>M</td>\n      <td>10th</td>\n      <td>Huang High School</td>\n      <td>95</td>\n      <td>87</td>\n      <td>0</td>\n      <td>District</td>\n      <td>2917</td>\n      <td>1910635</td>\n    </tr>\n    <tr>\n      <th>9</th>\n      <td>9</td>\n      <td>Matthew Greene</td>\n      <td>M</td>\n      <td>10th</td>\n      <td>Huang High School</td>\n      <td>96</td>\n      <td>84</td>\n      <td>0</td>\n      <td>District</td>\n      <td>2917</td>\n      <td>1910635</td>\n    </tr>\n    <tr>\n      <th>10</th>\n      <td>10</td>\n      <td>Andrew Alexander</td>\n      <td>M</td>\n      <td>10th</td>\n      <td>Huang High School</td>\n      <td>90</td>\n      <td>70</td>\n      <td>0</td>\n      <td>District</td>\n      <td>2917</td>\n      <td>1910635</td>\n    </tr>\n    <tr>\n      <th>11</th>\n      <td>11</td>\n      <td>Daniel Cooper</td>\n      <td>M</td>\n      <td>10th</td>\n      <td>Huang High School</td>\n      <td>78</td>\n      <td>77</td>\n      <td>0</td>\n      <td>District</td>\n      <td>2917</td>\n      <td>1910635</td>\n    </tr>\n    <tr>\n      <th>14</th>\n      <td>14</td>\n      <td>Tammy Hebert</td>\n      <td>F</td>\n      <td>10th</td>\n      <td>Huang High School</td>\n      <td>85</td>\n      <td>67</td>\n      <td>0</td>\n      <td>District</td>\n      <td>2917</td>\n      <td>1910635</td>\n    </tr>\n    <tr>\n      <th>...</th>\n      <td>...</td>\n      <td>...</td>\n      <td>...</td>\n      <td>...</td>\n      <td>...</td>\n      <td>...</td>\n      <td>...</td>\n      <td>...</td>\n      <td>...</td>\n      <td>...</td>\n      <td>...</td>\n    </tr>\n    <tr>\n      <th>39155</th>\n      <td>39155</td>\n      <td>John Brooks</td>\n      <td>M</td>\n      <td>10th</td>\n      <td>Thomas High School</td>\n      <td>92</td>\n      <td>98</td>\n      <td>14</td>\n      <td>Charter</td>\n      <td>1635</td>\n      <td>1043130</td>\n    </tr>\n    <tr>\n      <th>39158</th>\n      <td>39158</td>\n      <td>Kari Holloway</td>\n      <td>F</td>\n      <td>10th</td>\n      <td>Thomas High School</td>\n      <td>87</td>\n      <td>90</td>\n      <td>14</td>\n      <td>Charter</td>\n      <td>1635</td>\n      <td>1043130</td>\n    </tr>\n    <tr>\n      <th>39161</th>\n      <td>39161</td>\n      <td>April Reyes</td>\n      <td>F</td>\n      <td>10th</td>\n      <td>Thomas High School</td>\n      <td>70</td>\n      <td>84</td>\n      <td>14</td>\n      <td>Charter</td>\n      <td>1635</td>\n      <td>1043130</td>\n    </tr>\n    <tr>\n      <th>39166</th>\n      <td>39166</td>\n      <td>Dawn Bell</td>\n      <td>F</td>\n      <td>10th</td>\n      <td>Thomas High School</td>\n      <td>95</td>\n      <td>70</td>\n      <td>14</td>\n      <td>Charter</td>\n      <td>1635</td>\n      <td>1043130</td>\n    </tr>\n    <tr>\n      <th>39168</th>\n      <td>39168</td>\n      <td>Desiree Kidd</td>\n      <td>F</td>\n      <td>10th</td>\n      <td>Thomas High School</td>\n      <td>99</td>\n      <td>90</td>\n      <td>14</td>\n      <td>Charter</td>\n      <td>1635</td>\n      <td>1043130</td>\n    </tr>\n  </tbody>\n</table>\n<p>10168 rows × 11 columns</p>\n</div>"
     },
     "metadata": {},
     "execution_count": 84
    }
   ],
   "source": [
    "tenth_graders"
   ]
  },
  {
   "cell_type": "code",
   "execution_count": 85,
   "metadata": {},
   "outputs": [
    {
     "output_type": "execute_result",
     "data": {
      "text/plain": "       Student ID         student_name gender grade         school_name  \\\n6               6        Sheena Carter      F  11th   Huang High School   \n15             15        Jordan Carson      M  11th   Huang High School   \n22             22     Kimberly Stewart      F  11th   Huang High School   \n24             24     Chelsea Griffith      F  11th   Huang High School   \n28             28          Kelly James      F  11th   Huang High School   \n...           ...                  ...    ...   ...                 ...   \n39156       39156  Stephanie Contreras      F  11th  Thomas High School   \n39159       39159     Kimberly Cabrera      F  11th  Thomas High School   \n39160       39160         Katie Weaver      F  11th  Thomas High School   \n39163       39163           John Reese      M  11th  Thomas High School   \n39169       39169      Carolyn Jackson      F  11th  Thomas High School   \n\n       reading_score  math_score  School ID      type  size   budget  \n6                 82          80          0  District  2917  1910635  \n15                94          88          0  District  2917  1910635  \n22                99          84          0  District  2917  1910635  \n24                85          73          0  District  2917  1910635  \n28                73          55          0  District  2917  1910635  \n...              ...         ...        ...       ...   ...      ...  \n39156             79          95         14   Charter  1635  1043130  \n39159             85          72         14   Charter  1635  1043130  \n39160             89          86         14   Charter  1635  1043130  \n39163             90          75         14   Charter  1635  1043130  \n39169             95          75         14   Charter  1635  1043130  \n\n[9695 rows x 11 columns]",
      "text/html": "<div>\n<style scoped>\n    .dataframe tbody tr th:only-of-type {\n        vertical-align: middle;\n    }\n\n    .dataframe tbody tr th {\n        vertical-align: top;\n    }\n\n    .dataframe thead th {\n        text-align: right;\n    }\n</style>\n<table border=\"1\" class=\"dataframe\">\n  <thead>\n    <tr style=\"text-align: right;\">\n      <th></th>\n      <th>Student ID</th>\n      <th>student_name</th>\n      <th>gender</th>\n      <th>grade</th>\n      <th>school_name</th>\n      <th>reading_score</th>\n      <th>math_score</th>\n      <th>School ID</th>\n      <th>type</th>\n      <th>size</th>\n      <th>budget</th>\n    </tr>\n  </thead>\n  <tbody>\n    <tr>\n      <th>6</th>\n      <td>6</td>\n      <td>Sheena Carter</td>\n      <td>F</td>\n      <td>11th</td>\n      <td>Huang High School</td>\n      <td>82</td>\n      <td>80</td>\n      <td>0</td>\n      <td>District</td>\n      <td>2917</td>\n      <td>1910635</td>\n    </tr>\n    <tr>\n      <th>15</th>\n      <td>15</td>\n      <td>Jordan Carson</td>\n      <td>M</td>\n      <td>11th</td>\n      <td>Huang High School</td>\n      <td>94</td>\n      <td>88</td>\n      <td>0</td>\n      <td>District</td>\n      <td>2917</td>\n      <td>1910635</td>\n    </tr>\n    <tr>\n      <th>22</th>\n      <td>22</td>\n      <td>Kimberly Stewart</td>\n      <td>F</td>\n      <td>11th</td>\n      <td>Huang High School</td>\n      <td>99</td>\n      <td>84</td>\n      <td>0</td>\n      <td>District</td>\n      <td>2917</td>\n      <td>1910635</td>\n    </tr>\n    <tr>\n      <th>24</th>\n      <td>24</td>\n      <td>Chelsea Griffith</td>\n      <td>F</td>\n      <td>11th</td>\n      <td>Huang High School</td>\n      <td>85</td>\n      <td>73</td>\n      <td>0</td>\n      <td>District</td>\n      <td>2917</td>\n      <td>1910635</td>\n    </tr>\n    <tr>\n      <th>28</th>\n      <td>28</td>\n      <td>Kelly James</td>\n      <td>F</td>\n      <td>11th</td>\n      <td>Huang High School</td>\n      <td>73</td>\n      <td>55</td>\n      <td>0</td>\n      <td>District</td>\n      <td>2917</td>\n      <td>1910635</td>\n    </tr>\n    <tr>\n      <th>...</th>\n      <td>...</td>\n      <td>...</td>\n      <td>...</td>\n      <td>...</td>\n      <td>...</td>\n      <td>...</td>\n      <td>...</td>\n      <td>...</td>\n      <td>...</td>\n      <td>...</td>\n      <td>...</td>\n    </tr>\n    <tr>\n      <th>39156</th>\n      <td>39156</td>\n      <td>Stephanie Contreras</td>\n      <td>F</td>\n      <td>11th</td>\n      <td>Thomas High School</td>\n      <td>79</td>\n      <td>95</td>\n      <td>14</td>\n      <td>Charter</td>\n      <td>1635</td>\n      <td>1043130</td>\n    </tr>\n    <tr>\n      <th>39159</th>\n      <td>39159</td>\n      <td>Kimberly Cabrera</td>\n      <td>F</td>\n      <td>11th</td>\n      <td>Thomas High School</td>\n      <td>85</td>\n      <td>72</td>\n      <td>14</td>\n      <td>Charter</td>\n      <td>1635</td>\n      <td>1043130</td>\n    </tr>\n    <tr>\n      <th>39160</th>\n      <td>39160</td>\n      <td>Katie Weaver</td>\n      <td>F</td>\n      <td>11th</td>\n      <td>Thomas High School</td>\n      <td>89</td>\n      <td>86</td>\n      <td>14</td>\n      <td>Charter</td>\n      <td>1635</td>\n      <td>1043130</td>\n    </tr>\n    <tr>\n      <th>39163</th>\n      <td>39163</td>\n      <td>John Reese</td>\n      <td>M</td>\n      <td>11th</td>\n      <td>Thomas High School</td>\n      <td>90</td>\n      <td>75</td>\n      <td>14</td>\n      <td>Charter</td>\n      <td>1635</td>\n      <td>1043130</td>\n    </tr>\n    <tr>\n      <th>39169</th>\n      <td>39169</td>\n      <td>Carolyn Jackson</td>\n      <td>F</td>\n      <td>11th</td>\n      <td>Thomas High School</td>\n      <td>95</td>\n      <td>75</td>\n      <td>14</td>\n      <td>Charter</td>\n      <td>1635</td>\n      <td>1043130</td>\n    </tr>\n  </tbody>\n</table>\n<p>9695 rows × 11 columns</p>\n</div>"
     },
     "metadata": {},
     "execution_count": 85
    }
   ],
   "source": [
    "eleventh_graders"
   ]
  },
  {
   "cell_type": "code",
   "execution_count": 86,
   "metadata": {
    "scrolled": true
   },
   "outputs": [
    {
     "output_type": "execute_result",
     "data": {
      "text/plain": "       Student ID      student_name gender grade         school_name  \\\n1               1      Victor Smith      M  12th   Huang High School   \n2               2   Kevin Rodriguez      M  12th   Huang High School   \n3               3     Richard Scott      M  12th   Huang High School   \n7               7      Nicole Baker      F  12th   Huang High School   \n29             29      Nicole Brown      F  12th   Huang High School   \n...           ...               ...    ...   ...                 ...   \n39137       39137   Victoria Bailey      F  12th  Thomas High School   \n39144       39144  Cristian Webster      M  12th  Thomas High School   \n39154       39154   Bradley Johnson      M  12th  Thomas High School   \n39162       39162       Derek Weeks      M  12th  Thomas High School   \n39165       39165      Donna Howard      F  12th  Thomas High School   \n\n       reading_score  math_score  School ID      type  size   budget  \n1                 94          61          0  District  2917  1910635  \n2                 90          60          0  District  2917  1910635  \n3                 67          58          0  District  2917  1910635  \n7                 96          69          0  District  2917  1910635  \n29                90          88          0  District  2917  1910635  \n...              ...         ...        ...       ...   ...      ...  \n39137             75          70         14   Charter  1635  1043130  \n39144             77          87         14   Charter  1635  1043130  \n39154             91          71         14   Charter  1635  1043130  \n39162             94          77         14   Charter  1635  1043130  \n39165             99          90         14   Charter  1635  1043130  \n\n[7899 rows x 11 columns]",
      "text/html": "<div>\n<style scoped>\n    .dataframe tbody tr th:only-of-type {\n        vertical-align: middle;\n    }\n\n    .dataframe tbody tr th {\n        vertical-align: top;\n    }\n\n    .dataframe thead th {\n        text-align: right;\n    }\n</style>\n<table border=\"1\" class=\"dataframe\">\n  <thead>\n    <tr style=\"text-align: right;\">\n      <th></th>\n      <th>Student ID</th>\n      <th>student_name</th>\n      <th>gender</th>\n      <th>grade</th>\n      <th>school_name</th>\n      <th>reading_score</th>\n      <th>math_score</th>\n      <th>School ID</th>\n      <th>type</th>\n      <th>size</th>\n      <th>budget</th>\n    </tr>\n  </thead>\n  <tbody>\n    <tr>\n      <th>1</th>\n      <td>1</td>\n      <td>Victor Smith</td>\n      <td>M</td>\n      <td>12th</td>\n      <td>Huang High School</td>\n      <td>94</td>\n      <td>61</td>\n      <td>0</td>\n      <td>District</td>\n      <td>2917</td>\n      <td>1910635</td>\n    </tr>\n    <tr>\n      <th>2</th>\n      <td>2</td>\n      <td>Kevin Rodriguez</td>\n      <td>M</td>\n      <td>12th</td>\n      <td>Huang High School</td>\n      <td>90</td>\n      <td>60</td>\n      <td>0</td>\n      <td>District</td>\n      <td>2917</td>\n      <td>1910635</td>\n    </tr>\n    <tr>\n      <th>3</th>\n      <td>3</td>\n      <td>Richard Scott</td>\n      <td>M</td>\n      <td>12th</td>\n      <td>Huang High School</td>\n      <td>67</td>\n      <td>58</td>\n      <td>0</td>\n      <td>District</td>\n      <td>2917</td>\n      <td>1910635</td>\n    </tr>\n    <tr>\n      <th>7</th>\n      <td>7</td>\n      <td>Nicole Baker</td>\n      <td>F</td>\n      <td>12th</td>\n      <td>Huang High School</td>\n      <td>96</td>\n      <td>69</td>\n      <td>0</td>\n      <td>District</td>\n      <td>2917</td>\n      <td>1910635</td>\n    </tr>\n    <tr>\n      <th>29</th>\n      <td>29</td>\n      <td>Nicole Brown</td>\n      <td>F</td>\n      <td>12th</td>\n      <td>Huang High School</td>\n      <td>90</td>\n      <td>88</td>\n      <td>0</td>\n      <td>District</td>\n      <td>2917</td>\n      <td>1910635</td>\n    </tr>\n    <tr>\n      <th>...</th>\n      <td>...</td>\n      <td>...</td>\n      <td>...</td>\n      <td>...</td>\n      <td>...</td>\n      <td>...</td>\n      <td>...</td>\n      <td>...</td>\n      <td>...</td>\n      <td>...</td>\n      <td>...</td>\n    </tr>\n    <tr>\n      <th>39137</th>\n      <td>39137</td>\n      <td>Victoria Bailey</td>\n      <td>F</td>\n      <td>12th</td>\n      <td>Thomas High School</td>\n      <td>75</td>\n      <td>70</td>\n      <td>14</td>\n      <td>Charter</td>\n      <td>1635</td>\n      <td>1043130</td>\n    </tr>\n    <tr>\n      <th>39144</th>\n      <td>39144</td>\n      <td>Cristian Webster</td>\n      <td>M</td>\n      <td>12th</td>\n      <td>Thomas High School</td>\n      <td>77</td>\n      <td>87</td>\n      <td>14</td>\n      <td>Charter</td>\n      <td>1635</td>\n      <td>1043130</td>\n    </tr>\n    <tr>\n      <th>39154</th>\n      <td>39154</td>\n      <td>Bradley Johnson</td>\n      <td>M</td>\n      <td>12th</td>\n      <td>Thomas High School</td>\n      <td>91</td>\n      <td>71</td>\n      <td>14</td>\n      <td>Charter</td>\n      <td>1635</td>\n      <td>1043130</td>\n    </tr>\n    <tr>\n      <th>39162</th>\n      <td>39162</td>\n      <td>Derek Weeks</td>\n      <td>M</td>\n      <td>12th</td>\n      <td>Thomas High School</td>\n      <td>94</td>\n      <td>77</td>\n      <td>14</td>\n      <td>Charter</td>\n      <td>1635</td>\n      <td>1043130</td>\n    </tr>\n    <tr>\n      <th>39165</th>\n      <td>39165</td>\n      <td>Donna Howard</td>\n      <td>F</td>\n      <td>12th</td>\n      <td>Thomas High School</td>\n      <td>99</td>\n      <td>90</td>\n      <td>14</td>\n      <td>Charter</td>\n      <td>1635</td>\n      <td>1043130</td>\n    </tr>\n  </tbody>\n</table>\n<p>7899 rows × 11 columns</p>\n</div>"
     },
     "metadata": {},
     "execution_count": 86
    }
   ],
   "source": [
    "twelfth_graders"
   ]
  },
  {
   "cell_type": "code",
   "execution_count": 87,
   "metadata": {},
   "outputs": [],
   "source": [
    "# Group each school Series by the school name for the average math score.\n",
    "ninth_grade_math_scores = ninth_graders.groupby([\"school_name\"]).mean()[\"math_score\"]\n",
    "\n",
    "tenth_grade_math_scores = tenth_graders.groupby([\"school_name\"]).mean()[\"math_score\"]\n",
    "\n",
    "eleventh_grade_math_scores = eleventh_graders.groupby([\"school_name\"]).mean()[\"math_score\"]\n",
    "\n",
    "twelfth_grade_math_scores = twelfth_graders.groupby([\"school_name\"]).mean()[\"math_score\"]"
   ]
  },
  {
   "cell_type": "code",
   "execution_count": 88,
   "metadata": {
    "scrolled": true
   },
   "outputs": [
    {
     "output_type": "execute_result",
     "data": {
      "text/plain": "school_name\nBailey High School       77.083676\nCabrera High School      83.094697\nFigueroa High School     76.403037\nFord High School         77.361345\nGriffin High School      82.044010\nHernandez High School    77.438495\nHolden High School       83.787402\nHuang High School        77.027251\nJohnson High School      77.187857\nPena High School         83.625455\nRodriguez High School    76.859966\nShelton High School      83.420755\nThomas High School       83.590022\nWilson High School       83.085578\nWright High School       83.264706\nName: math_score, dtype: float64"
     },
     "metadata": {},
     "execution_count": 88
    }
   ],
   "source": [
    "ninth_grade_math_scores"
   ]
  },
  {
   "cell_type": "code",
   "execution_count": 89,
   "metadata": {},
   "outputs": [
    {
     "output_type": "execute_result",
     "data": {
      "text/plain": "school_name\nBailey High School       76.996772\nCabrera High School      83.154506\nFigueroa High School     76.539974\nFord High School         77.672316\nGriffin High School      84.229064\nHernandez High School    77.337408\nHolden High School       83.429825\nHuang High School        75.908735\nJohnson High School      76.691117\nPena High School         83.372000\nRodriguez High School    76.612500\nShelton High School      82.917411\nThomas High School       83.087886\nWilson High School       83.724422\nWright High School       84.010288\nName: math_score, dtype: float64"
     },
     "metadata": {},
     "execution_count": 89
    }
   ],
   "source": [
    "tenth_grade_math_scores"
   ]
  },
  {
   "cell_type": "code",
   "execution_count": 90,
   "metadata": {},
   "outputs": [
    {
     "output_type": "execute_result",
     "data": {
      "text/plain": "school_name\nBailey High School       77.515588\nCabrera High School      82.765560\nFigueroa High School     76.884344\nFord High School         76.918058\nGriffin High School      83.842105\nHernandez High School    77.136029\nHolden High School       85.000000\nHuang High School        76.446602\nJohnson High School      77.491653\nPena High School         84.328125\nRodriguez High School    76.395626\nShelton High School      83.383495\nThomas High School       83.498795\nWilson High School       83.195326\nWright High School       83.836782\nName: math_score, dtype: float64"
     },
     "metadata": {},
     "execution_count": 90
    }
   ],
   "source": [
    "eleventh_grade_math_scores"
   ]
  },
  {
   "cell_type": "code",
   "execution_count": 91,
   "metadata": {},
   "outputs": [
    {
     "output_type": "execute_result",
     "data": {
      "text/plain": "school_name\nBailey High School       76.492218\nCabrera High School      83.277487\nFigueroa High School     77.151369\nFord High School         76.179963\nGriffin High School      83.356164\nHernandez High School    77.186567\nHolden High School       82.855422\nHuang High School        77.225641\nJohnson High School      76.863248\nPena High School         84.121547\nRodriguez High School    77.690748\nShelton High School      83.778976\nThomas High School       83.497041\nWilson High School       83.035794\nWright High School       83.644986\nName: math_score, dtype: float64"
     },
     "metadata": {},
     "execution_count": 91
    }
   ],
   "source": [
    "twelfth_grade_math_scores"
   ]
  },
  {
   "cell_type": "code",
   "execution_count": 92,
   "metadata": {},
   "outputs": [],
   "source": [
    "# Group each school Series by the school name for the average reading score.\n",
    "ninth_grade_reading_scores = ninth_graders.groupby([\"school_name\"]).mean()[\"reading_score\"]\n",
    "\n",
    "tenth_grade_reading_scores = tenth_graders.groupby([\"school_name\"]).mean()[\"reading_score\"]\n",
    "\n",
    "eleventh_grade_reading_scores = eleventh_graders.groupby([\"school_name\"]).mean()[\"reading_score\"]\n",
    "\n",
    "twelfth_grade_reading_scores = twelfth_graders.groupby([\"school_name\"]).mean()[\"reading_score\"]"
   ]
  },
  {
   "cell_type": "code",
   "execution_count": 93,
   "metadata": {},
   "outputs": [
    {
     "output_type": "execute_result",
     "data": {
      "text/plain": "school_name\nBailey High School       81.303155\nCabrera High School      83.676136\nFigueroa High School     81.198598\nFord High School         80.632653\nGriffin High School      83.369193\nHernandez High School    80.866860\nHolden High School       83.677165\nHuang High School        81.290284\nJohnson High School      81.260714\nPena High School         83.807273\nRodriguez High School    80.993127\nShelton High School      84.122642\nThomas High School       83.728850\nWilson High School       83.939778\nWright High School       83.833333\nName: reading_score, dtype: float64"
     },
     "metadata": {},
     "execution_count": 93
    }
   ],
   "source": [
    "ninth_grade_reading_scores"
   ]
  },
  {
   "cell_type": "code",
   "execution_count": 94,
   "metadata": {},
   "outputs": [
    {
     "output_type": "execute_result",
     "data": {
      "text/plain": "school_name\nBailey High School       80.907183\nCabrera High School      84.253219\nFigueroa High School     81.408912\nFord High School         81.262712\nGriffin High School      83.706897\nHernandez High School    80.660147\nHolden High School       83.324561\nHuang High School        81.512386\nJohnson High School      80.773431\nPena High School         83.612000\nRodriguez High School    80.629808\nShelton High School      83.441964\nThomas High School       84.254157\nWilson High School       84.021452\nWright High School       83.812757\nName: reading_score, dtype: float64"
     },
     "metadata": {},
     "execution_count": 94
    }
   ],
   "source": [
    "tenth_grade_reading_scores"
   ]
  },
  {
   "cell_type": "code",
   "execution_count": 95,
   "metadata": {},
   "outputs": [
    {
     "output_type": "execute_result",
     "data": {
      "text/plain": "school_name\nBailey High School       80.945643\nCabrera High School      83.788382\nFigueroa High School     80.640339\nFord High School         80.403642\nGriffin High School      84.288089\nHernandez High School    81.396140\nHolden High School       83.815534\nHuang High School        81.417476\nJohnson High School      80.616027\nPena High School         84.335938\nRodriguez High School    80.864811\nShelton High School      84.373786\nThomas High School       83.585542\nWilson High School       83.764608\nWright High School       84.156322\nName: reading_score, dtype: float64"
     },
     "metadata": {},
     "execution_count": 95
    }
   ],
   "source": [
    "eleventh_grade_reading_scores"
   ]
  },
  {
   "cell_type": "code",
   "execution_count": 96,
   "metadata": {},
   "outputs": [
    {
     "output_type": "execute_result",
     "data": {
      "text/plain": "school_name\nBailey High School       80.912451\nCabrera High School      84.287958\nFigueroa High School     81.384863\nFord High School         80.662338\nGriffin High School      84.013699\nHernandez High School    80.857143\nHolden High School       84.698795\nHuang High School        80.305983\nJohnson High School      81.227564\nPena High School         84.591160\nRodriguez High School    80.376426\nShelton High School      82.781671\nThomas High School       83.831361\nWilson High School       84.317673\nWright High School       84.073171\nName: reading_score, dtype: float64"
     },
     "metadata": {},
     "execution_count": 96
    }
   ],
   "source": [
    "twelfth_grade_reading_scores"
   ]
  },
  {
   "cell_type": "code",
   "execution_count": 97,
   "metadata": {},
   "outputs": [
    {
     "output_type": "execute_result",
     "data": {
      "text/plain": "                            9th       10th       11th       12th\nschool_name                                                     \nBailey High School    77.083676  76.996772  77.515588  76.492218\nCabrera High School   83.094697  83.154506  82.765560  83.277487\nFigueroa High School  76.403037  76.539974  76.884344  77.151369\nFord High School      77.361345  77.672316  76.918058  76.179963\nGriffin High School   82.044010  84.229064  83.842105  83.356164",
      "text/html": "<div>\n<style scoped>\n    .dataframe tbody tr th:only-of-type {\n        vertical-align: middle;\n    }\n\n    .dataframe tbody tr th {\n        vertical-align: top;\n    }\n\n    .dataframe thead th {\n        text-align: right;\n    }\n</style>\n<table border=\"1\" class=\"dataframe\">\n  <thead>\n    <tr style=\"text-align: right;\">\n      <th></th>\n      <th>9th</th>\n      <th>10th</th>\n      <th>11th</th>\n      <th>12th</th>\n    </tr>\n    <tr>\n      <th>school_name</th>\n      <th></th>\n      <th></th>\n      <th></th>\n      <th></th>\n    </tr>\n  </thead>\n  <tbody>\n    <tr>\n      <th>Bailey High School</th>\n      <td>77.083676</td>\n      <td>76.996772</td>\n      <td>77.515588</td>\n      <td>76.492218</td>\n    </tr>\n    <tr>\n      <th>Cabrera High School</th>\n      <td>83.094697</td>\n      <td>83.154506</td>\n      <td>82.765560</td>\n      <td>83.277487</td>\n    </tr>\n    <tr>\n      <th>Figueroa High School</th>\n      <td>76.403037</td>\n      <td>76.539974</td>\n      <td>76.884344</td>\n      <td>77.151369</td>\n    </tr>\n    <tr>\n      <th>Ford High School</th>\n      <td>77.361345</td>\n      <td>77.672316</td>\n      <td>76.918058</td>\n      <td>76.179963</td>\n    </tr>\n    <tr>\n      <th>Griffin High School</th>\n      <td>82.044010</td>\n      <td>84.229064</td>\n      <td>83.842105</td>\n      <td>83.356164</td>\n    </tr>\n  </tbody>\n</table>\n</div>"
     },
     "metadata": {},
     "execution_count": 97
    }
   ],
   "source": [
    "# Combine each Series for average math scores by school into single DataFrame.\n",
    "math_scores_by_grade = pd.DataFrame({\n",
    "               \"9th\": ninth_grade_math_scores,\n",
    "               \"10th\": tenth_grade_math_scores,\n",
    "               \"11th\": eleventh_grade_math_scores,\n",
    "               \"12th\": twelfth_grade_math_scores})\n",
    "\n",
    "math_scores_by_grade.head()"
   ]
  },
  {
   "cell_type": "code",
   "execution_count": 98,
   "metadata": {},
   "outputs": [
    {
     "output_type": "execute_result",
     "data": {
      "text/plain": "                            9th       10th       11th       12th\nschool_name                                                     \nBailey High School    81.303155  80.907183  80.945643  80.912451\nCabrera High School   83.676136  84.253219  83.788382  84.287958\nFigueroa High School  81.198598  81.408912  80.640339  81.384863\nFord High School      80.632653  81.262712  80.403642  80.662338\nGriffin High School   83.369193  83.706897  84.288089  84.013699",
      "text/html": "<div>\n<style scoped>\n    .dataframe tbody tr th:only-of-type {\n        vertical-align: middle;\n    }\n\n    .dataframe tbody tr th {\n        vertical-align: top;\n    }\n\n    .dataframe thead th {\n        text-align: right;\n    }\n</style>\n<table border=\"1\" class=\"dataframe\">\n  <thead>\n    <tr style=\"text-align: right;\">\n      <th></th>\n      <th>9th</th>\n      <th>10th</th>\n      <th>11th</th>\n      <th>12th</th>\n    </tr>\n    <tr>\n      <th>school_name</th>\n      <th></th>\n      <th></th>\n      <th></th>\n      <th></th>\n    </tr>\n  </thead>\n  <tbody>\n    <tr>\n      <th>Bailey High School</th>\n      <td>81.303155</td>\n      <td>80.907183</td>\n      <td>80.945643</td>\n      <td>80.912451</td>\n    </tr>\n    <tr>\n      <th>Cabrera High School</th>\n      <td>83.676136</td>\n      <td>84.253219</td>\n      <td>83.788382</td>\n      <td>84.287958</td>\n    </tr>\n    <tr>\n      <th>Figueroa High School</th>\n      <td>81.198598</td>\n      <td>81.408912</td>\n      <td>80.640339</td>\n      <td>81.384863</td>\n    </tr>\n    <tr>\n      <th>Ford High School</th>\n      <td>80.632653</td>\n      <td>81.262712</td>\n      <td>80.403642</td>\n      <td>80.662338</td>\n    </tr>\n    <tr>\n      <th>Griffin High School</th>\n      <td>83.369193</td>\n      <td>83.706897</td>\n      <td>84.288089</td>\n      <td>84.013699</td>\n    </tr>\n  </tbody>\n</table>\n</div>"
     },
     "metadata": {},
     "execution_count": 98
    }
   ],
   "source": [
    "# Combine each Series for average reading scores by school into single DataFrame.\n",
    "reading_scores_by_grade = pd.DataFrame({\n",
    "              \"9th\": ninth_grade_reading_scores,\n",
    "              \"10th\": tenth_grade_reading_scores,\n",
    "              \"11th\": eleventh_grade_reading_scores,\n",
    "              \"12th\": twelfth_grade_reading_scores})\n",
    "\n",
    "reading_scores_by_grade.head()"
   ]
  },
  {
   "cell_type": "code",
   "execution_count": 99,
   "metadata": {},
   "outputs": [
    {
     "output_type": "execute_result",
     "data": {
      "text/plain": "                       9th  10th  11th  12th\nBailey High School    77.1  77.0  77.5  76.5\nCabrera High School   83.1  83.2  82.8  83.3\nFigueroa High School  76.4  76.5  76.9  77.2\nFord High School      77.4  77.7  76.9  76.2\nGriffin High School   82.0  84.2  83.8  83.4",
      "text/html": "<div>\n<style scoped>\n    .dataframe tbody tr th:only-of-type {\n        vertical-align: middle;\n    }\n\n    .dataframe tbody tr th {\n        vertical-align: top;\n    }\n\n    .dataframe thead th {\n        text-align: right;\n    }\n</style>\n<table border=\"1\" class=\"dataframe\">\n  <thead>\n    <tr style=\"text-align: right;\">\n      <th></th>\n      <th>9th</th>\n      <th>10th</th>\n      <th>11th</th>\n      <th>12th</th>\n    </tr>\n  </thead>\n  <tbody>\n    <tr>\n      <th>Bailey High School</th>\n      <td>77.1</td>\n      <td>77.0</td>\n      <td>77.5</td>\n      <td>76.5</td>\n    </tr>\n    <tr>\n      <th>Cabrera High School</th>\n      <td>83.1</td>\n      <td>83.2</td>\n      <td>82.8</td>\n      <td>83.3</td>\n    </tr>\n    <tr>\n      <th>Figueroa High School</th>\n      <td>76.4</td>\n      <td>76.5</td>\n      <td>76.9</td>\n      <td>77.2</td>\n    </tr>\n    <tr>\n      <th>Ford High School</th>\n      <td>77.4</td>\n      <td>77.7</td>\n      <td>76.9</td>\n      <td>76.2</td>\n    </tr>\n    <tr>\n      <th>Griffin High School</th>\n      <td>82.0</td>\n      <td>84.2</td>\n      <td>83.8</td>\n      <td>83.4</td>\n    </tr>\n  </tbody>\n</table>\n</div>"
     },
     "metadata": {},
     "execution_count": 99
    }
   ],
   "source": [
    "  # Format each grade column.\n",
    "  math_scores_by_grade[\"9th\"] = math_scores_by_grade[\"9th\"].map(\"{:.1f}\".format)\n",
    "\n",
    "  math_scores_by_grade[\"10th\"] = math_scores_by_grade[\"10th\"].map(\"{:.1f}\".format)\n",
    "\n",
    "  math_scores_by_grade[\"11th\"] = math_scores_by_grade[\"11th\"].map(\"{:.1f}\".format)\n",
    "\n",
    "  math_scores_by_grade[\"12th\"] = math_scores_by_grade[\"12th\"].map(\"{:.1f}\".format)\n",
    "\n",
    "  # Make sure the columns are in the correct order.\n",
    "  math_scores_by_grade = math_scores_by_grade[\n",
    "                 [\"9th\", \"10th\", \"11th\", \"12th\"]]\n",
    "\n",
    "  # Remove the index name.\n",
    "  math_scores_by_grade.index.name = None\n",
    "  # Display the DataFrame.\n",
    "  math_scores_by_grade.head()"
   ]
  },
  {
   "cell_type": "code",
   "execution_count": 100,
   "metadata": {},
   "outputs": [
    {
     "output_type": "execute_result",
     "data": {
      "text/plain": "                       9th  10th  11th  12th\nBailey High School    81.3  80.9  80.9  80.9\nCabrera High School   83.7  84.3  83.8  84.3\nFigueroa High School  81.2  81.4  80.6  81.4\nFord High School      80.6  81.3  80.4  80.7\nGriffin High School   83.4  83.7  84.3  84.0",
      "text/html": "<div>\n<style scoped>\n    .dataframe tbody tr th:only-of-type {\n        vertical-align: middle;\n    }\n\n    .dataframe tbody tr th {\n        vertical-align: top;\n    }\n\n    .dataframe thead th {\n        text-align: right;\n    }\n</style>\n<table border=\"1\" class=\"dataframe\">\n  <thead>\n    <tr style=\"text-align: right;\">\n      <th></th>\n      <th>9th</th>\n      <th>10th</th>\n      <th>11th</th>\n      <th>12th</th>\n    </tr>\n  </thead>\n  <tbody>\n    <tr>\n      <th>Bailey High School</th>\n      <td>81.3</td>\n      <td>80.9</td>\n      <td>80.9</td>\n      <td>80.9</td>\n    </tr>\n    <tr>\n      <th>Cabrera High School</th>\n      <td>83.7</td>\n      <td>84.3</td>\n      <td>83.8</td>\n      <td>84.3</td>\n    </tr>\n    <tr>\n      <th>Figueroa High School</th>\n      <td>81.2</td>\n      <td>81.4</td>\n      <td>80.6</td>\n      <td>81.4</td>\n    </tr>\n    <tr>\n      <th>Ford High School</th>\n      <td>80.6</td>\n      <td>81.3</td>\n      <td>80.4</td>\n      <td>80.7</td>\n    </tr>\n    <tr>\n      <th>Griffin High School</th>\n      <td>83.4</td>\n      <td>83.7</td>\n      <td>84.3</td>\n      <td>84.0</td>\n    </tr>\n  </tbody>\n</table>\n</div>"
     },
     "metadata": {},
     "execution_count": 100
    }
   ],
   "source": [
    "  # Format each grade column.\n",
    "  reading_scores_by_grade[\"9th\"] = reading_scores_by_grade[\"9th\"].map(\"{:,.1f}\".format)\n",
    "\n",
    "  reading_scores_by_grade[\"10th\"] = reading_scores_by_grade[\"10th\"].map(\"{:,.1f}\".format)\n",
    "\n",
    "  reading_scores_by_grade[\"11th\"] = reading_scores_by_grade[\"11th\"].map(\"{:,.1f}\".format)\n",
    "\n",
    "  reading_scores_by_grade[\"12th\"] = reading_scores_by_grade[\"12th\"].map(\"{:,.1f}\".format)\n",
    "\n",
    "  # Make sure the columns are in the correct order.\n",
    "  reading_scores_by_grade = reading_scores_by_grade[\n",
    "                 [\"9th\", \"10th\", \"11th\", \"12th\"]]\n",
    "\n",
    "  # Remove the index name.\n",
    "  reading_scores_by_grade.index.name = None\n",
    "  # Display the data frame.\n",
    "  reading_scores_by_grade.head()"
   ]
  },
  {
   "cell_type": "code",
   "execution_count": 101,
   "metadata": {},
   "outputs": [
    {
     "output_type": "execute_result",
     "data": {
      "text/plain": "count     15.000000\nmean     620.066667\nstd       28.544368\nmin      578.000000\n25%      591.500000\n50%      628.000000\n75%      641.500000\nmax      655.000000\ndtype: float64"
     },
     "metadata": {},
     "execution_count": 101
    }
   ],
   "source": [
    "# Get the descriptive statistics for the per_school_capita.\n",
    "per_school_capita.describe()"
   ]
  },
  {
   "cell_type": "code",
   "execution_count": 102,
   "metadata": {},
   "outputs": [
    {
     "output_type": "execute_result",
     "data": {
      "text/plain": "Bailey High School       (615, 645]\nCabrera High School        (0, 585]\nFigueroa High School     (615, 645]\nFord High School         (615, 645]\nGriffin High School      (615, 645]\nHernandez High School    (645, 675]\nHolden High School         (0, 585]\nHuang High School        (645, 675]\nJohnson High School      (645, 675]\nPena High School         (585, 615]\nRodriguez High School    (615, 645]\nShelton High School      (585, 615]\nThomas High School       (615, 645]\nWilson High School         (0, 585]\nWright High School         (0, 585]\ndtype: category\nCategories (4, interval[int64]): [(0, 585] < (585, 615] < (615, 645] < (645, 675]]"
     },
     "metadata": {},
     "execution_count": 102
    }
   ],
   "source": [
    "# Cut the per_school_capita into the spending ranges.\n",
    "spending_bins = [0, 585, 615, 645, 675]\n",
    "pd.cut(per_school_capita, spending_bins)"
   ]
  },
  {
   "cell_type": "code",
   "execution_count": 103,
   "metadata": {},
   "outputs": [
    {
     "output_type": "execute_result",
     "data": {
      "text/plain": "(0, 585]      4\n(585, 630]    4\n(630, 645]    4\n(645, 675]    3\ndtype: int64"
     },
     "metadata": {},
     "execution_count": 103
    }
   ],
   "source": [
    "# Cut the per_school_capita into the spending ranges.\n",
    "spending_bins = [0, 585, 630, 645, 675]\n",
    "per_school_capita.groupby(pd.cut(per_school_capita, spending_bins)).count()"
   ]
  },
  {
   "cell_type": "code",
   "execution_count": 104,
   "metadata": {},
   "outputs": [],
   "source": [
    "# Establish the spending bins and group names.\n",
    "spending_bins = [0, 585, 630, 645, 675]\n",
    "group_names = [\"<$584\", \"$585-629\", \"$630-644\", \"$645-675\"]"
   ]
  },
  {
   "cell_type": "code",
   "execution_count": 105,
   "metadata": {},
   "outputs": [
    {
     "output_type": "execute_result",
     "data": {
      "text/plain": "                      School Type  Total Students Total School Budget  \\\nBailey High School       District            4976       $3,124,928.00   \nCabrera High School       Charter            1858       $1,081,356.00   \nFigueroa High School     District            2949       $1,884,411.00   \nFord High School         District            2739       $1,763,916.00   \nGriffin High School       Charter            1468         $917,500.00   \nHernandez High School    District            4635       $3,022,020.00   \nHolden High School        Charter             427         $248,087.00   \nHuang High School        District            2917       $1,910,635.00   \nJohnson High School      District            4761       $3,094,650.00   \nPena High School          Charter             962         $585,858.00   \nRodriguez High School    District            3999       $2,547,363.00   \nShelton High School       Charter            1761       $1,056,600.00   \nThomas High School        Charter            1635       $1,043,130.00   \nWilson High School        Charter            2283       $1,319,574.00   \nWright High School        Charter            1800       $1,049,400.00   \n\n                      Per Student Budget  Average Math Score  \\\nBailey High School               $628.00           77.048432   \nCabrera High School              $582.00           83.061895   \nFigueroa High School             $639.00           76.711767   \nFord High School                 $644.00           77.102592   \nGriffin High School              $625.00           83.351499   \nHernandez High School            $652.00           77.289752   \nHolden High School               $581.00           83.803279   \nHuang High School                $655.00           76.629414   \nJohnson High School              $650.00           77.072464   \nPena High School                 $609.00           83.839917   \nRodriguez High School            $637.00           76.842711   \nShelton High School              $600.00           83.359455   \nThomas High School               $638.00           83.418349   \nWilson High School               $578.00           83.274201   \nWright High School               $583.00           83.682222   \n\n                       Average Reading Score  % Passing Math  \\\nBailey High School                 81.033963       66.680064   \nCabrera High School                83.975780       94.133477   \nFigueroa High School               81.158020       65.988471   \nFord High School                   80.746258       68.309602   \nGriffin High School                83.816757       93.392371   \nHernandez High School              80.934412       66.752967   \nHolden High School                 83.814988       92.505855   \nHuang High School                  81.182722       65.683922   \nJohnson High School                80.966394       66.057551   \nPena High School                   84.044699       94.594595   \nRodriguez High School              80.744686       66.366592   \nShelton High School                83.725724       93.867121   \nThomas High School                 83.848930       93.272171   \nWilson High School                 83.989488       93.867718   \nWright High School                 83.955000       93.333333   \n\n                       % Passing Reading  % Overall Passing  \\\nBailey High School             81.933280          54.642283   \nCabrera High School            97.039828          91.334769   \nFigueroa High School           80.739234          53.204476   \nFord High School               79.299014          54.289887   \nGriffin High School            97.138965          90.599455   \nHernandez High School          80.862999          53.527508   \nHolden High School             96.252927          89.227166   \nHuang High School              81.316421          53.513884   \nJohnson High School            81.222432          53.539172   \nPena High School               95.945946          90.540541   \nRodriguez High School          80.220055          52.988247   \nShelton High School            95.854628          89.892107   \nThomas High School             97.308869          90.948012   \nWilson High School             96.539641          90.582567   \nWright High School             96.611111          90.333333   \n\n                      Spending Ranges (Per Student)  \nBailey High School                         $585-629  \nCabrera High School                           <$584  \nFigueroa High School                       $630-644  \nFord High School                           $630-644  \nGriffin High School                        $585-629  \nHernandez High School                      $645-675  \nHolden High School                            <$584  \nHuang High School                          $645-675  \nJohnson High School                        $645-675  \nPena High School                           $585-629  \nRodriguez High School                      $630-644  \nShelton High School                        $585-629  \nThomas High School                         $630-644  \nWilson High School                            <$584  \nWright High School                            <$584  ",
      "text/html": "<div>\n<style scoped>\n    .dataframe tbody tr th:only-of-type {\n        vertical-align: middle;\n    }\n\n    .dataframe tbody tr th {\n        vertical-align: top;\n    }\n\n    .dataframe thead th {\n        text-align: right;\n    }\n</style>\n<table border=\"1\" class=\"dataframe\">\n  <thead>\n    <tr style=\"text-align: right;\">\n      <th></th>\n      <th>School Type</th>\n      <th>Total Students</th>\n      <th>Total School Budget</th>\n      <th>Per Student Budget</th>\n      <th>Average Math Score</th>\n      <th>Average Reading Score</th>\n      <th>% Passing Math</th>\n      <th>% Passing Reading</th>\n      <th>% Overall Passing</th>\n      <th>Spending Ranges (Per Student)</th>\n    </tr>\n  </thead>\n  <tbody>\n    <tr>\n      <th>Bailey High School</th>\n      <td>District</td>\n      <td>4976</td>\n      <td>$3,124,928.00</td>\n      <td>$628.00</td>\n      <td>77.048432</td>\n      <td>81.033963</td>\n      <td>66.680064</td>\n      <td>81.933280</td>\n      <td>54.642283</td>\n      <td>$585-629</td>\n    </tr>\n    <tr>\n      <th>Cabrera High School</th>\n      <td>Charter</td>\n      <td>1858</td>\n      <td>$1,081,356.00</td>\n      <td>$582.00</td>\n      <td>83.061895</td>\n      <td>83.975780</td>\n      <td>94.133477</td>\n      <td>97.039828</td>\n      <td>91.334769</td>\n      <td>&lt;$584</td>\n    </tr>\n    <tr>\n      <th>Figueroa High School</th>\n      <td>District</td>\n      <td>2949</td>\n      <td>$1,884,411.00</td>\n      <td>$639.00</td>\n      <td>76.711767</td>\n      <td>81.158020</td>\n      <td>65.988471</td>\n      <td>80.739234</td>\n      <td>53.204476</td>\n      <td>$630-644</td>\n    </tr>\n    <tr>\n      <th>Ford High School</th>\n      <td>District</td>\n      <td>2739</td>\n      <td>$1,763,916.00</td>\n      <td>$644.00</td>\n      <td>77.102592</td>\n      <td>80.746258</td>\n      <td>68.309602</td>\n      <td>79.299014</td>\n      <td>54.289887</td>\n      <td>$630-644</td>\n    </tr>\n    <tr>\n      <th>Griffin High School</th>\n      <td>Charter</td>\n      <td>1468</td>\n      <td>$917,500.00</td>\n      <td>$625.00</td>\n      <td>83.351499</td>\n      <td>83.816757</td>\n      <td>93.392371</td>\n      <td>97.138965</td>\n      <td>90.599455</td>\n      <td>$585-629</td>\n    </tr>\n    <tr>\n      <th>Hernandez High School</th>\n      <td>District</td>\n      <td>4635</td>\n      <td>$3,022,020.00</td>\n      <td>$652.00</td>\n      <td>77.289752</td>\n      <td>80.934412</td>\n      <td>66.752967</td>\n      <td>80.862999</td>\n      <td>53.527508</td>\n      <td>$645-675</td>\n    </tr>\n    <tr>\n      <th>Holden High School</th>\n      <td>Charter</td>\n      <td>427</td>\n      <td>$248,087.00</td>\n      <td>$581.00</td>\n      <td>83.803279</td>\n      <td>83.814988</td>\n      <td>92.505855</td>\n      <td>96.252927</td>\n      <td>89.227166</td>\n      <td>&lt;$584</td>\n    </tr>\n    <tr>\n      <th>Huang High School</th>\n      <td>District</td>\n      <td>2917</td>\n      <td>$1,910,635.00</td>\n      <td>$655.00</td>\n      <td>76.629414</td>\n      <td>81.182722</td>\n      <td>65.683922</td>\n      <td>81.316421</td>\n      <td>53.513884</td>\n      <td>$645-675</td>\n    </tr>\n    <tr>\n      <th>Johnson High School</th>\n      <td>District</td>\n      <td>4761</td>\n      <td>$3,094,650.00</td>\n      <td>$650.00</td>\n      <td>77.072464</td>\n      <td>80.966394</td>\n      <td>66.057551</td>\n      <td>81.222432</td>\n      <td>53.539172</td>\n      <td>$645-675</td>\n    </tr>\n    <tr>\n      <th>Pena High School</th>\n      <td>Charter</td>\n      <td>962</td>\n      <td>$585,858.00</td>\n      <td>$609.00</td>\n      <td>83.839917</td>\n      <td>84.044699</td>\n      <td>94.594595</td>\n      <td>95.945946</td>\n      <td>90.540541</td>\n      <td>$585-629</td>\n    </tr>\n    <tr>\n      <th>Rodriguez High School</th>\n      <td>District</td>\n      <td>3999</td>\n      <td>$2,547,363.00</td>\n      <td>$637.00</td>\n      <td>76.842711</td>\n      <td>80.744686</td>\n      <td>66.366592</td>\n      <td>80.220055</td>\n      <td>52.988247</td>\n      <td>$630-644</td>\n    </tr>\n    <tr>\n      <th>Shelton High School</th>\n      <td>Charter</td>\n      <td>1761</td>\n      <td>$1,056,600.00</td>\n      <td>$600.00</td>\n      <td>83.359455</td>\n      <td>83.725724</td>\n      <td>93.867121</td>\n      <td>95.854628</td>\n      <td>89.892107</td>\n      <td>$585-629</td>\n    </tr>\n    <tr>\n      <th>Thomas High School</th>\n      <td>Charter</td>\n      <td>1635</td>\n      <td>$1,043,130.00</td>\n      <td>$638.00</td>\n      <td>83.418349</td>\n      <td>83.848930</td>\n      <td>93.272171</td>\n      <td>97.308869</td>\n      <td>90.948012</td>\n      <td>$630-644</td>\n    </tr>\n    <tr>\n      <th>Wilson High School</th>\n      <td>Charter</td>\n      <td>2283</td>\n      <td>$1,319,574.00</td>\n      <td>$578.00</td>\n      <td>83.274201</td>\n      <td>83.989488</td>\n      <td>93.867718</td>\n      <td>96.539641</td>\n      <td>90.582567</td>\n      <td>&lt;$584</td>\n    </tr>\n    <tr>\n      <th>Wright High School</th>\n      <td>Charter</td>\n      <td>1800</td>\n      <td>$1,049,400.00</td>\n      <td>$583.00</td>\n      <td>83.682222</td>\n      <td>83.955000</td>\n      <td>93.333333</td>\n      <td>96.611111</td>\n      <td>90.333333</td>\n      <td>&lt;$584</td>\n    </tr>\n  </tbody>\n</table>\n</div>"
     },
     "metadata": {},
     "execution_count": 105
    }
   ],
   "source": [
    "# Categorize spending based on the bins.\n",
    "per_school_summary_df[\"Spending Ranges (Per Student)\"] = pd.cut(per_school_capita, spending_bins, labels=group_names)\n",
    "\n",
    "per_school_summary_df"
   ]
  },
  {
   "cell_type": "code",
   "execution_count": 106,
   "metadata": {},
   "outputs": [],
   "source": [
    "# Calculate averages for the desired columns.\n",
    "spending_math_scores = per_school_summary_df.groupby([\"Spending Ranges (Per Student)\"]).mean()[\"Average Math Score\"]\n",
    "\n",
    "spending_reading_scores = per_school_summary_df.groupby([\"Spending Ranges (Per Student)\"]).mean()[\"Average Reading Score\"]\n",
    "\n",
    "spending_passing_math = per_school_summary_df.groupby([\"Spending Ranges (Per Student)\"]).mean()[\"% Passing Math\"]\n",
    "\n",
    "spending_passing_reading = per_school_summary_df.groupby([\"Spending Ranges (Per Student)\"]).mean()[\"% Passing Reading\"]\n",
    "\n",
    "overall_passing_spending = per_school_summary_df.groupby([\"Spending Ranges (Per Student)\"]).mean()[\"% Overall Passing\"]"
   ]
  },
  {
   "cell_type": "code",
   "execution_count": 107,
   "metadata": {},
   "outputs": [
    {
     "output_type": "execute_result",
     "data": {
      "text/plain": "                               Average Math Score  Average Reading Score  \\\nSpending Ranges (Per Student)                                              \n<$584                                   83.455399              83.933814   \n$585-629                                81.899826              83.155286   \n$630-644                                78.518855              81.624473   \n$645-675                                76.997210              81.027843   \n\n                               % Passing Math  % Passing Reading  \\\nSpending Ranges (Per Student)                                      \n<$584                               93.460096          96.610877   \n$585-629                            87.133538          92.718205   \n$630-644                            73.484209          84.391793   \n$645-675                            66.164813          81.133951   \n\n                               % Overall Passing  \nSpending Ranges (Per Student)                     \n<$584                                  90.369459  \n$585-629                               81.418596  \n$630-644                               62.857656  \n$645-675                               53.526855  ",
      "text/html": "<div>\n<style scoped>\n    .dataframe tbody tr th:only-of-type {\n        vertical-align: middle;\n    }\n\n    .dataframe tbody tr th {\n        vertical-align: top;\n    }\n\n    .dataframe thead th {\n        text-align: right;\n    }\n</style>\n<table border=\"1\" class=\"dataframe\">\n  <thead>\n    <tr style=\"text-align: right;\">\n      <th></th>\n      <th>Average Math Score</th>\n      <th>Average Reading Score</th>\n      <th>% Passing Math</th>\n      <th>% Passing Reading</th>\n      <th>% Overall Passing</th>\n    </tr>\n    <tr>\n      <th>Spending Ranges (Per Student)</th>\n      <th></th>\n      <th></th>\n      <th></th>\n      <th></th>\n      <th></th>\n    </tr>\n  </thead>\n  <tbody>\n    <tr>\n      <th>&lt;$584</th>\n      <td>83.455399</td>\n      <td>83.933814</td>\n      <td>93.460096</td>\n      <td>96.610877</td>\n      <td>90.369459</td>\n    </tr>\n    <tr>\n      <th>$585-629</th>\n      <td>81.899826</td>\n      <td>83.155286</td>\n      <td>87.133538</td>\n      <td>92.718205</td>\n      <td>81.418596</td>\n    </tr>\n    <tr>\n      <th>$630-644</th>\n      <td>78.518855</td>\n      <td>81.624473</td>\n      <td>73.484209</td>\n      <td>84.391793</td>\n      <td>62.857656</td>\n    </tr>\n    <tr>\n      <th>$645-675</th>\n      <td>76.997210</td>\n      <td>81.027843</td>\n      <td>66.164813</td>\n      <td>81.133951</td>\n      <td>53.526855</td>\n    </tr>\n  </tbody>\n</table>\n</div>"
     },
     "metadata": {},
     "execution_count": 107
    }
   ],
   "source": [
    "# Assemble into DataFrame.\n",
    "spending_summary_df = pd.DataFrame({\n",
    "          \"Average Math Score\" : spending_math_scores,\n",
    "          \"Average Reading Score\": spending_reading_scores,\n",
    "          \"% Passing Math\": spending_passing_math,\n",
    "          \"% Passing Reading\": spending_passing_reading,\n",
    "          \"% Overall Passing\": overall_passing_spending})\n",
    "\n",
    "spending_summary_df"
   ]
  },
  {
   "cell_type": "code",
   "execution_count": 108,
   "metadata": {},
   "outputs": [
    {
     "output_type": "execute_result",
     "data": {
      "text/plain": "                              Average Math Score Average Reading Score  \\\nSpending Ranges (Per Student)                                            \n<$584                                       83.5                  83.9   \n$585-629                                    81.9                  83.2   \n$630-644                                    78.5                  81.6   \n$645-675                                    77.0                  81.0   \n\n                              % Passing Math % Passing Reading  \\\nSpending Ranges (Per Student)                                    \n<$584                                     93                97   \n$585-629                                  87                93   \n$630-644                                  73                84   \n$645-675                                  66                81   \n\n                              % Overall Passing  \nSpending Ranges (Per Student)                    \n<$584                                        90  \n$585-629                                     81  \n$630-644                                     63  \n$645-675                                     54  ",
      "text/html": "<div>\n<style scoped>\n    .dataframe tbody tr th:only-of-type {\n        vertical-align: middle;\n    }\n\n    .dataframe tbody tr th {\n        vertical-align: top;\n    }\n\n    .dataframe thead th {\n        text-align: right;\n    }\n</style>\n<table border=\"1\" class=\"dataframe\">\n  <thead>\n    <tr style=\"text-align: right;\">\n      <th></th>\n      <th>Average Math Score</th>\n      <th>Average Reading Score</th>\n      <th>% Passing Math</th>\n      <th>% Passing Reading</th>\n      <th>% Overall Passing</th>\n    </tr>\n    <tr>\n      <th>Spending Ranges (Per Student)</th>\n      <th></th>\n      <th></th>\n      <th></th>\n      <th></th>\n      <th></th>\n    </tr>\n  </thead>\n  <tbody>\n    <tr>\n      <th>&lt;$584</th>\n      <td>83.5</td>\n      <td>83.9</td>\n      <td>93</td>\n      <td>97</td>\n      <td>90</td>\n    </tr>\n    <tr>\n      <th>$585-629</th>\n      <td>81.9</td>\n      <td>83.2</td>\n      <td>87</td>\n      <td>93</td>\n      <td>81</td>\n    </tr>\n    <tr>\n      <th>$630-644</th>\n      <td>78.5</td>\n      <td>81.6</td>\n      <td>73</td>\n      <td>84</td>\n      <td>63</td>\n    </tr>\n    <tr>\n      <th>$645-675</th>\n      <td>77.0</td>\n      <td>81.0</td>\n      <td>66</td>\n      <td>81</td>\n      <td>54</td>\n    </tr>\n  </tbody>\n</table>\n</div>"
     },
     "metadata": {},
     "execution_count": 108
    }
   ],
   "source": [
    "# Formatting\n",
    "spending_summary_df[\"Average Math Score\"] = spending_summary_df[\"Average Math Score\"].map(\"{:.1f}\".format)\n",
    "\n",
    "spending_summary_df[\"Average Reading Score\"] = spending_summary_df[\"Average Reading Score\"].map(\"{:.1f}\".format)\n",
    "\n",
    "spending_summary_df[\"% Passing Math\"] = spending_summary_df[\"% Passing Math\"].map(\"{:.0f}\".format)\n",
    "\n",
    "spending_summary_df[\"% Passing Reading\"] = spending_summary_df[\"% Passing Reading\"].map(\"{:.0f}\".format)\n",
    "\n",
    "spending_summary_df[\"% Overall Passing\"] = spending_summary_df[\"% Overall Passing\"].map(\"{:.0f}\".format)\n",
    "\n",
    "spending_summary_df"
   ]
  },
  {
   "cell_type": "code",
   "execution_count": 109,
   "metadata": {},
   "outputs": [],
   "source": [
    "# Establish the bins.\n",
    "size_bins = [0, 1000, 2000, 5000]\n",
    "group_names = [\"Small (<1000)\", \"Medium (1000-2000)\", \"Large (2000-5000)\"]"
   ]
  },
  {
   "cell_type": "code",
   "execution_count": 110,
   "metadata": {},
   "outputs": [
    {
     "output_type": "execute_result",
     "data": {
      "text/plain": "                     School Type  Total Students Total School Budget  \\\nBailey High School      District            4976       $3,124,928.00   \nCabrera High School      Charter            1858       $1,081,356.00   \nFigueroa High School    District            2949       $1,884,411.00   \nFord High School        District            2739       $1,763,916.00   \nGriffin High School      Charter            1468         $917,500.00   \n\n                     Per Student Budget  Average Math Score  \\\nBailey High School              $628.00           77.048432   \nCabrera High School             $582.00           83.061895   \nFigueroa High School            $639.00           76.711767   \nFord High School                $644.00           77.102592   \nGriffin High School             $625.00           83.351499   \n\n                      Average Reading Score  % Passing Math  \\\nBailey High School                81.033963       66.680064   \nCabrera High School               83.975780       94.133477   \nFigueroa High School              81.158020       65.988471   \nFord High School                  80.746258       68.309602   \nGriffin High School               83.816757       93.392371   \n\n                      % Passing Reading  % Overall Passing  \\\nBailey High School            81.933280          54.642283   \nCabrera High School           97.039828          91.334769   \nFigueroa High School          80.739234          53.204476   \nFord High School              79.299014          54.289887   \nGriffin High School           97.138965          90.599455   \n\n                     Spending Ranges (Per Student)         School Size  \nBailey High School                        $585-629   Large (2000-5000)  \nCabrera High School                          <$584  Medium (1000-2000)  \nFigueroa High School                      $630-644   Large (2000-5000)  \nFord High School                          $630-644   Large (2000-5000)  \nGriffin High School                       $585-629  Medium (1000-2000)  ",
      "text/html": "<div>\n<style scoped>\n    .dataframe tbody tr th:only-of-type {\n        vertical-align: middle;\n    }\n\n    .dataframe tbody tr th {\n        vertical-align: top;\n    }\n\n    .dataframe thead th {\n        text-align: right;\n    }\n</style>\n<table border=\"1\" class=\"dataframe\">\n  <thead>\n    <tr style=\"text-align: right;\">\n      <th></th>\n      <th>School Type</th>\n      <th>Total Students</th>\n      <th>Total School Budget</th>\n      <th>Per Student Budget</th>\n      <th>Average Math Score</th>\n      <th>Average Reading Score</th>\n      <th>% Passing Math</th>\n      <th>% Passing Reading</th>\n      <th>% Overall Passing</th>\n      <th>Spending Ranges (Per Student)</th>\n      <th>School Size</th>\n    </tr>\n  </thead>\n  <tbody>\n    <tr>\n      <th>Bailey High School</th>\n      <td>District</td>\n      <td>4976</td>\n      <td>$3,124,928.00</td>\n      <td>$628.00</td>\n      <td>77.048432</td>\n      <td>81.033963</td>\n      <td>66.680064</td>\n      <td>81.933280</td>\n      <td>54.642283</td>\n      <td>$585-629</td>\n      <td>Large (2000-5000)</td>\n    </tr>\n    <tr>\n      <th>Cabrera High School</th>\n      <td>Charter</td>\n      <td>1858</td>\n      <td>$1,081,356.00</td>\n      <td>$582.00</td>\n      <td>83.061895</td>\n      <td>83.975780</td>\n      <td>94.133477</td>\n      <td>97.039828</td>\n      <td>91.334769</td>\n      <td>&lt;$584</td>\n      <td>Medium (1000-2000)</td>\n    </tr>\n    <tr>\n      <th>Figueroa High School</th>\n      <td>District</td>\n      <td>2949</td>\n      <td>$1,884,411.00</td>\n      <td>$639.00</td>\n      <td>76.711767</td>\n      <td>81.158020</td>\n      <td>65.988471</td>\n      <td>80.739234</td>\n      <td>53.204476</td>\n      <td>$630-644</td>\n      <td>Large (2000-5000)</td>\n    </tr>\n    <tr>\n      <th>Ford High School</th>\n      <td>District</td>\n      <td>2739</td>\n      <td>$1,763,916.00</td>\n      <td>$644.00</td>\n      <td>77.102592</td>\n      <td>80.746258</td>\n      <td>68.309602</td>\n      <td>79.299014</td>\n      <td>54.289887</td>\n      <td>$630-644</td>\n      <td>Large (2000-5000)</td>\n    </tr>\n    <tr>\n      <th>Griffin High School</th>\n      <td>Charter</td>\n      <td>1468</td>\n      <td>$917,500.00</td>\n      <td>$625.00</td>\n      <td>83.351499</td>\n      <td>83.816757</td>\n      <td>93.392371</td>\n      <td>97.138965</td>\n      <td>90.599455</td>\n      <td>$585-629</td>\n      <td>Medium (1000-2000)</td>\n    </tr>\n  </tbody>\n</table>\n</div>"
     },
     "metadata": {},
     "execution_count": 110
    }
   ],
   "source": [
    "# Categorize spending based on the bins.\n",
    "per_school_summary_df[\"School Size\"] = pd.cut(per_school_summary_df[\"Total Students\"], size_bins, labels=group_names)\n",
    "\n",
    "per_school_summary_df.head()"
   ]
  },
  {
   "cell_type": "code",
   "execution_count": 111,
   "metadata": {},
   "outputs": [],
   "source": [
    "# Calculate averages for the desired columns.\n",
    "size_math_scores = per_school_summary_df.groupby([\"School Size\"]).mean()[\"Average Math Score\"]\n",
    "\n",
    "size_reading_scores = per_school_summary_df.groupby([\"School Size\"]).mean()[\"Average Reading Score\"]\n",
    "\n",
    "size_passing_math = per_school_summary_df.groupby([\"School Size\"]).mean()[\"% Passing Math\"]\n",
    "\n",
    "size_passing_reading = per_school_summary_df.groupby([\"School Size\"]).mean()[\"% Passing Reading\"]\n",
    "\n",
    "size_overall_passing = per_school_summary_df.groupby([\"School Size\"]).mean()[\"% Overall Passing\"]"
   ]
  },
  {
   "cell_type": "code",
   "execution_count": 112,
   "metadata": {},
   "outputs": [
    {
     "output_type": "execute_result",
     "data": {
      "text/plain": "                    Average Math Score  Average Reading Score  % Passing Math  \\\nSchool Size                                                                     \nSmall (<1000)                83.821598              83.929843       93.550225   \nMedium (1000-2000)           83.374684              83.864438       93.599695   \nLarge (2000-5000)            77.746417              81.344493       69.963361   \n\n                    % Passing Reading  % Overall Passing  \nSchool Size                                               \nSmall (<1000)               96.099437          89.883853  \nMedium (1000-2000)          96.790680          90.621535  \nLarge (2000-5000)           82.766634          58.286003  ",
      "text/html": "<div>\n<style scoped>\n    .dataframe tbody tr th:only-of-type {\n        vertical-align: middle;\n    }\n\n    .dataframe tbody tr th {\n        vertical-align: top;\n    }\n\n    .dataframe thead th {\n        text-align: right;\n    }\n</style>\n<table border=\"1\" class=\"dataframe\">\n  <thead>\n    <tr style=\"text-align: right;\">\n      <th></th>\n      <th>Average Math Score</th>\n      <th>Average Reading Score</th>\n      <th>% Passing Math</th>\n      <th>% Passing Reading</th>\n      <th>% Overall Passing</th>\n    </tr>\n    <tr>\n      <th>School Size</th>\n      <th></th>\n      <th></th>\n      <th></th>\n      <th></th>\n      <th></th>\n    </tr>\n  </thead>\n  <tbody>\n    <tr>\n      <th>Small (&lt;1000)</th>\n      <td>83.821598</td>\n      <td>83.929843</td>\n      <td>93.550225</td>\n      <td>96.099437</td>\n      <td>89.883853</td>\n    </tr>\n    <tr>\n      <th>Medium (1000-2000)</th>\n      <td>83.374684</td>\n      <td>83.864438</td>\n      <td>93.599695</td>\n      <td>96.790680</td>\n      <td>90.621535</td>\n    </tr>\n    <tr>\n      <th>Large (2000-5000)</th>\n      <td>77.746417</td>\n      <td>81.344493</td>\n      <td>69.963361</td>\n      <td>82.766634</td>\n      <td>58.286003</td>\n    </tr>\n  </tbody>\n</table>\n</div>"
     },
     "metadata": {},
     "execution_count": 112
    }
   ],
   "source": [
    "# Assemble into DataFrame.\n",
    "size_summary_df = pd.DataFrame({\n",
    "          \"Average Math Score\" : size_math_scores,\n",
    "          \"Average Reading Score\": size_reading_scores,\n",
    "          \"% Passing Math\": size_passing_math,\n",
    "          \"% Passing Reading\": size_passing_reading,\n",
    "          \"% Overall Passing\": size_overall_passing})\n",
    "\n",
    "size_summary_df"
   ]
  },
  {
   "cell_type": "code",
   "execution_count": 113,
   "metadata": {},
   "outputs": [
    {
     "output_type": "execute_result",
     "data": {
      "text/plain": "                   Average Math Score Average Reading Score % Passing Math  \\\nSchool Size                                                                  \nSmall (<1000)                    83.8                  83.9             94   \nMedium (1000-2000)               83.4                  83.9             94   \nLarge (2000-5000)                77.7                  81.3             70   \n\n                   % Passing Reading % Overall Passing  \nSchool Size                                             \nSmall (<1000)                     96                90  \nMedium (1000-2000)                97                91  \nLarge (2000-5000)                 83                58  ",
      "text/html": "<div>\n<style scoped>\n    .dataframe tbody tr th:only-of-type {\n        vertical-align: middle;\n    }\n\n    .dataframe tbody tr th {\n        vertical-align: top;\n    }\n\n    .dataframe thead th {\n        text-align: right;\n    }\n</style>\n<table border=\"1\" class=\"dataframe\">\n  <thead>\n    <tr style=\"text-align: right;\">\n      <th></th>\n      <th>Average Math Score</th>\n      <th>Average Reading Score</th>\n      <th>% Passing Math</th>\n      <th>% Passing Reading</th>\n      <th>% Overall Passing</th>\n    </tr>\n    <tr>\n      <th>School Size</th>\n      <th></th>\n      <th></th>\n      <th></th>\n      <th></th>\n      <th></th>\n    </tr>\n  </thead>\n  <tbody>\n    <tr>\n      <th>Small (&lt;1000)</th>\n      <td>83.8</td>\n      <td>83.9</td>\n      <td>94</td>\n      <td>96</td>\n      <td>90</td>\n    </tr>\n    <tr>\n      <th>Medium (1000-2000)</th>\n      <td>83.4</td>\n      <td>83.9</td>\n      <td>94</td>\n      <td>97</td>\n      <td>91</td>\n    </tr>\n    <tr>\n      <th>Large (2000-5000)</th>\n      <td>77.7</td>\n      <td>81.3</td>\n      <td>70</td>\n      <td>83</td>\n      <td>58</td>\n    </tr>\n  </tbody>\n</table>\n</div>"
     },
     "metadata": {},
     "execution_count": 113
    }
   ],
   "source": [
    "# Formatting.\n",
    "size_summary_df[\"Average Math Score\"] = size_summary_df[\"Average Math Score\"].map(\"{:.1f}\".format)\n",
    "\n",
    "size_summary_df[\"Average Reading Score\"] = size_summary_df[\"Average Reading Score\"].map(\"{:.1f}\".format)\n",
    "\n",
    "size_summary_df[\"% Passing Math\"] = size_summary_df[\"% Passing Math\"].map(\"{:.0f}\".format)\n",
    "\n",
    "size_summary_df[\"% Passing Reading\"] = size_summary_df[\"% Passing Reading\"].map(\"{:.0f}\".format)\n",
    "\n",
    "size_summary_df[\"% Overall Passing\"] = size_summary_df[\"% Overall Passing\"].map(\"{:.0f}\".format)\n",
    "\n",
    "size_summary_df"
   ]
  },
  {
   "cell_type": "code",
   "execution_count": 114,
   "metadata": {},
   "outputs": [],
   "source": [
    "# Calculate averages for the desired columns.\n",
    "type_math_scores = per_school_summary_df.groupby([\"School Type\"]).mean()[\"Average Math Score\"]\n",
    "\n",
    "type_reading_scores = per_school_summary_df.groupby([\"School Type\"]).mean()[\"Average Reading Score\"]\n",
    "\n",
    "type_passing_math = per_school_summary_df.groupby([\"School Type\"]).mean()[\"% Passing Math\"]\n",
    "\n",
    "type_passing_reading = per_school_summary_df.groupby([\"School Type\"]).mean()[\"% Passing Reading\"]\n",
    "\n",
    "type_overall_passing = per_school_summary_df.groupby([\"School Type\"]).mean()[\"% Overall Passing\"]"
   ]
  },
  {
   "cell_type": "code",
   "execution_count": 115,
   "metadata": {},
   "outputs": [
    {
     "output_type": "execute_result",
     "data": {
      "text/plain": "             Average Math Score  Average Reading Score  % Passing Math  \\\nSchool Type                                                              \nCharter               83.473852              83.896421       93.620830   \nDistrict              76.956733              80.966636       66.548453   \n\n             % Passing Reading  % Overall Passing  \nSchool Type                                        \nCharter              96.586489          90.432244  \nDistrict             80.799062          53.672208  ",
      "text/html": "<div>\n<style scoped>\n    .dataframe tbody tr th:only-of-type {\n        vertical-align: middle;\n    }\n\n    .dataframe tbody tr th {\n        vertical-align: top;\n    }\n\n    .dataframe thead th {\n        text-align: right;\n    }\n</style>\n<table border=\"1\" class=\"dataframe\">\n  <thead>\n    <tr style=\"text-align: right;\">\n      <th></th>\n      <th>Average Math Score</th>\n      <th>Average Reading Score</th>\n      <th>% Passing Math</th>\n      <th>% Passing Reading</th>\n      <th>% Overall Passing</th>\n    </tr>\n    <tr>\n      <th>School Type</th>\n      <th></th>\n      <th></th>\n      <th></th>\n      <th></th>\n      <th></th>\n    </tr>\n  </thead>\n  <tbody>\n    <tr>\n      <th>Charter</th>\n      <td>83.473852</td>\n      <td>83.896421</td>\n      <td>93.620830</td>\n      <td>96.586489</td>\n      <td>90.432244</td>\n    </tr>\n    <tr>\n      <th>District</th>\n      <td>76.956733</td>\n      <td>80.966636</td>\n      <td>66.548453</td>\n      <td>80.799062</td>\n      <td>53.672208</td>\n    </tr>\n  </tbody>\n</table>\n</div>"
     },
     "metadata": {},
     "execution_count": 115
    }
   ],
   "source": [
    "# Assemble into DataFrame.\n",
    "type_summary_df = pd.DataFrame({\n",
    "          \"Average Math Score\" : type_math_scores,\n",
    "          \"Average Reading Score\": type_reading_scores,\n",
    "          \"% Passing Math\": type_passing_math,\n",
    "          \"% Passing Reading\": type_passing_reading,\n",
    "          \"% Overall Passing\": type_overall_passing})\n",
    "\n",
    "type_summary_df"
   ]
  }
 ],
 "metadata": {
  "kernelspec": {
   "display_name": "Python 3",
   "language": "python",
   "name": "python3"
  },
  "language_info": {
   "codemirror_mode": {
    "name": "ipython",
    "version": 3
   },
   "file_extension": ".py",
   "mimetype": "text/x-python",
   "name": "python",
   "nbconvert_exporter": "python",
   "pygments_lexer": "ipython3",
   "version": "3.6.10-final"
  }
 },
 "nbformat": 4,
 "nbformat_minor": 4
}